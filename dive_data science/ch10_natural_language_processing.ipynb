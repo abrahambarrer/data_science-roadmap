{
 "cells": [
  {
   "cell_type": "markdown",
   "id": "34d77a6d",
   "metadata": {},
   "source": [
    "# Natural Language Processing"
   ]
  },
  {
   "cell_type": "markdown",
   "id": "c8b38031",
   "metadata": {},
   "source": [
    "Una manera de detectar plagios sería identificar coincidencias exactas entre textos, o, de manera alternativa, identificar *similitudes* como sinónimos y expresiones similares. Este enfoque es más complejo."
   ]
  },
  {
   "cell_type": "code",
   "execution_count": 5,
   "id": "f1e191e3",
   "metadata": {},
   "outputs": [],
   "source": [
    "import numpy as np \n",
    "def euclidean(vec1,vec2): \n",
    "    distance=np.array(vec1)-np.array(vec2) \n",
    "    squared_sum=np.sum(distance**2) \n",
    "    return np.sqrt(squared_sum)"
   ]
  },
  {
   "cell_type": "markdown",
   "id": "ef7ee588",
   "metadata": {},
   "source": [
    "## word2vec"
   ]
  },
  {
   "cell_type": "markdown",
   "id": "e699ab7f",
   "metadata": {},
   "source": [
    "We'll use data that comes from a large collection of natural language text,also called a corpus. A corpus may be a collection of books, newspaper articles, research papers, theatrical plays, or blog posts or a mix of these.The  mportant point is that it consists of natural language—phrases and sentences that were put together by humans and reflect the way humans speak and write. Once we have our natural language corpus, we can look athow to use it to quantify the meanings of words."
   ]
  },
  {
   "cell_type": "code",
   "execution_count": 1,
   "id": "3568da21",
   "metadata": {},
   "outputs": [],
   "source": [
    "import gensim.downloader as api"
   ]
  },
  {
   "cell_type": "code",
   "execution_count": 2,
   "id": "83e55b30",
   "metadata": {},
   "outputs": [],
   "source": [
    "vectors = api.load('word2vec-google-news-300')"
   ]
  },
  {
   "cell_type": "code",
   "execution_count": 4,
   "id": "698ffd5b",
   "metadata": {
    "scrolled": false
   },
   "outputs": [
    {
     "data": {
      "text/plain": [
       "array([ 0.51953125,  0.1875    ,  0.31445312, -0.20605469, -0.0078125 ,\n",
       "        0.375     ,  0.22558594, -0.02441406, -0.06445312,  0.27929688,\n",
       "        0.02746582, -0.24511719, -0.21582031,  0.13574219, -0.27148438,\n",
       "       -0.09130859, -0.06884766, -0.08349609,  0.14160156, -0.14160156,\n",
       "        0.24316406, -0.23730469,  0.32421875, -0.00582886, -0.12792969,\n",
       "        0.0201416 ,  0.07617188, -0.10742188,  0.16894531, -0.12988281,\n",
       "        0.07958984,  0.2265625 ,  0.11035156,  0.12792969,  0.02856445,\n",
       "        0.01965332, -0.06933594,  0.21875   , -0.06738281, -0.04370117,\n",
       "        0.23046875,  0.07714844,  0.49804688, -0.14550781,  0.23632812,\n",
       "       -0.10009766,  0.02893066, -0.16699219,  0.09814453, -0.24804688,\n",
       "       -0.09082031,  0.3515625 , -0.00439453, -0.29296875,  0.00793457,\n",
       "       -0.140625  , -0.10888672,  0.00212097, -0.13476562, -0.02575684,\n",
       "       -0.02148438,  0.10888672,  0.07324219,  0.15332031, -0.06835938,\n",
       "       -0.01831055,  0.08544922, -0.39257812,  0.03979492,  0.12890625,\n",
       "        0.10595703, -0.13476562,  0.05224609, -0.25      , -0.16113281,\n",
       "       -0.11523438,  0.00117493, -0.17480469,  0.04248047, -0.42382812,\n",
       "        0.03710938, -0.02770996, -0.06445312, -0.12011719, -0.18261719,\n",
       "        0.24023438, -0.45117188, -0.12109375,  0.06933594, -0.00668335,\n",
       "       -0.13574219,  0.07666016, -0.19726562, -0.19042969,  0.27148438,\n",
       "       -0.20898438,  0.05102539, -0.15722656,  0.10644531, -0.22851562,\n",
       "       -0.11962891, -0.29492188,  0.10400391, -0.20605469,  0.13671875,\n",
       "       -0.11132812,  0.14746094, -0.13085938,  0.34765625, -0.24707031,\n",
       "       -0.12890625,  0.07714844,  0.34179688,  0.08691406, -0.20703125,\n",
       "        0.07666016, -0.05224609,  0.09716797,  0.11621094,  0.08349609,\n",
       "        0.15722656, -0.02478027,  0.01855469, -0.28125   ,  0.02636719,\n",
       "       -0.22753906,  0.1171875 , -0.10449219, -0.06835938,  0.05004883,\n",
       "       -0.07177734, -0.15625   , -0.72265625, -0.06640625,  0.01324463,\n",
       "        0.35742188, -0.06396484,  0.00259399, -0.15917969,  0.23925781,\n",
       "        0.08691406, -0.0324707 , -0.00646973, -0.15917969, -0.07275391,\n",
       "        0.15234375, -0.05126953, -0.05224609,  0.1796875 ,  0.05834961,\n",
       "        0.29296875,  0.265625  ,  0.01794434,  0.25195312, -0.125     ,\n",
       "        0.07080078, -0.10058594, -0.03857422,  0.02954102, -0.08642578,\n",
       "        0.11425781,  0.03588867,  0.22949219, -0.21191406, -0.35546875,\n",
       "       -0.30664062,  0.24023438, -0.3046875 , -0.20996094,  0.03271484,\n",
       "        0.12402344, -0.24511719, -0.00230408, -0.15820312,  0.08886719,\n",
       "       -0.43945312, -0.14746094, -0.13085938, -0.08642578, -0.18261719,\n",
       "       -0.43945312, -0.19921875,  0.15136719,  0.01782227, -0.09570312,\n",
       "        0.03881836,  0.40234375, -0.09472656,  0.15625   , -0.07128906,\n",
       "        0.13085938,  0.00775146, -0.39257812,  0.11621094,  0.12402344,\n",
       "       -0.18554688, -0.02478027,  0.13183594,  0.08056641, -0.27148438,\n",
       "       -0.05712891, -0.3046875 , -0.19433594, -0.14453125, -0.08349609,\n",
       "        0.03613281, -0.125     ,  0.00704956, -0.21972656, -0.11914062,\n",
       "       -0.21484375,  0.12109375, -0.21777344, -0.3359375 , -0.18066406,\n",
       "       -0.36523438, -0.390625  ,  0.12158203, -0.078125  ,  0.51171875,\n",
       "        0.09375   , -0.22167969,  0.12109375, -0.1328125 , -0.01843262,\n",
       "       -0.02233887,  0.08496094,  0.04101562,  0.07763672, -0.10400391,\n",
       "       -0.08544922, -0.15136719, -0.01452637,  0.19824219,  0.43945312,\n",
       "        0.06933594, -0.08203125,  0.10693359,  0.47851562,  0.21777344,\n",
       "       -0.0267334 , -0.24511719, -0.02197266, -0.26367188,  0.18554688,\n",
       "       -0.23632812,  0.19628906, -0.19238281,  0.17285156, -0.13867188,\n",
       "       -0.2890625 ,  0.0859375 , -0.05761719,  0.09423828, -0.02978516,\n",
       "       -0.11230469, -0.34179688, -0.12792969, -0.04638672, -0.03076172,\n",
       "       -0.00317383,  0.359375  , -0.1015625 , -0.40234375, -0.16308594,\n",
       "        0.2734375 , -0.02734375, -0.14648438, -0.00805664,  0.08203125,\n",
       "        0.13378906,  0.1953125 , -0.12402344, -0.03637695,  0.5859375 ,\n",
       "       -0.03295898, -0.08056641, -0.17480469, -0.13574219,  0.47265625,\n",
       "       -0.04711914,  0.18945312,  0.26953125,  0.10742188,  0.01483154,\n",
       "        0.15039062, -0.16113281, -0.09326172, -0.13964844,  0.04052734,\n",
       "       -0.16308594, -0.14453125, -0.20996094,  0.16699219,  0.02001953,\n",
       "       -0.28125   ,  0.15722656, -0.03344727, -0.2734375 ,  0.28125   ],\n",
       "      dtype=float32)"
      ]
     },
     "execution_count": 4,
     "metadata": {},
     "output_type": "execute_result"
    }
   ],
   "source": [
    "vectors['sword']"
   ]
  },
  {
   "cell_type": "code",
   "execution_count": 6,
   "id": "f1ff1528",
   "metadata": {},
   "outputs": [
    {
     "name": "stdout",
     "output_type": "stream",
     "text": [
      "3.2766972\n",
      "4.9384727\n",
      "2.608656\n"
     ]
    }
   ],
   "source": [
    "print(euclidean(vectors['sword'],vectors['knife'])) \n",
    "print(euclidean(vectors['sword'],vectors['herring'])) \n",
    "print(euclidean(vectors['car'],vectors['van']))"
   ]
  },
  {
   "cell_type": "code",
   "execution_count": 7,
   "id": "81bcbf8c",
   "metadata": {},
   "outputs": [],
   "source": [
    "def dot_product(vector1,vector2): \n",
    "    thedotproduct=np.sum([vector1[k]*vector2[k] for k in range(0,len(vector1))]) \n",
    "    return(thedotproduct) \n",
    "def vector_norm(vector): \n",
    "    thenorm=np.sqrt(dot_product(vector,vector)) \n",
    "    return(thenorm) \n",
    "def cosine_similarity(vector1,vector2): \n",
    "    thecosine=0 \n",
    "    thedotproduct=dot_product(vector1,vector2) \n",
    "    thecosine=thedotproduct/(vector_norm(vector1)*vector_norm(vector2)) \n",
    "    thecosine=np.round(thecosine,4) \n",
    "    return(thecosine)"
   ]
  },
  {
   "cell_type": "code",
   "execution_count": 8,
   "id": "469b0183",
   "metadata": {},
   "outputs": [
    {
     "name": "stdout",
     "output_type": "stream",
     "text": [
      "0.5576\n",
      "0.0529\n",
      "0.6116\n"
     ]
    }
   ],
   "source": [
    "print(cosine_similarity(vectors['sword'],vectors['knife'])) \n",
    "print(cosine_similarity(vectors['sword'],vectors['herring'])) \n",
    "print(cosine_similarity(vectors['car'],vectors['van']))"
   ]
  },
  {
   "cell_type": "markdown",
   "id": "5588a7e3",
   "metadata": {},
   "source": [
    "## Manipulando vectores matemáticamente"
   ]
  },
  {
   "cell_type": "code",
   "execution_count": 9,
   "id": "c5ed4790",
   "metadata": {},
   "outputs": [],
   "source": [
    "king = vectors['king'] \n",
    "queen = vectors['queen'] \n",
    "man = vectors['man'] \n",
    "woman = vectors['woman']"
   ]
  },
  {
   "cell_type": "markdown",
   "id": "e5f59ff2",
   "metadata": {},
   "source": [
    "Hagamos expresión simbólica entre las palabras *king, queen, mand y woman*:\n",
    "> king - man + woman = queen\n",
    "\n",
    "Esto es imposible desde el lenguaje. En nuestro modelo de vectores, es posible efectuar la operación izquierda, esperando obtener un vector similar o igual al vector queen."
   ]
  },
  {
   "cell_type": "code",
   "execution_count": 10,
   "id": "5783f7bc",
   "metadata": {},
   "outputs": [],
   "source": [
    "newvector = king-man+woman"
   ]
  },
  {
   "cell_type": "code",
   "execution_count": 11,
   "id": "fb92354c",
   "metadata": {},
   "outputs": [
    {
     "name": "stdout",
     "output_type": "stream",
     "text": [
      "0.7301\n",
      "2.298658\n"
     ]
    }
   ],
   "source": [
    "print(cosine_similarity(newvector,queen)) \n",
    "print(euclidean(newvector,queen))"
   ]
  },
  {
   "cell_type": "code",
   "execution_count": 12,
   "id": "a57103d9",
   "metadata": {},
   "outputs": [
    {
     "name": "stdout",
     "output_type": "stream",
     "text": [
      "0.6992\n",
      "2.7537737\n"
     ]
    }
   ],
   "source": [
    "print(cosine_similarity(vectors['fish'],vectors['herring'])) \n",
    "print(euclidean(vectors['fish'],vectors['herring']))"
   ]
  },
  {
   "cell_type": "markdown",
   "id": "3ad7775e",
   "metadata": {},
   "source": [
    "## Detectando plagio"
   ]
  },
  {
   "cell_type": "code",
   "execution_count": 13,
   "id": "97a6d18c",
   "metadata": {},
   "outputs": [
    {
     "name": "stdout",
     "output_type": "stream",
     "text": [
      "1.0\n",
      "0.0\n"
     ]
    }
   ],
   "source": [
    "print(cosine_similarity(vectors['the'],vectors['the'])) \n",
    "print(euclidean(vectors['having'],vectors['having']))"
   ]
  },
  {
   "cell_type": "code",
   "execution_count": 15,
   "id": "4e3bc3c8",
   "metadata": {},
   "outputs": [
    {
     "name": "stdout",
     "output_type": "stream",
     "text": [
      "0.5327\n",
      "2.9844923\n",
      "0.3435\n"
     ]
    }
   ],
   "source": [
    "print(cosine_similarity(vectors['trouble'],vectors['problem'])) \n",
    "print(euclidean(vectors['come'],vectors['approach'])) \n",
    "print(cosine_similarity(vectors['put'],vectors['insert']))"
   ]
  },
  {
   "cell_type": "code",
   "execution_count": null,
   "id": "80b9d7b5",
   "metadata": {},
   "outputs": [],
   "source": []
  }
 ],
 "metadata": {
  "kernelspec": {
   "display_name": "Python [conda env:ambiente]",
   "language": "python",
   "name": "conda-env-ambiente-py"
  },
  "language_info": {
   "codemirror_mode": {
    "name": "ipython",
    "version": 3
   },
   "file_extension": ".py",
   "mimetype": "text/x-python",
   "name": "python",
   "nbconvert_exporter": "python",
   "pygments_lexer": "ipython3",
   "version": "3.12.3"
  }
 },
 "nbformat": 4,
 "nbformat_minor": 5
}
