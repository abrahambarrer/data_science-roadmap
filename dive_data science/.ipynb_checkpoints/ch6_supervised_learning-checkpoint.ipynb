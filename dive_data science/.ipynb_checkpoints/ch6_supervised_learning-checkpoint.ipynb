{
 "cells": [
  {
   "cell_type": "code",
   "execution_count": 1,
   "metadata": {
    "cell_id": "302cb41ffb10469f9f7a0eeb1eb3463e",
    "deepnote_cell_type": "code",
    "deepnote_to_be_reexecuted": false,
    "execution_context_id": "a96d1a3b-1020-490b-a551-fc6694615471",
    "execution_millis": 1918,
    "execution_start": 1728061495448,
    "source_hash": "11bb6e8d"
   },
   "outputs": [],
   "source": [
    "import pandas as pd\n",
    "from matplotlib import pyplot as plt\n",
    "from sklearn.linear_model import LinearRegression\n",
    "from sklearn.neighbors import KNeighborsRegressor\n",
    "from sklearn.tree import DecisionTreeRegressor, plot_tree\n",
    "import numpy as np"
   ]
  },
  {
   "cell_type": "markdown",
   "metadata": {
    "cell_id": "30cb27658a43448386bee16f6e071b14",
    "deepnote_app_block_visible": false,
    "deepnote_cell_type": "markdown"
   },
   "source": [
    "# Supervised learning\n",
    "El dataset contiene informnación acerca de los artículos publicados en un sitio web (*Mashable*). Interesa saber cuánto ingreso podemos esperar por cada artículo.\n",
    "\n",
    "Dado que el dataset no contiene informnación acerca de los ingresos, se supondrá que los ingresos están relacionado con las visitas a los articulos, y que las visitas están relacionadas con la cantidad de veces que el artículo se comparte."
   ]
  },
  {
   "cell_type": "code",
   "execution_count": 2,
   "metadata": {
    "cell_id": "0d030bbc66344144a6f2086e2bc05840",
    "deepnote_cell_type": "code",
    "deepnote_to_be_reexecuted": false,
    "execution_context_id": "a96d1a3b-1020-490b-a551-fc6694615471",
    "execution_millis": 1053,
    "execution_start": 1728061497414,
    "source_hash": "f2bb73ec"
   },
   "outputs": [
    {
     "ename": "FileNotFoundError",
     "evalue": "[Errno 2] No such file or directory: 'OnlineNewsPopularity.csv'",
     "output_type": "error",
     "traceback": [
      "\u001b[1;31m---------------------------------------------------------------------------\u001b[0m",
      "\u001b[1;31mFileNotFoundError\u001b[0m                         Traceback (most recent call last)",
      "Cell \u001b[1;32mIn[2], line 1\u001b[0m\n\u001b[1;32m----> 1\u001b[0m news \u001b[38;5;241m=\u001b[39m pd\u001b[38;5;241m.\u001b[39mread_csv(\u001b[38;5;124m'\u001b[39m\u001b[38;5;124mOnlineNewsPopularity.csv\u001b[39m\u001b[38;5;124m'\u001b[39m)\n",
      "File \u001b[1;32md:\\cursos\\data_science\\ambiente\\Lib\\site-packages\\pandas\\io\\parsers\\readers.py:1026\u001b[0m, in \u001b[0;36mread_csv\u001b[1;34m(filepath_or_buffer, sep, delimiter, header, names, index_col, usecols, dtype, engine, converters, true_values, false_values, skipinitialspace, skiprows, skipfooter, nrows, na_values, keep_default_na, na_filter, verbose, skip_blank_lines, parse_dates, infer_datetime_format, keep_date_col, date_parser, date_format, dayfirst, cache_dates, iterator, chunksize, compression, thousands, decimal, lineterminator, quotechar, quoting, doublequote, escapechar, comment, encoding, encoding_errors, dialect, on_bad_lines, delim_whitespace, low_memory, memory_map, float_precision, storage_options, dtype_backend)\u001b[0m\n\u001b[0;32m   1013\u001b[0m kwds_defaults \u001b[38;5;241m=\u001b[39m _refine_defaults_read(\n\u001b[0;32m   1014\u001b[0m     dialect,\n\u001b[0;32m   1015\u001b[0m     delimiter,\n\u001b[1;32m   (...)\u001b[0m\n\u001b[0;32m   1022\u001b[0m     dtype_backend\u001b[38;5;241m=\u001b[39mdtype_backend,\n\u001b[0;32m   1023\u001b[0m )\n\u001b[0;32m   1024\u001b[0m kwds\u001b[38;5;241m.\u001b[39mupdate(kwds_defaults)\n\u001b[1;32m-> 1026\u001b[0m \u001b[38;5;28;01mreturn\u001b[39;00m _read(filepath_or_buffer, kwds)\n",
      "File \u001b[1;32md:\\cursos\\data_science\\ambiente\\Lib\\site-packages\\pandas\\io\\parsers\\readers.py:620\u001b[0m, in \u001b[0;36m_read\u001b[1;34m(filepath_or_buffer, kwds)\u001b[0m\n\u001b[0;32m    617\u001b[0m _validate_names(kwds\u001b[38;5;241m.\u001b[39mget(\u001b[38;5;124m\"\u001b[39m\u001b[38;5;124mnames\u001b[39m\u001b[38;5;124m\"\u001b[39m, \u001b[38;5;28;01mNone\u001b[39;00m))\n\u001b[0;32m    619\u001b[0m \u001b[38;5;66;03m# Create the parser.\u001b[39;00m\n\u001b[1;32m--> 620\u001b[0m parser \u001b[38;5;241m=\u001b[39m TextFileReader(filepath_or_buffer, \u001b[38;5;241m*\u001b[39m\u001b[38;5;241m*\u001b[39mkwds)\n\u001b[0;32m    622\u001b[0m \u001b[38;5;28;01mif\u001b[39;00m chunksize \u001b[38;5;129;01mor\u001b[39;00m iterator:\n\u001b[0;32m    623\u001b[0m     \u001b[38;5;28;01mreturn\u001b[39;00m parser\n",
      "File \u001b[1;32md:\\cursos\\data_science\\ambiente\\Lib\\site-packages\\pandas\\io\\parsers\\readers.py:1620\u001b[0m, in \u001b[0;36mTextFileReader.__init__\u001b[1;34m(self, f, engine, **kwds)\u001b[0m\n\u001b[0;32m   1617\u001b[0m     \u001b[38;5;28mself\u001b[39m\u001b[38;5;241m.\u001b[39moptions[\u001b[38;5;124m\"\u001b[39m\u001b[38;5;124mhas_index_names\u001b[39m\u001b[38;5;124m\"\u001b[39m] \u001b[38;5;241m=\u001b[39m kwds[\u001b[38;5;124m\"\u001b[39m\u001b[38;5;124mhas_index_names\u001b[39m\u001b[38;5;124m\"\u001b[39m]\n\u001b[0;32m   1619\u001b[0m \u001b[38;5;28mself\u001b[39m\u001b[38;5;241m.\u001b[39mhandles: IOHandles \u001b[38;5;241m|\u001b[39m \u001b[38;5;28;01mNone\u001b[39;00m \u001b[38;5;241m=\u001b[39m \u001b[38;5;28;01mNone\u001b[39;00m\n\u001b[1;32m-> 1620\u001b[0m \u001b[38;5;28mself\u001b[39m\u001b[38;5;241m.\u001b[39m_engine \u001b[38;5;241m=\u001b[39m \u001b[38;5;28mself\u001b[39m\u001b[38;5;241m.\u001b[39m_make_engine(f, \u001b[38;5;28mself\u001b[39m\u001b[38;5;241m.\u001b[39mengine)\n",
      "File \u001b[1;32md:\\cursos\\data_science\\ambiente\\Lib\\site-packages\\pandas\\io\\parsers\\readers.py:1880\u001b[0m, in \u001b[0;36mTextFileReader._make_engine\u001b[1;34m(self, f, engine)\u001b[0m\n\u001b[0;32m   1878\u001b[0m     \u001b[38;5;28;01mif\u001b[39;00m \u001b[38;5;124m\"\u001b[39m\u001b[38;5;124mb\u001b[39m\u001b[38;5;124m\"\u001b[39m \u001b[38;5;129;01mnot\u001b[39;00m \u001b[38;5;129;01min\u001b[39;00m mode:\n\u001b[0;32m   1879\u001b[0m         mode \u001b[38;5;241m+\u001b[39m\u001b[38;5;241m=\u001b[39m \u001b[38;5;124m\"\u001b[39m\u001b[38;5;124mb\u001b[39m\u001b[38;5;124m\"\u001b[39m\n\u001b[1;32m-> 1880\u001b[0m \u001b[38;5;28mself\u001b[39m\u001b[38;5;241m.\u001b[39mhandles \u001b[38;5;241m=\u001b[39m get_handle(\n\u001b[0;32m   1881\u001b[0m     f,\n\u001b[0;32m   1882\u001b[0m     mode,\n\u001b[0;32m   1883\u001b[0m     encoding\u001b[38;5;241m=\u001b[39m\u001b[38;5;28mself\u001b[39m\u001b[38;5;241m.\u001b[39moptions\u001b[38;5;241m.\u001b[39mget(\u001b[38;5;124m\"\u001b[39m\u001b[38;5;124mencoding\u001b[39m\u001b[38;5;124m\"\u001b[39m, \u001b[38;5;28;01mNone\u001b[39;00m),\n\u001b[0;32m   1884\u001b[0m     compression\u001b[38;5;241m=\u001b[39m\u001b[38;5;28mself\u001b[39m\u001b[38;5;241m.\u001b[39moptions\u001b[38;5;241m.\u001b[39mget(\u001b[38;5;124m\"\u001b[39m\u001b[38;5;124mcompression\u001b[39m\u001b[38;5;124m\"\u001b[39m, \u001b[38;5;28;01mNone\u001b[39;00m),\n\u001b[0;32m   1885\u001b[0m     memory_map\u001b[38;5;241m=\u001b[39m\u001b[38;5;28mself\u001b[39m\u001b[38;5;241m.\u001b[39moptions\u001b[38;5;241m.\u001b[39mget(\u001b[38;5;124m\"\u001b[39m\u001b[38;5;124mmemory_map\u001b[39m\u001b[38;5;124m\"\u001b[39m, \u001b[38;5;28;01mFalse\u001b[39;00m),\n\u001b[0;32m   1886\u001b[0m     is_text\u001b[38;5;241m=\u001b[39mis_text,\n\u001b[0;32m   1887\u001b[0m     errors\u001b[38;5;241m=\u001b[39m\u001b[38;5;28mself\u001b[39m\u001b[38;5;241m.\u001b[39moptions\u001b[38;5;241m.\u001b[39mget(\u001b[38;5;124m\"\u001b[39m\u001b[38;5;124mencoding_errors\u001b[39m\u001b[38;5;124m\"\u001b[39m, \u001b[38;5;124m\"\u001b[39m\u001b[38;5;124mstrict\u001b[39m\u001b[38;5;124m\"\u001b[39m),\n\u001b[0;32m   1888\u001b[0m     storage_options\u001b[38;5;241m=\u001b[39m\u001b[38;5;28mself\u001b[39m\u001b[38;5;241m.\u001b[39moptions\u001b[38;5;241m.\u001b[39mget(\u001b[38;5;124m\"\u001b[39m\u001b[38;5;124mstorage_options\u001b[39m\u001b[38;5;124m\"\u001b[39m, \u001b[38;5;28;01mNone\u001b[39;00m),\n\u001b[0;32m   1889\u001b[0m )\n\u001b[0;32m   1890\u001b[0m \u001b[38;5;28;01massert\u001b[39;00m \u001b[38;5;28mself\u001b[39m\u001b[38;5;241m.\u001b[39mhandles \u001b[38;5;129;01mis\u001b[39;00m \u001b[38;5;129;01mnot\u001b[39;00m \u001b[38;5;28;01mNone\u001b[39;00m\n\u001b[0;32m   1891\u001b[0m f \u001b[38;5;241m=\u001b[39m \u001b[38;5;28mself\u001b[39m\u001b[38;5;241m.\u001b[39mhandles\u001b[38;5;241m.\u001b[39mhandle\n",
      "File \u001b[1;32md:\\cursos\\data_science\\ambiente\\Lib\\site-packages\\pandas\\io\\common.py:873\u001b[0m, in \u001b[0;36mget_handle\u001b[1;34m(path_or_buf, mode, encoding, compression, memory_map, is_text, errors, storage_options)\u001b[0m\n\u001b[0;32m    868\u001b[0m \u001b[38;5;28;01melif\u001b[39;00m \u001b[38;5;28misinstance\u001b[39m(handle, \u001b[38;5;28mstr\u001b[39m):\n\u001b[0;32m    869\u001b[0m     \u001b[38;5;66;03m# Check whether the filename is to be opened in binary mode.\u001b[39;00m\n\u001b[0;32m    870\u001b[0m     \u001b[38;5;66;03m# Binary mode does not support 'encoding' and 'newline'.\u001b[39;00m\n\u001b[0;32m    871\u001b[0m     \u001b[38;5;28;01mif\u001b[39;00m ioargs\u001b[38;5;241m.\u001b[39mencoding \u001b[38;5;129;01mand\u001b[39;00m \u001b[38;5;124m\"\u001b[39m\u001b[38;5;124mb\u001b[39m\u001b[38;5;124m\"\u001b[39m \u001b[38;5;129;01mnot\u001b[39;00m \u001b[38;5;129;01min\u001b[39;00m ioargs\u001b[38;5;241m.\u001b[39mmode:\n\u001b[0;32m    872\u001b[0m         \u001b[38;5;66;03m# Encoding\u001b[39;00m\n\u001b[1;32m--> 873\u001b[0m         handle \u001b[38;5;241m=\u001b[39m \u001b[38;5;28mopen\u001b[39m(\n\u001b[0;32m    874\u001b[0m             handle,\n\u001b[0;32m    875\u001b[0m             ioargs\u001b[38;5;241m.\u001b[39mmode,\n\u001b[0;32m    876\u001b[0m             encoding\u001b[38;5;241m=\u001b[39mioargs\u001b[38;5;241m.\u001b[39mencoding,\n\u001b[0;32m    877\u001b[0m             errors\u001b[38;5;241m=\u001b[39merrors,\n\u001b[0;32m    878\u001b[0m             newline\u001b[38;5;241m=\u001b[39m\u001b[38;5;124m\"\u001b[39m\u001b[38;5;124m\"\u001b[39m,\n\u001b[0;32m    879\u001b[0m         )\n\u001b[0;32m    880\u001b[0m     \u001b[38;5;28;01melse\u001b[39;00m:\n\u001b[0;32m    881\u001b[0m         \u001b[38;5;66;03m# Binary mode\u001b[39;00m\n\u001b[0;32m    882\u001b[0m         handle \u001b[38;5;241m=\u001b[39m \u001b[38;5;28mopen\u001b[39m(handle, ioargs\u001b[38;5;241m.\u001b[39mmode)\n",
      "\u001b[1;31mFileNotFoundError\u001b[0m: [Errno 2] No such file or directory: 'OnlineNewsPopularity.csv'"
     ]
    }
   ],
   "source": [
    "news = pd.read_csv('OnlineNewsPopularity.csv')"
   ]
  },
  {
   "cell_type": "code",
   "execution_count": null,
   "metadata": {
    "cell_id": "c1132e81a6a245cb8cd3ef55a5164235",
    "deepnote_cell_type": "code",
    "deepnote_to_be_reexecuted": false,
    "execution_context_id": "a96d1a3b-1020-490b-a551-fc6694615471",
    "execution_millis": 88,
    "execution_start": 1728061498522,
    "source_hash": "3839591a"
   },
   "outputs": [],
   "source": [
    "news.head()"
   ]
  },
  {
   "cell_type": "code",
   "execution_count": null,
   "metadata": {
    "cell_id": "940d1fb8b35d43afb3e52a80bb3d4183",
    "deepnote_cell_type": "code",
    "deepnote_to_be_reexecuted": false,
    "execution_context_id": "a96d1a3b-1020-490b-a551-fc6694615471",
    "execution_millis": 275,
    "execution_start": 1728061498658,
    "source_hash": "733d7462"
   },
   "outputs": [],
   "source": [
    "plt.scatter(news[' global_sentiment_polarity'],news[' shares'])\n",
    "plt.title('Popularity by Sentiment')\n",
    "plt.xlabel('Sentiment Polarity')\n",
    "plt.ylabel('Shares')\n",
    "plt.show()"
   ]
  },
  {
   "cell_type": "markdown",
   "metadata": {
    "cell_id": "3bcb1947a84a45caac9530524a81d6ca",
    "deepnote_app_block_visible": false,
    "deepnote_cell_type": "markdown"
   },
   "source": [
    "## Regresión lineal"
   ]
  },
  {
   "cell_type": "code",
   "execution_count": null,
   "metadata": {
    "cell_id": "0cc4e4620c4640fc83e383f85176f916",
    "deepnote_cell_type": "code",
    "deepnote_to_be_reexecuted": false,
    "execution_context_id": "a96d1a3b-1020-490b-a551-fc6694615471",
    "execution_millis": 1,
    "execution_start": 1728061498982,
    "source_hash": "a760278e"
   },
   "outputs": [],
   "source": [
    "x = news[' global_sentiment_polarity'].values.reshape(-1,1)\n",
    "y = news[' shares'].values.reshape(-1,1)\n",
    "regressor = LinearRegression()\n",
    "regressor.fit(x,y)\n",
    "print(regressor.intercept_)\n",
    "print(regressor.coef_)"
   ]
  },
  {
   "cell_type": "markdown",
   "metadata": {
    "cell_id": "441414fa86424c5ba0d51d801edeb87c",
    "deepnote_app_block_visible": false,
    "deepnote_cell_type": "markdown"
   },
   "source": [
    "La ecuación resultante es:\n",
    "\n",
    "$$shares = 3335.8 + 499.3\\cdot sentiment$$"
   ]
  },
  {
   "cell_type": "code",
   "execution_count": null,
   "metadata": {
    "cell_id": "4a72d5ba2aa946efb96b623066b6548e",
    "deepnote_cell_type": "code",
    "deepnote_to_be_reexecuted": false,
    "execution_context_id": "a96d1a3b-1020-490b-a551-fc6694615471",
    "execution_millis": 261,
    "execution_start": 1728061499030,
    "source_hash": "ddb75ca1"
   },
   "outputs": [],
   "source": [
    "regline = regressor.predict(x)\n",
    "plt.scatter(news[' global_sentiment_polarity'],news[' shares'], color = 'blue')\n",
    "plt.plot(sorted(news[' global_sentiment_polarity'].tolist()), regline,'r')\n",
    "plt.title('Popularity by Sentiment')\n",
    "plt.xlabel('Sentiment Polarity')\n",
    "plt.ylabel('Shares')\n",
    "plt.show()"
   ]
  },
  {
   "cell_type": "markdown",
   "metadata": {
    "cell_id": "8d461076e1714c97bdf31864dd80d6db",
    "deepnote_app_block_visible": false,
    "deepnote_cell_type": "markdown"
   },
   "source": [
    "El modelo de regresión lineal concibe el mundo de manera lineal, y no siempre es la manera más precisa con la que enfocarse en un problema."
   ]
  },
  {
   "cell_type": "markdown",
   "metadata": {
    "cell_id": "86715595618441d99296107257de658d",
    "deepnote_app_block_visible": false,
    "deepnote_cell_type": "markdown"
   },
   "source": [
    "## K-Nearest Neighbors\n",
    "1. Escoger un punto $p$ para analizar.\n",
    "2. Escoger un valor para $k$.\n",
    "3. Buscar los $k$ puntos más cercanos a $p$.\n",
    "4. La media de los $k$ valores es la predicción de $p$.\n",
    "\n",
    "Fijemos un ejemplo con $k=15$ y $p=0.5$, donde $p$ es la medida de la polaridad de los artículos."
   ]
  },
  {
   "cell_type": "code",
   "execution_count": null,
   "metadata": {
    "cell_id": "ac75ab18bc4d480584168eac5b914b1e",
    "deepnote_cell_type": "code",
    "deepnote_to_be_reexecuted": false,
    "execution_context_id": "a96d1a3b-1020-490b-a551-fc6694615471",
    "execution_millis": 0,
    "execution_start": 1728061499338,
    "source_hash": "3004534f"
   },
   "outputs": [],
   "source": [
    "k=15\n",
    "newsentiment = 0.5"
   ]
  },
  {
   "cell_type": "code",
   "execution_count": null,
   "metadata": {
    "cell_id": "7c9825cfe8d24c6c8588476a6f98b60d",
    "deepnote_cell_type": "code",
    "deepnote_to_be_reexecuted": false,
    "execution_context_id": "a96d1a3b-1020-490b-a551-fc6694615471",
    "execution_millis": 1,
    "execution_start": 1728061499394,
    "source_hash": "a5b74f59"
   },
   "outputs": [],
   "source": [
    "allsentiment = news[' global_sentiment_polarity'].tolist() # Listar datos de polaridad\n",
    "allshares = news[' shares'].tolist()                           # Listar datos de shares\n",
    "distances = [abs(x-newsentiment) for x in allsentiment]    # Comparar distancias\n",
    "idx = np.argsort(distances)                                    # Ordenar indices\n",
    "idx[0:k]"
   ]
  },
  {
   "cell_type": "code",
   "execution_count": null,
   "metadata": {
    "cell_id": "ef15572f11b54633a190f2a471f3ba23",
    "deepnote_cell_type": "code",
    "execution_context_id": "a96d1a3b-1020-490b-a551-fc6694615471",
    "execution_millis": 1,
    "execution_start": 1728061499442,
    "source_hash": "832a8e1e"
   },
   "outputs": [],
   "source": [
    "nearbyshares = [allshares[x] for x in idx[0:k]]\n",
    "np.mean(nearbyshares)"
   ]
  },
  {
   "cell_type": "markdown",
   "metadata": {
    "cell_id": "0a472250e54f4d32bcefcfecbe478024",
    "deepnote_app_block_visible": false,
    "deepnote_cell_type": "markdown"
   },
   "source": [
    "La predicción para una polaridad de $p=0.5$ es $shares = 7344$."
   ]
  },
  {
   "cell_type": "markdown",
   "metadata": {
    "cell_id": "3407f0333ab74940b2f5fa86324a1331",
    "deepnote_app_block_visible": false,
    "deepnote_cell_type": "markdown"
   },
   "source": [
    "## K-NN con sklearn"
   ]
  },
  {
   "cell_type": "code",
   "execution_count": null,
   "metadata": {
    "cell_id": "254315071289417ba3e69da44b0d7c35",
    "deepnote_cell_type": "code",
    "execution_context_id": "a96d1a3b-1020-490b-a551-fc6694615471",
    "execution_millis": 1,
    "execution_start": 1728061499494,
    "source_hash": "356c2f63"
   },
   "outputs": [],
   "source": [
    "x=np.array(allsentiment).reshape(-1,1)     # Acomodar valores\n",
    "y=np.array(allshares)                      # Acomodar valores\n",
    "knn = KNeighborsRegressor(n_neighbors=k)   # Crear modelo\n",
    "knn.fit(x,y)                               # Ajustar modelo"
   ]
  },
  {
   "cell_type": "code",
   "execution_count": null,
   "metadata": {
    "cell_id": "9a7f1145c68b4cbcbe800a84836ec6a9",
    "deepnote_cell_type": "code",
    "execution_context_id": "a96d1a3b-1020-490b-a551-fc6694615471",
    "execution_millis": 1,
    "execution_start": 1728061499546,
    "source_hash": "5a4e80f2"
   },
   "outputs": [],
   "source": [
    "knn.predict(np.array([newsentiment]).reshape(-1,1))"
   ]
  },
  {
   "cell_type": "markdown",
   "metadata": {
    "cell_id": "b74c737ada794cafbd4ec6a82e6e0355",
    "deepnote_app_block_visible": false,
    "deepnote_cell_type": "markdown"
   },
   "source": [
    "## Otros algoritmos de aprendizaje supervisado\n",
    "La estructura seguida hasta ahora puede describirse como sigue:\n",
    "    Importar el paquete.\n",
    "    Definir un regressor.\n",
    "    Ajustar el modelo.\n",
    "    Usar el modelo para predecir.\n",
    "A continuación se muestran algunos ejemplos de otros algoritmos de aprendizaje supervisado."
   ]
  },
  {
   "cell_type": "markdown",
   "metadata": {
    "cell_id": "8d413adeb835455aa74cff16636b31c6",
    "deepnote_app_block_visible": false,
    "deepnote_cell_type": "markdown"
   },
   "source": [
    "### Decision Trees\n"
   ]
  },
  {
   "cell_type": "code",
   "execution_count": null,
   "metadata": {
    "cell_id": "8c4d809f2ea94f7d81344fbea9536e4e",
    "deepnote_cell_type": "code",
    "execution_context_id": "a96d1a3b-1020-490b-a551-fc6694615471",
    "execution_millis": 1,
    "execution_start": 1728061499598,
    "source_hash": "5e44ee4a"
   },
   "outputs": [],
   "source": [
    "dtregressor = DecisionTreeRegressor(max_depth=3)\n",
    "dtregressor.fit(np.array(allsentiment).reshape(-1,1), np.array(allshares))\n",
    "dtregressor.predict(np.array([newsentiment]).reshape(1,-1))"
   ]
  },
  {
   "cell_type": "code",
   "execution_count": null,
   "metadata": {
    "cell_id": "9577cd1baaed4a0f8a17436b2b8aea9b",
    "deepnote_cell_type": "code",
    "execution_context_id": "a96d1a3b-1020-490b-a551-fc6694615471",
    "execution_millis": 969,
    "execution_start": 1728061499654,
    "source_hash": "27d5264"
   },
   "outputs": [],
   "source": [
    "plt.figure(figsize=(16,5))\n",
    "plot_tree(dtregressor, filled=True, fontsize=8)\n",
    "plt.savefig('decisiontree.png')"
   ]
  },
  {
   "cell_type": "markdown",
   "metadata": {
    "cell_id": "9871248695aa4574b1bfaab68136430f",
    "deepnote_app_block_visible": false,
    "deepnote_cell_type": "markdown"
   },
   "source": [
    "## Midiendo la precisión"
   ]
  },
  {
   "cell_type": "markdown",
   "metadata": {
    "cell_id": "1877495c8755474aba85952ca5f9406c",
    "deepnote_cell_type": "code",
    "execution_context_id": "a96d1a3b-1020-490b-a551-fc6694615471",
    "execution_millis": 7877,
    "execution_start": 1728061500670,
    "source_hash": "8d61d0a2"
   },
   "source": [
    "allprediction = regressor.predict(np.array([allsentiment]).reshape(-1,1))\n",
    "predictionerror = abs(allprediction - y) # Error absoluto predicciones - real"
   ]
  },
  {
   "cell_type": "markdown",
   "metadata": {
    "cell_id": "c0c6ab0e0245449bbb90bc4b03e0bf81",
    "deepnote_cell_type": "code",
    "execution_context_id": "d36035a2-31a2-482e-a40b-7fd0d971058e",
    "execution_millis": 443,
    "execution_start": 1728061530535,
    "source_hash": "b893ff9a"
   },
   "source": [
    "allprediction=regressor.predict(np.array([allsentiment]).reshape(-1,1))\n",
    "predictionerror=abs(allprediction-y)\n",
    "print(np.mean(predictionerror))"
   ]
  }
 ],
 "metadata": {
  "deepnote_execution_queue": [],
  "deepnote_notebook_id": "9ef011b23641438f8a7eb4388ee5fd65",
  "kernelspec": {
   "display_name": "Python [conda env:ambiente]",
   "language": "python",
   "name": "conda-env-ambiente-py"
  },
  "language_info": {
   "codemirror_mode": {
    "name": "ipython",
    "version": 3
   },
   "file_extension": ".py",
   "mimetype": "text/x-python",
   "name": "python",
   "nbconvert_exporter": "python",
   "pygments_lexer": "ipython3",
   "version": "3.12.3"
  }
 },
 "nbformat": 4,
 "nbformat_minor": 1
}
