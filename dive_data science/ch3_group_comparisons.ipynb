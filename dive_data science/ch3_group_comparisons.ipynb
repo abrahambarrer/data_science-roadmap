{
 "cells": [
  {
   "cell_type": "code",
   "execution_count": 1,
   "id": "0ea668dc",
   "metadata": {},
   "outputs": [],
   "source": [
    "import pandas as pd\n",
    "import matplotlib.pyplot as plt\n",
    "import numpy as np\n",
    "import seaborn as sns\n",
    "import scipy.stats"
   ]
  },
  {
   "cell_type": "markdown",
   "id": "0a57c362",
   "metadata": {},
   "source": [
    "# Group comparisons\n",
    "En este notebook vamos a empezar estudiando un solo grupo del dataset, y observar estadísticas para describirlo. Se compararán dos grupos y finalmente los test estadísticos t-test y Mann-Whitney U test."
   ]
  },
  {
   "cell_type": "code",
   "execution_count": 2,
   "id": "661cda56",
   "metadata": {},
   "outputs": [],
   "source": [
    "mlb = pd.read_csv('d:\\\\cursos\\\\data_science\\\\data\\\\mlb.csv')"
   ]
  },
  {
   "cell_type": "code",
   "execution_count": 3,
   "id": "ffc577d4",
   "metadata": {},
   "outputs": [
    {
     "name": "stdout",
     "output_type": "stream",
     "text": [
      "Shape: (1034, 6)\n"
     ]
    },
    {
     "data": {
      "text/html": [
       "<div>\n",
       "<style scoped>\n",
       "    .dataframe tbody tr th:only-of-type {\n",
       "        vertical-align: middle;\n",
       "    }\n",
       "\n",
       "    .dataframe tbody tr th {\n",
       "        vertical-align: top;\n",
       "    }\n",
       "\n",
       "    .dataframe thead th {\n",
       "        text-align: right;\n",
       "    }\n",
       "</style>\n",
       "<table border=\"1\" class=\"dataframe\">\n",
       "  <thead>\n",
       "    <tr style=\"text-align: right;\">\n",
       "      <th></th>\n",
       "      <th>name</th>\n",
       "      <th>team</th>\n",
       "      <th>position</th>\n",
       "      <th>height</th>\n",
       "      <th>weight</th>\n",
       "      <th>age</th>\n",
       "    </tr>\n",
       "  </thead>\n",
       "  <tbody>\n",
       "    <tr>\n",
       "      <th>0</th>\n",
       "      <td>Adam_Donachie</td>\n",
       "      <td>BAL</td>\n",
       "      <td>Catcher</td>\n",
       "      <td>74</td>\n",
       "      <td>180.0</td>\n",
       "      <td>22.99</td>\n",
       "    </tr>\n",
       "    <tr>\n",
       "      <th>1</th>\n",
       "      <td>Paul_Bako</td>\n",
       "      <td>BAL</td>\n",
       "      <td>Catcher</td>\n",
       "      <td>74</td>\n",
       "      <td>215.0</td>\n",
       "      <td>34.69</td>\n",
       "    </tr>\n",
       "    <tr>\n",
       "      <th>2</th>\n",
       "      <td>Ramon_Hernandez</td>\n",
       "      <td>BAL</td>\n",
       "      <td>Catcher</td>\n",
       "      <td>72</td>\n",
       "      <td>210.0</td>\n",
       "      <td>30.78</td>\n",
       "    </tr>\n",
       "    <tr>\n",
       "      <th>3</th>\n",
       "      <td>Kevin_Millar</td>\n",
       "      <td>BAL</td>\n",
       "      <td>First_Baseman</td>\n",
       "      <td>72</td>\n",
       "      <td>210.0</td>\n",
       "      <td>35.43</td>\n",
       "    </tr>\n",
       "    <tr>\n",
       "      <th>4</th>\n",
       "      <td>Chris_Gomez</td>\n",
       "      <td>BAL</td>\n",
       "      <td>First_Baseman</td>\n",
       "      <td>73</td>\n",
       "      <td>188.0</td>\n",
       "      <td>35.71</td>\n",
       "    </tr>\n",
       "  </tbody>\n",
       "</table>\n",
       "</div>"
      ],
      "text/plain": [
       "              name team       position  height  weight    age\n",
       "0    Adam_Donachie  BAL        Catcher      74   180.0  22.99\n",
       "1        Paul_Bako  BAL        Catcher      74   215.0  34.69\n",
       "2  Ramon_Hernandez  BAL        Catcher      72   210.0  30.78\n",
       "3     Kevin_Millar  BAL  First_Baseman      72   210.0  35.43\n",
       "4      Chris_Gomez  BAL  First_Baseman      73   188.0  35.71"
      ]
     },
     "execution_count": 3,
     "metadata": {},
     "output_type": "execute_result"
    }
   ],
   "source": [
    "print('Shape:',mlb.shape)\n",
    "mlb.head()"
   ]
  },
  {
   "cell_type": "markdown",
   "id": "b8134fae",
   "metadata": {},
   "source": [
    "## Estadística descriptiva"
   ]
  },
  {
   "cell_type": "code",
   "execution_count": 4,
   "id": "868dbfaa",
   "metadata": {
    "scrolled": true
   },
   "outputs": [
    {
     "data": {
      "text/html": [
       "<div>\n",
       "<style scoped>\n",
       "    .dataframe tbody tr th:only-of-type {\n",
       "        vertical-align: middle;\n",
       "    }\n",
       "\n",
       "    .dataframe tbody tr th {\n",
       "        vertical-align: top;\n",
       "    }\n",
       "\n",
       "    .dataframe thead th {\n",
       "        text-align: right;\n",
       "    }\n",
       "</style>\n",
       "<table border=\"1\" class=\"dataframe\">\n",
       "  <thead>\n",
       "    <tr style=\"text-align: right;\">\n",
       "      <th></th>\n",
       "      <th>height</th>\n",
       "      <th>weight</th>\n",
       "      <th>age</th>\n",
       "    </tr>\n",
       "  </thead>\n",
       "  <tbody>\n",
       "    <tr>\n",
       "      <th>count</th>\n",
       "      <td>1034.000000</td>\n",
       "      <td>1033.000000</td>\n",
       "      <td>1034.000000</td>\n",
       "    </tr>\n",
       "    <tr>\n",
       "      <th>mean</th>\n",
       "      <td>73.697292</td>\n",
       "      <td>201.689255</td>\n",
       "      <td>28.736712</td>\n",
       "    </tr>\n",
       "    <tr>\n",
       "      <th>std</th>\n",
       "      <td>2.305818</td>\n",
       "      <td>20.991491</td>\n",
       "      <td>4.320310</td>\n",
       "    </tr>\n",
       "    <tr>\n",
       "      <th>min</th>\n",
       "      <td>67.000000</td>\n",
       "      <td>150.000000</td>\n",
       "      <td>20.900000</td>\n",
       "    </tr>\n",
       "    <tr>\n",
       "      <th>25%</th>\n",
       "      <td>72.000000</td>\n",
       "      <td>187.000000</td>\n",
       "      <td>25.440000</td>\n",
       "    </tr>\n",
       "    <tr>\n",
       "      <th>50%</th>\n",
       "      <td>74.000000</td>\n",
       "      <td>200.000000</td>\n",
       "      <td>27.925000</td>\n",
       "    </tr>\n",
       "    <tr>\n",
       "      <th>75%</th>\n",
       "      <td>75.000000</td>\n",
       "      <td>215.000000</td>\n",
       "      <td>31.232500</td>\n",
       "    </tr>\n",
       "    <tr>\n",
       "      <th>max</th>\n",
       "      <td>83.000000</td>\n",
       "      <td>290.000000</td>\n",
       "      <td>48.520000</td>\n",
       "    </tr>\n",
       "  </tbody>\n",
       "</table>\n",
       "</div>"
      ],
      "text/plain": [
       "            height       weight          age\n",
       "count  1034.000000  1033.000000  1034.000000\n",
       "mean     73.697292   201.689255    28.736712\n",
       "std       2.305818    20.991491     4.320310\n",
       "min      67.000000   150.000000    20.900000\n",
       "25%      72.000000   187.000000    25.440000\n",
       "50%      74.000000   200.000000    27.925000\n",
       "75%      75.000000   215.000000    31.232500\n",
       "max      83.000000   290.000000    48.520000"
      ]
     },
     "execution_count": 4,
     "metadata": {},
     "output_type": "execute_result"
    }
   ],
   "source": [
    "mlb.describe()"
   ]
  },
  {
   "cell_type": "markdown",
   "id": "3dd9802c",
   "metadata": {},
   "source": [
    "Un diagrama de caja demuestra que varios valores resultan atípicas:"
   ]
  },
  {
   "cell_type": "code",
   "execution_count": 5,
   "id": "60f70806",
   "metadata": {
    "scrolled": false
   },
   "outputs": [
    {
     "data": {
      "image/png": "[encoded data removed]",
      "text/plain": [
       "<Figure size 640x480 with 1 Axes>"
      ]
     },
     "metadata": {},
     "output_type": "display_data"
    }
   ],
   "source": [
    "fig1, ax1 = plt.subplots()\n",
    "ax1.boxplot(mlb.height)\n",
    "ax1.set_ylabel('Height (inches)')\n",
    "plt.title('MLB Player Heights')\n",
    "plt.xticks([1], ['Full Population'])\n",
    "plt.show()"
   ]
  },
  {
   "cell_type": "markdown",
   "id": "dac0407d",
   "metadata": {},
   "source": [
    "## Muestras aleatorias\n",
    "Las muestras aleatorias se utilizan para esperar resultados aplicables a la población general."
   ]
  },
  {
   "cell_type": "code",
   "execution_count": 6,
   "id": "ad584131",
   "metadata": {},
   "outputs": [],
   "source": [
    "sample1 = mlb.sample(n=30, random_state=8675309)\n",
    "sample2 = mlb.sample(n=30, random_state=1729)"
   ]
  },
  {
   "cell_type": "markdown",
   "id": "92d19188",
   "metadata": {},
   "source": [
    "Una tercera muestra seleccionada manualmente será contemplada. **El propósito es pensar la *procedencia* de una muestra, si dos muestras pertencen a la misma población, o de *dónde*.**"
   ]
  },
  {
   "cell_type": "code",
   "execution_count": 7,
   "id": "d8f51d7d",
   "metadata": {},
   "outputs": [],
   "source": [
    "sample3=[71, 72, 73, 74, 74, 76, 75, 75, 75, 76, 75, 77, 76, 75, 77, 76,\n",
    "         75,76, 76, 75, 75, 81,77, 75, 77, 75, 77, 77, 75, 75]"
   ]
  },
  {
   "cell_type": "markdown",
   "id": "5081348f",
   "metadata": {},
   "source": [
    "Examinemos de nuevo los diagramas de caja:"
   ]
  },
  {
   "cell_type": "code",
   "execution_count": 8,
   "id": "291c22b3",
   "metadata": {},
   "outputs": [
    {
     "data": {
      "image/png": "[encoded data removed]",
      "text/plain": [
       "<Figure size 640x480 with 1 Axes>"
      ]
     },
     "metadata": {},
     "output_type": "display_data"
    }
   ],
   "source": [
    "fig1, ax1 = plt.subplots()\n",
    "ax1.boxplot([mlb.height, sample1.height, sample2.height, np.array(sample3)])\n",
    "ax1.set_ylabel('Height (inches)')\n",
    "plt.title('MLB Player Alturas')\n",
    "plt.xticks([1,2,3,4], ['Full Population', 'Sample1', 'Sample2', 'Sample3'])\n",
    "plt.show()"
   ]
  },
  {
   "cell_type": "markdown",
   "id": "106ce1fa",
   "metadata": {},
   "source": [
    "La media de la población recibe el nombre especial de **expected value** (valor esperado), esto quiere decir que la media de una muestra de la población se *espera* que sea del orden de la media poblacional."
   ]
  },
  {
   "cell_type": "code",
   "execution_count": 9,
   "id": "eeb489fa",
   "metadata": {},
   "outputs": [
    {
     "name": "stdout",
     "output_type": "stream",
     "text": [
      "Sample1: 73.8\n",
      "Sample2: 74.36666666666666\n",
      "Sample3: 75.43333333333334\n"
     ]
    }
   ],
   "source": [
    "print('Sample1:', np.mean(sample1.height))\n",
    "print('Sample2:', np.mean(sample2.height))\n",
    "print('Sample3:', np.mean(sample3))"
   ]
  },
  {
   "cell_type": "markdown",
   "id": "1a715879",
   "metadata": {},
   "source": [
    "## Diferencias entre las muestras\n",
    "Al examinar los promedios, notamos diferentes grados de diferencia entre las muestras 1, 2 y 3 con respecto a la población. Para decidir con mayor precisión si una muestra pertenece o no a una población necesitamos un mejor método, **por ejemplo, examinar una gran cantidad de muestras**."
   ]
  },
  {
   "cell_type": "code",
   "execution_count": 10,
   "id": "b96e1c0f",
   "metadata": {},
   "outputs": [],
   "source": [
    "alldiferences=[]\n",
    "for i in range(1000):\n",
    "    newsample1 = mlb.sample(n=30, random_state=i*2)\n",
    "    newsample2 = mlb.sample(n=30, random_state=i*2+1)\n",
    "    alldiferences.append(newsample1['height'].mean()-newsample2['height'].mean())"
   ]
  },
  {
   "cell_type": "code",
   "execution_count": 11,
   "id": "1b7b5a5e",
   "metadata": {},
   "outputs": [
    {
     "data": {
      "text/plain": [
       "[0.8333333333333286,\n",
       " -0.30000000000001137,\n",
       " -0.10000000000000853,\n",
       " -0.1666666666666572,\n",
       " 0.06666666666667709,\n",
       " -0.9666666666666686,\n",
       " 0.7999999999999972,\n",
       " 0.9333333333333371,\n",
       " -0.5333333333333314,\n",
       " -0.20000000000000284]"
      ]
     },
     "execution_count": 11,
     "metadata": {},
     "output_type": "execute_result"
    }
   ],
   "source": [
    "alldiferences[0:10]"
   ]
  },
  {
   "cell_type": "markdown",
   "id": "1f2a319c",
   "metadata": {},
   "source": [
    "Observando las diferencias nos damos cuenta que una diferencia de 1.6 entre las muestras no figura en este rango, probablemente es más implausible que la muestra 3 pertenezca a la población. Vamos a observar un gráfico:"
   ]
  },
  {
   "cell_type": "code",
   "execution_count": 12,
   "id": "e369faa2",
   "metadata": {},
   "outputs": [
    {
     "data": {
      "image/png": "[encoded data removed]",
      "text/plain": [
       "<Figure size 640x480 with 1 Axes>"
      ]
     },
     "metadata": {},
     "output_type": "display_data"
    }
   ],
   "source": [
    "sns.set()\n",
    "ax = sns.histplot(alldiferences, kde=True).set_title(\"Diferencias entre las muestras\")\n",
    "plt.xlabel(\"Diferencias entre muestras (pulgadas)\")\n",
    "plt.ylabel(\"Frecuencia relativa\")\n",
    "plt.show()"
   ]
  },
  {
   "cell_type": "markdown",
   "id": "92ff689a",
   "metadata": {},
   "source": [
    "### Teorema del límite central\n",
    "Como se puede observar, es *poco común* que las muestras tengan una diferencia mayor que 1, por lo tanto, la muestra 3 es poco plausible que pertenezca a la población.\n",
    "\n",
    "El **teorema del límite central** establece que bajo las siguientes condiciones, una distribución tendra la forma de campana:\n",
    "* Las muestras son independientes e idénticamente distribuidas (aleatoridad).\n",
    "* La población tiene un valor esperado finito.\n",
    "* La población tiene una varianza finita.\n",
    "\n",
    "Veámos cuántas observaciones coinciden en ser mayor que 1.6:"
   ]
  },
  {
   "cell_type": "code",
   "execution_count": 13,
   "id": "3c289619",
   "metadata": {},
   "outputs": [
    {
     "data": {
      "text/plain": [
       "8"
      ]
     },
     "execution_count": 13,
     "metadata": {},
     "output_type": "execute_result"
    }
   ],
   "source": [
    "largedifferences = [diff for diff in alldiferences if abs(diff) >= 1.6]\n",
    "len(largedifferences)"
   ]
  },
  {
   "cell_type": "markdown",
   "id": "7d568691",
   "metadata": {},
   "source": [
    "Esto significa que una diferencia mayor o igual a 1.6 ocurre solo en un 0.8%, es muy raro. El $p$-value indica que podemos rechazar la idea de que sample3 no pertence a la población. Por el contrario, el $p$-value de las sample1 y sample2 resulta factible:"
   ]
  },
  {
   "cell_type": "code",
   "execution_count": 14,
   "id": "fb0554eb",
   "metadata": {},
   "outputs": [
    {
     "data": {
      "text/plain": [
       "314"
      ]
     },
     "execution_count": 14,
     "metadata": {},
     "output_type": "execute_result"
    }
   ],
   "source": [
    "smalldifferences = [diff for diff in alldiferences if abs(diff)>=0.6]\n",
    "len(smalldifferences)"
   ]
  },
  {
   "cell_type": "markdown",
   "id": "88013c45",
   "metadata": {},
   "source": [
    "## Hyphotesis testing\n",
    "El análisis anterior puede enunciar con más formalidad de la siguiente manera. Suponga que analizamos dos muestras, sample1 y sample2, para definir si pertenecen o no a la misma población. Tenemos las siguientes hipótesis:\n",
    "* **Hipótesis 0**: sample1 y sample2 pertenecen a la misma población. Hipótesis nula.\n",
    "* **Hipótesis 1**: sample1 y sample2 no pertenecen a la misma población. Hipótesis alternativa.\n",
    "\n",
    "Comprobemos con los siguientes pasos:\n",
    "* Asumimos que la hipótesis 0 es verdadera.\n",
    "* Encontramos qué tan probable es observar una diferencia entre las medias muestrales, como la diferencia entre sample1 y sample3, en el conujunto de datos, asumiendo que hipótesis 0 es cierta. Esto se denomina $p$-value.\n",
    "* Si $p$-value es *significativamente* bajo, rechazamos la hipótesis 0 y por lo tanto aceptamos la hipótesis 1.\n",
    "\n",
    "Nosotros, con nuestra intuición y juicio establecemos el *nivel significativo*, qué significa *bajo* para $p$-value. Si nuestro $p$-value es menor que el nivel significativo, decimos que la diferencia en nuestras muestras es *estadísticamente significativa*.\n",
    "\n",
    "Se recomienda establecer el nivel significativo antes de ejecutar el test, para evitar sesgos."
   ]
  },
  {
   "cell_type": "markdown",
   "id": "55281626",
   "metadata": {},
   "source": [
    "## t-test\n",
    "La librería `scipy` tiene una implementación del t-test. Por ejemplo, evaluando sample1 y sample2 notamos que el $p$-value resulta favorable, y nos quedamos con la hipótesis nula."
   ]
  },
  {
   "cell_type": "code",
   "execution_count": 16,
   "id": "2aaf920b",
   "metadata": {},
   "outputs": [
    {
     "data": {
      "text/plain": [
       "TtestResult(statistic=-1.0839563860213952, pvalue=0.2828695892305152, df=58.0)"
      ]
     },
     "execution_count": 16,
     "metadata": {},
     "output_type": "execute_result"
    }
   ],
   "source": [
    "scipy.stats.ttest_ind(sample1['height'], sample2['height'])"
   ]
  },
  {
   "cell_type": "markdown",
   "id": "5d565f7f",
   "metadata": {},
   "source": [
    "Al tratar con sample1 y sample3, el $p$-value es bajo."
   ]
  },
  {
   "cell_type": "code",
   "execution_count": 18,
   "id": "bb2c2212",
   "metadata": {},
   "outputs": [
    {
     "data": {
      "text/plain": [
       "TtestResult(statistic=-3.108694797644094, pvalue=0.002910554741439718, df=58.0)"
      ]
     },
     "execution_count": 18,
     "metadata": {},
     "output_type": "execute_result"
    }
   ],
   "source": [
    "scipy.stats.ttest_ind(sample1['height'], sample3)"
   ]
  },
  {
   "cell_type": "markdown",
   "id": "7e682e2d",
   "metadata": {},
   "source": [
    "***Independiente***, en este contexto, significa que no hay una relación significativa entre muestras, cada individuo está seleccionado aleatoriamente.\n",
    "\n",
    "Para aplicar el test con muestras que estén relacionadas, p. ej. si se tratan datos con respecto a un mismo individuo, se aplica el método\n",
    "```python\n",
    "scipy.stats.ttest_rel() # t-test relacionado\n",
    "```\n",
    "Además, t-test supone que las varianzas de las muestras son similares. El *Welch's t-test* no supone que las varianzas son iguales. Se implementa con el parámetro `equal_var = False` en t-test."
   ]
  },
  {
   "cell_type": "code",
   "execution_count": 19,
   "id": "3bceea71",
   "metadata": {},
   "outputs": [
    {
     "data": {
      "text/plain": [
       "MannwhitneyuResult(statistic=392.0, pvalue=0.38913738408151577)"
      ]
     },
     "execution_count": 19,
     "metadata": {},
     "output_type": "execute_result"
    }
   ],
   "source": [
    "scipy.stats.mannwhitneyu(sample1['height'], sample2['height'])"
   ]
  },
  {
   "cell_type": "markdown",
   "id": "65a41b96",
   "metadata": {},
   "source": [
    "### Test paramétricos y no-paramétricos\n",
    "La prueba t-test admite ciertas suposiciones sobre la distribución de los datos, por lo cual recibe el nombre de *test paramétrico*. Admite que:\n",
    "* Los grupos comparados tienen medias muestrales con forma de campana.\n",
    "* Las varianzas de los grupos son idénticas (excepte en Welch's t-test).\n",
    "* Los grupos son independientes.\n",
    "\n",
    "Para realizar un test donde no hagamos tantas suposiciones preferimos el enfoque llamado *estadísticas no-paramétricas*. La versión no-paramétricas de t-test es *Mann-Whitney U test* o *Wilcoxon rank-sum-test*.\n",
    "```python\n",
    "scipy.stats.mannwhitneyu() # Mann Whitney U test\n",
    "```"
   ]
  },
  {
   "cell_type": "markdown",
   "id": "bd84cbb4",
   "metadata": {},
   "source": [
    "## Caso de estudio"
   ]
  },
  {
   "cell_type": "code",
   "execution_count": 23,
   "id": "012d34d5",
   "metadata": {},
   "outputs": [],
   "source": [
    "desktop = pd.read_csv('d:\\\\cursos\\\\data_science\\\\data\\\\desktop.csv')\n",
    "laptop = pd.read_csv('d:\\\\cursos\\\\data_science\\\\data\\\\laptop.csv')"
   ]
  },
  {
   "cell_type": "code",
   "execution_count": 32,
   "id": "092af78a",
   "metadata": {
    "scrolled": false
   },
   "outputs": [
    {
     "data": {
      "image/png": "[encoded data removed]",
      "text/plain": [
       "<Figure size 640x480 with 1 Axes>"
      ]
     },
     "metadata": {},
     "output_type": "display_data"
    }
   ],
   "source": [
    "sns.reset_orig()\n",
    "fig1, ax1 = plt.subplots()\n",
    "ax1.set_title('Gastos de Suscriptores de Computadores y Laptops')\n",
    "ax1.boxplot([desktop['spending'].values, laptop['spending'].values])\n",
    "ax1.set_ylabel('Gastos ($)')\n",
    "plt.xticks([1,2], ['Suscriptores  de Computadoras', 'Suscriptores de Laptops'])\n",
    "plt.show()"
   ]
  },
  {
   "cell_type": "code",
   "execution_count": 33,
   "id": "dff797a3",
   "metadata": {},
   "outputs": [
    {
     "name": "stdout",
     "output_type": "stream",
     "text": [
      "35.766666666666666\n",
      "38.733333333333334\n",
      "32.0\n",
      "33.0\n",
      "957.5\n",
      "1528.25\n",
      "14.943634839697543\n"
     ]
    }
   ],
   "source": [
    "print(np.mean(desktop['age']))\n",
    "print(np.mean(laptop['age']))\n",
    "print(np.median(desktop['age']))\n",
    "print(np.median(laptop['age']))\n",
    "print(np.quantile(laptop['spending'],.25))\n",
    "print(np.quantile(desktop['spending'],.75))\n",
    "print(np.std(desktop['age']))"
   ]
  },
  {
   "cell_type": "code",
   "execution_count": 34,
   "id": "269efa85",
   "metadata": {},
   "outputs": [
    {
     "data": {
      "text/plain": [
       "TtestResult(statistic=2.109853741030508, pvalue=0.03919630411621095, df=58.0)"
      ]
     },
     "execution_count": 34,
     "metadata": {},
     "output_type": "execute_result"
    }
   ],
   "source": [
    "scipy.stats.ttest_ind(laptop['spending'], desktop['spending'])"
   ]
  }
 ],
 "metadata": {
  "kernelspec": {
   "display_name": "Python [conda env:ambiente]",
   "language": "python",
   "name": "conda-env-ambiente-py"
  },
  "language_info": {
   "codemirror_mode": {
    "name": "ipython",
    "version": 3
   },
   "file_extension": ".py",
   "mimetype": "text/x-python",
   "name": "python",
   "nbconvert_exporter": "python",
   "pygments_lexer": "ipython3",
   "version": "3.12.3"
  }
 },
 "nbformat": 4,
 "nbformat_minor": 5
}
