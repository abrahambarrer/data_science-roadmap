





import pandas as pd
Carbon = pd.read_csv('https://stat4ds.rwth-aachen.de/data/Carbon.dat', sep=r'\s+')


Carbon.shape


Carbon.columns


Carbon.head()





import matplotlib.pyplot as plt
plt.hist(Carbon['CO2'], density=True, bins=8) # density=True muestra la frecuencia relativa
plt.xlabel('CO2 Emitions')
plt.ylabel('Proportion')
plt.title('Frecuency distributions for CO2 Emitions')
plt.show()





Carbon.describe()


fig1, ax1 = plt.subplots()
plt.xlabel('CO2 Values')
plt.boxplot(Carbon['CO2'], vert=False)
plt.show()





crime = pd.read_csv('https://stat4ds.rwth-aachen.de/data/Murder2.dat', sep=r'\s+')


import seaborn as sns
sns.boxplot(x='murder', y='nation', hue='nation', data=crime, orient='h')
plt.show()


crime.groupby('nation')['murder'].describe()








gs = pd.read_csv('https://stat4ds.rwth-aachen.de/data/Guns_Suicide.dat', sep=r'\s+')


gs.head()


gs.plot(kind='scatter', x='guns', y='suicide', figsize=(10,7))
plt.xlabel('Guns Proportion')
plt.ylabel('Suicide Rate')
plt.show()


gs[['guns', 'suicide']].corr()


import numpy as np
coef = np.polyfit(gs['guns'], gs['suicide'], 1)
LN_fn = np.poly1d(coef)
plt.figure(figsize=(10,7))
plt.plot(gs['guns'], gs['suicide'], 'o', gs['guns'], LN_fn(gs['guns']))
plt.xlabel('Guns', size=14)
plt.ylabel('Suicide', size=14)
plt.show()





import statsmodels.formula.api as sm
mod = sm.ols(formula='suicide ~ guns', data=gs).fit()


print(LN_fn)
print(mod.params)


mod.summary()


from sklearn.linear_model import LinearRegression
regressor = LinearRegression()
regressor.fit(gs['guns'].values.reshape(-1,1), gs['suicide'].values.reshape(-1,1))


print(regressor.intercept_)
print(regressor.coef_)





pid = pd.read_csv('https://stat4ds.rwth-aachen.de/data/PartyID.dat', sep=r'\s+')


pid_table = pd.crosstab(pid['race'], pid['id'], margins=False)
pid_table


from scipy.stats.contingency import margins # Encontrar marginales
mr, mc = margins(pid_table)





probtable = pid_table/mc.sum() # Tabla de probabilidad
probtable





probtable1 = pid_table / mr
probtable1


from statsmodels.graphics.mosaicplot import mosaic
fig, _ = mosaic(pid, index=['race', 'id'])








μ, σ = 100, 16


y1 = np.random.normal(μ, σ, 30)
y1.mean(), y1.std()


plt.hist(y1)
plt.show()


y2 = np.random.normal(μ, σ, 30)
y2.mean(), y2.std()


plt.hist(y2)
plt.show()



