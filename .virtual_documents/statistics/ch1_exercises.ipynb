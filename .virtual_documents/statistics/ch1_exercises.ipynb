











import pandas as pd
students = pd.read_csv('https://stat4ds.rwth-aachen.de/data/Students.dat', sep=r'\s+')


students.head()


import matplotlib.pyplot as plt
students['abor'].value_counts(normalize=True).plot(kind='bar')
plt.xlabel('Opinion for abortion in first three months')
plt.show()





















