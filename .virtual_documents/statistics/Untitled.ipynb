











import pandas as pd
students = pd.read_csv('https://stat4ds.rwth-aachen.de/data/Students.dat', sep=r'\s+')


students.head()





import matplotlib.pyplot as plt
students['abor'].value_counts(normalize=True).plot(kind='bar')
plt.xlabel('Opinion for abortion in firsts three months')
plt.show()


students['abor'].value_counts(normalize=True)



