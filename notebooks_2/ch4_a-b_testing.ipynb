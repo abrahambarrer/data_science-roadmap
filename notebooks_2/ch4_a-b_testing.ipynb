{
 "cells": [
  {
   "cell_type": "code",
   "execution_count": 1,
   "id": "99469b80",
   "metadata": {},
   "outputs": [],
   "source": [
    "import pandas as pd\n",
    "import scipy.stats\n",
    "import numpy as np"
   ]
  },
  {
   "cell_type": "markdown",
   "id": "a2529509",
   "metadata": {},
   "source": [
    "# A/B testing\n",
    "Después de tomar decisiones del tipo sí/no al elegir una estrategia, aún quedan preguntas por responder. En nuestro escenario de marketing: ¿cómo debería ser el contenido de e-mails?, ¿cómo lo diseñamos? y, ¿cómo sabemos que lo estamos haciendo bien?\n",
    "\n",
    "Vamos a estudiar por qué es necesario crear situaciones experimentales y cómo diseñarlas.\n",
    "\n",
    "## La necesidad de experimentación"
   ]
  },
  {
   "cell_type": "code",
   "execution_count": 2,
   "id": "b9f7e33c",
   "metadata": {},
   "outputs": [],
   "source": [
    "desktops=pd.read_csv('d:\\\\cursos\\\\data_science\\\\data\\\\desktop.csv')\n",
    "laptop=pd.read_csv('d:\\\\cursos\\\\data_science\\\\data\\\\laptop.csv')"
   ]
  },
  {
   "cell_type": "markdown",
   "id": "9933821f",
   "metadata": {},
   "source": [
    "Vamos a introducir los test para diferencias las muestras:"
   ]
  },
  {
   "cell_type": "code",
   "execution_count": 3,
   "id": "b6231f28",
   "metadata": {},
   "outputs": [
    {
     "name": "stdout",
     "output_type": "stream",
     "text": [
      "TtestResult(statistic=-2.109853741030508, pvalue=0.03919630411621095, df=58.0)\n",
      "TtestResult(statistic=-0.7101437106800108, pvalue=0.4804606394128761, df=58.0)\n",
      "TtestResult(statistic=0.20626752311535543, pvalue=0.8373043059847984, df=58.0)\n"
     ]
    }
   ],
   "source": [
    "print(scipy.stats.ttest_ind(desktops['spending'],laptop['spending']))\n",
    "print(scipy.stats.ttest_ind(desktops['age'],laptop['age']))\n",
    "print(scipy.stats.ttest_ind(desktops['visits'],laptop['visits']))"
   ]
  },
  {
   "cell_type": "markdown",
   "id": "e541713a",
   "metadata": {},
   "source": [
    "Aunque diferenciamos las muestras según sus gastos en desktops o laptops, es un hecho aislado y no nos dice nada acerca de cómo manejar nuestra estrategia de marketing. Pueden existir estudios que nos den pista sobre cómo avanzar, pero podría no haber información para nuestro caso particular.\n",
    "\n",
    "Para avanzar necesitamos una nueva forma de generar datos, para lo cual recurrimos al **A/B testing**, de esta manera podrémos obtener información sobre lo que mejor funciona para nuestro negocio. **El A/B testing es un proceso que permite recolectar datos, y luego analizarlos** con métodos como el t-test. Podemos considerar los siguientes pasos:\n",
    "* Diseño experimental.\n",
    "* Asignación aleatoria a los grupos de caso y de control.\n",
    "* Medición de los resultados.\n",
    "* Comparación estadística de los resultados.\n",
    "\n",
    "## Experimentar nuevas hipótesis\n",
    "Considerémos la hipótesis sobre si un cambio de color de fuente de negro a azul incrementará las ventas. Las hipótesis relacionadas son:\n",
    "* **Hipótesis 0**: cambiar el color de negro a azul no cambiará los ingresos de ventas.\n",
    "* **Hipótesis 1**: cambiar el color de negro a azul cambiara los ingresos (incremento o decremento) de ventas.\n",
    "\n",
    "En este caso, no contamos con datos para analizar y aceptar o rechazar una hipótesis, necesitamos colectar nuevos datos. Para ello, debemos diseñar un experimento, experimentar y recolectar los datos para analizar.\n",
    "\n",
    "Primero, tenemos que considerar dos grupos: un grupo que conserva el color negro, y otro que recibe e-mails con fuente azul, y comprobar los ingresos que aporta cada individuo de cada grupo.\n",
    "\n",
    "Vamos a separar los grupos según la media de edad:"
   ]
  },
  {
   "cell_type": "code",
   "execution_count": 4,
   "id": "36272586",
   "metadata": {},
   "outputs": [],
   "source": [
    "median_age = desktops['age'].median()\n",
    "group_a = desktops.loc[desktops['age'] <= median_age,:] # Grupo A con texto negro\n",
    "group_b = desktops.loc[desktops['age'] > median_age,:] # Grupo B con texto azul"
   ]
  },
  {
   "cell_type": "markdown",
   "id": "18ada274",
   "metadata": {},
   "source": [
    "Con ambos dataframes, se pueden enviar al equipo de trabajo para mandar correos a ambos grupos y dar seguimiento de los ingresos generados por usuario (quién hace clic en los links enviados). Vamos a cargar los resultados del experimento:"
   ]
  },
  {
   "cell_type": "code",
   "execution_count": 5,
   "id": "4560e9ad",
   "metadata": {},
   "outputs": [],
   "source": [
    "emailresults1 = pd.read_csv('d:\\\\cursos\\\\data_science\\\\data\\\\emailresults1.csv')"
   ]
  },
  {
   "cell_type": "markdown",
   "id": "e6045c9c",
   "metadata": {},
   "source": [
    "Mezclamos los datasets `group_a` y `group_b` con los resultados del experimento según el id:"
   ]
  },
  {
   "cell_type": "code",
   "execution_count": 6,
   "id": "af873e8c",
   "metadata": {},
   "outputs": [],
   "source": [
    "groupa_withRevenue= group_a.merge(emailresults1, on='userid')\n",
    "groupb_withRevenue= group_b.merge(emailresults1, on='userid')"
   ]
  },
  {
   "cell_type": "markdown",
   "id": "82bfb754",
   "metadata": {},
   "source": [
    "Realizamos el t-test para verificar si son grupos diferentes:"
   ]
  },
  {
   "cell_type": "code",
   "execution_count": 7,
   "id": "03b437eb",
   "metadata": {},
   "outputs": [
    {
     "data": {
      "text/plain": [
       "TtestResult(statistic=-2.186454851070545, pvalue=0.03730073920038287, df=28.0)"
      ]
     },
     "execution_count": 7,
     "metadata": {},
     "output_type": "execute_result"
    }
   ],
   "source": [
    "scipy.stats.ttest_ind(groupa_withRevenue['revenue'], groupb_withRevenue['revenue'])"
   ]
  },
  {
   "cell_type": "markdown",
   "id": "bb401625",
   "metadata": {},
   "source": [
    "Al considerar un niverl de $p$-value como 0.05, nos damos cuenta los grupos son diferentes. Podríamos ahora rechazar la hipótesis 0 en pro de la hipótesis 1, y diríamos que con el color de fuente cambian los ingresos, sin embargo, hemos relacionado nuestros grupos con la *edad*. Es decir, si las personas adultas tienen mejores condiciones económicas, entonces, **¡hemos estudiado las condiciones económicas según la edad!**, pero no el cambio de color.\n",
    "\n",
    "### Buenas prácticas\n",
    "\n",
    "Para estudiar correctamente los grupos, debemos hacer una selección aleatoria: toda muestra tiene un valor esperado igual a la media poblacional.\n",
    "\n",
    "Vamos a hacer un estudio que considere los ingresos al incluir una imagen en los correos, pero experimentarémos con los suscriptores de laptops:"
   ]
  },
  {
   "cell_type": "code",
   "execution_count": 8,
   "id": "fc38972e",
   "metadata": {},
   "outputs": [],
   "source": [
    "np.random.seed(18811015)\n",
    "laptop.loc[:,'groupassignment1']=1*(np.random.random(len(laptop.index))>0.5) # Columna aleatoria de 1s y 0s\n",
    "groupc = laptop.loc[laptop['groupassignment1'] == 0,:].copy() # Asignar grupo con 0s\n",
    "groupd = laptop.loc[laptop['groupassignment1'] == 1,:].copy() # Asignar grupo con 1s"
   ]
  },
  {
   "cell_type": "markdown",
   "id": "efee21b1",
   "metadata": {},
   "source": [
    "Con el dataframe de los grupos aleatorios, enviamos al equipo de trabajo y experimentar. Vamos a cargar los resultados:"
   ]
  },
  {
   "cell_type": "code",
   "execution_count": 9,
   "id": "8d54ac80",
   "metadata": {},
   "outputs": [],
   "source": [
    "emailresults2 = pd.read_csv('d:\\\\cursos\\\\data_science\\\\data\\\\emailresults2.csv')"
   ]
  },
  {
   "cell_type": "code",
   "execution_count": 10,
   "id": "007e89f8",
   "metadata": {},
   "outputs": [],
   "source": [
    "groupc_withrevenue = groupc.merge(emailresults2, on='userid' )\n",
    "groupd_withrevenue = groupd.merge(emailresults2, on='userid' )"
   ]
  },
  {
   "cell_type": "markdown",
   "id": "13bb965c",
   "metadata": {},
   "source": [
    "Hagamos el t-test para obtener el $p$-value, considerando un nivel significativo de 0.5:"
   ]
  },
  {
   "cell_type": "code",
   "execution_count": 11,
   "id": "79b381bf",
   "metadata": {},
   "outputs": [
    {
     "data": {
      "text/plain": [
       "TtestResult(statistic=-2.381320497676198, pvalue=0.024288828555138562, df=28.0)"
      ]
     },
     "execution_count": 11,
     "metadata": {},
     "output_type": "execute_result"
    }
   ],
   "source": [
    "scipy.stats.ttest_ind(groupc_withrevenue['revenue'], groupd_withrevenue['revenue'])"
   ]
  },
  {
   "cell_type": "markdown",
   "id": "9a5a3e41",
   "metadata": {},
   "source": [
    "Nuestra diferencia es menor que 0.5, por tanto, podemos aceptar que se trata de grupos diferentes y que hay un efecto en el cambio de ingresos. Si nuestro equipo de trabajo envió imágenes al grupo D, podemos calcular el efecto:"
   ]
  },
  {
   "cell_type": "code",
   "execution_count": 12,
   "id": "f273bad8",
   "metadata": {},
   "outputs": [
    {
     "data": {
      "text/plain": [
       "260.3333333333333"
      ]
     },
     "execution_count": 12,
     "metadata": {},
     "output_type": "execute_result"
    }
   ],
   "source": [
    "np.mean(groupd_withrevenue['revenue'])-np.mean(groupc_withrevenue['revenue'])"
   ]
  },
  {
   "cell_type": "markdown",
   "id": "c82f7557",
   "metadata": {},
   "source": [
    "## Effect sizes\n",
    "El valor calculado de $\\$260$ de diferencia entre las medias en nuestro último test se conoce como effect size. Una forma de determinar si el effect size es pequeño, medio o grande es mediante el número $d$ de Cohen:\n",
    "\n",
    "$$\\frac{\\text{effect size}}{\\sigma}$$\n",
    "\n",
    "Que representa el *número de desviaciones estándar* en que difieren las medias de dos poblaciones. Agunas convencions de valor para la $d$ de Cohen:\n",
    "* Valor bajo: $d\\leq2$.\n",
    "* Valor medio: $d\\approx0.5$.\n",
    "* Valor alto: $0.8\\leq d$.\n",
    "\n",
    "Por ejemplo, la $d$ de Cohen para nuestro primer test sugiere que es un valor alto:"
   ]
  },
  {
   "cell_type": "code",
   "execution_count": 13,
   "id": "821d231d",
   "metadata": {},
   "outputs": [
    {
     "data": {
      "text/plain": [
       "0.763769235188029"
      ]
     },
     "execution_count": 13,
     "metadata": {},
     "output_type": "execute_result"
    }
   ],
   "source": [
    "125/np.std(emailresults1['revenue'])"
   ]
  }
 ],
 "metadata": {
  "kernelspec": {
   "display_name": "Python [conda env:ambiente]",
   "language": "python",
   "name": "conda-env-ambiente-py"
  },
  "language_info": {
   "codemirror_mode": {
    "name": "ipython",
    "version": 3
   },
   "file_extension": ".py",
   "mimetype": "text/x-python",
   "name": "python",
   "nbconvert_exporter": "python",
   "pygments_lexer": "ipython3",
   "version": "3.12.3"
  }
 },
 "nbformat": 4,
 "nbformat_minor": 5
}
