{
 "cells": [
  {
   "cell_type": "markdown",
   "id": "66b957fd-a315-411f-8c2d-dc9b70e2073a",
   "metadata": {},
   "source": [
    "# Probability"
   ]
  },
  {
   "cell_type": "markdown",
   "id": "77a1b7b8-b3da-4529-8fe4-0cc0f788e016",
   "metadata": {},
   "source": [
    "## Relative frequencies"
   ]
  },
  {
   "cell_type": "code",
   "execution_count": 3,
   "id": "894421d3-da0d-4a22-99f2-aa711ddf6a0e",
   "metadata": {},
   "outputs": [],
   "source": [
    "import numpy as np\n",
    "np.random.seed(9823467)"
   ]
  },
  {
   "cell_type": "code",
   "execution_count": 4,
   "id": "ed1f5dc4-815a-4bb9-bddc-414ff3497d17",
   "metadata": {},
   "outputs": [
    {
     "data": {
      "text/plain": [
       "array([6, 3, 6, 4, 2, 2, 4, 3, 3, 6, 5, 2, 5, 6, 1, 5, 5, 6, 1, 4])"
      ]
     },
     "execution_count": 4,
     "metadata": {},
     "output_type": "execute_result"
    }
   ],
   "source": [
    "outcomes = np.random.randint(1, 7, size=20)\n",
    "outcomes"
   ]
  },
  {
   "cell_type": "code",
   "execution_count": 5,
   "id": "fccf0256-1099-41aa-b1d3-cd310762cdd7",
   "metadata": {},
   "outputs": [
    {
     "data": {
      "text/html": [
       "<div>\n",
       "<style scoped>\n",
       "    .dataframe tbody tr th:only-of-type {\n",
       "        vertical-align: middle;\n",
       "    }\n",
       "\n",
       "    .dataframe tbody tr th {\n",
       "        vertical-align: top;\n",
       "    }\n",
       "\n",
       "    .dataframe thead th {\n",
       "        text-align: right;\n",
       "    }\n",
       "</style>\n",
       "<table border=\"1\" class=\"dataframe\">\n",
       "  <thead>\n",
       "    <tr style=\"text-align: right;\">\n",
       "      <th></th>\n",
       "      <th>counts</th>\n",
       "    </tr>\n",
       "  </thead>\n",
       "  <tbody>\n",
       "    <tr>\n",
       "      <th>1</th>\n",
       "      <td>2</td>\n",
       "    </tr>\n",
       "    <tr>\n",
       "      <th>2</th>\n",
       "      <td>3</td>\n",
       "    </tr>\n",
       "    <tr>\n",
       "      <th>3</th>\n",
       "      <td>3</td>\n",
       "    </tr>\n",
       "    <tr>\n",
       "      <th>4</th>\n",
       "      <td>3</td>\n",
       "    </tr>\n",
       "    <tr>\n",
       "      <th>5</th>\n",
       "      <td>4</td>\n",
       "    </tr>\n",
       "    <tr>\n",
       "      <th>6</th>\n",
       "      <td>5</td>\n",
       "    </tr>\n",
       "  </tbody>\n",
       "</table>\n",
       "</div>"
      ],
      "text/plain": [
       "   counts\n",
       "1       2\n",
       "2       3\n",
       "3       3\n",
       "4       3\n",
       "5       4\n",
       "6       5"
      ]
     },
     "execution_count": 5,
     "metadata": {},
     "output_type": "execute_result"
    }
   ],
   "source": [
    "import pandas as pd\n",
    "values, counts = np.unique(outcomes, return_counts=True)\n",
    "df = pd.DataFrame({'counts': counts}, index=values)\n",
    "df"
   ]
  },
  {
   "cell_type": "code",
   "execution_count": 6,
   "id": "42a3988b-98cf-47fe-9c09-845dfdf50428",
   "metadata": {},
   "outputs": [
    {
     "data": {
      "text/html": [
       "<div>\n",
       "<style scoped>\n",
       "    .dataframe tbody tr th:only-of-type {\n",
       "        vertical-align: middle;\n",
       "    }\n",
       "\n",
       "    .dataframe tbody tr th {\n",
       "        vertical-align: top;\n",
       "    }\n",
       "\n",
       "    .dataframe thead th {\n",
       "        text-align: right;\n",
       "    }\n",
       "</style>\n",
       "<table border=\"1\" class=\"dataframe\">\n",
       "  <thead>\n",
       "    <tr style=\"text-align: right;\">\n",
       "      <th></th>\n",
       "      <th>counts</th>\n",
       "      <th>rel_freqs</th>\n",
       "    </tr>\n",
       "  </thead>\n",
       "  <tbody>\n",
       "    <tr>\n",
       "      <th>1</th>\n",
       "      <td>2</td>\n",
       "      <td>0.10</td>\n",
       "    </tr>\n",
       "    <tr>\n",
       "      <th>2</th>\n",
       "      <td>3</td>\n",
       "      <td>0.15</td>\n",
       "    </tr>\n",
       "    <tr>\n",
       "      <th>3</th>\n",
       "      <td>3</td>\n",
       "      <td>0.15</td>\n",
       "    </tr>\n",
       "    <tr>\n",
       "      <th>4</th>\n",
       "      <td>3</td>\n",
       "      <td>0.15</td>\n",
       "    </tr>\n",
       "    <tr>\n",
       "      <th>5</th>\n",
       "      <td>4</td>\n",
       "      <td>0.20</td>\n",
       "    </tr>\n",
       "    <tr>\n",
       "      <th>6</th>\n",
       "      <td>5</td>\n",
       "      <td>0.25</td>\n",
       "    </tr>\n",
       "  </tbody>\n",
       "</table>\n",
       "</div>"
      ],
      "text/plain": [
       "   counts  rel_freqs\n",
       "1       2       0.10\n",
       "2       3       0.15\n",
       "3       3       0.15\n",
       "4       3       0.15\n",
       "5       4       0.20\n",
       "6       5       0.25"
      ]
     },
     "execution_count": 6,
     "metadata": {},
     "output_type": "execute_result"
    }
   ],
   "source": [
    "rel_freqs = counts / len(outcomes)\n",
    "df['rel_freqs'] = rel_freqs\n",
    "df"
   ]
  },
  {
   "cell_type": "code",
   "execution_count": 7,
   "id": "c0377d2c-5bd0-4603-a261-7234ebd519a9",
   "metadata": {},
   "outputs": [
    {
     "data": {
      "image/png": "[encoded data removed]",
      "text/plain": [
       "<Figure size 640x480 with 1 Axes>"
      ]
     },
     "metadata": {},
     "output_type": "display_data"
    }
   ],
   "source": [
    "import matplotlib.pyplot as plt\n",
    "plt.stem(values, rel_freqs)\n",
    "plt.xlabel('Dice values')\n",
    "plt.ylabel('Relative frequencies')\n",
    "plt.title('20 trials of a six dice')\n",
    "plt.show()"
   ]
  },
  {
   "cell_type": "code",
   "execution_count": 8,
   "id": "fec59bd7-d224-418d-a5a0-a9fd9444c76b",
   "metadata": {},
   "outputs": [
    {
     "data": {
      "image/png": "[encoded data removed]",
      "text/plain": [
       "<Figure size 640x480 with 1 Axes>"
      ]
     },
     "metadata": {},
     "output_type": "display_data"
    }
   ],
   "source": [
    "# 100_000 trials\n",
    "outcomes100k = np.random.randint(1, 7, size=100_000)\n",
    "# Create dataframe\n",
    "values, counts = np.unique(outcomes100k, return_counts=True)\n",
    "# Add relqtive frequencies\n",
    "rel_freqs = counts / len(outcomes100k)\n",
    "# Plotting\n",
    "plt.stem(values, rel_freqs)\n",
    "plt.xlabel('Dice values')\n",
    "plt.ylabel('Relative frequencies')\n",
    "plt.title('100_000 trials of a six dice')\n",
    "plt.show()"
   ]
  },
  {
   "cell_type": "markdown",
   "id": "d87ab5ed-2a9f-4ddf-a4a5-89387fcba4dd",
   "metadata": {},
   "source": [
    "## Axiomatic probability"
   ]
  },
  {
   "cell_type": "code",
   "execution_count": 10,
   "id": "954d5402-f7a7-419b-82e1-e0bab2bb1c11",
   "metadata": {},
   "outputs": [
    {
     "name": "stdout",
     "output_type": "stream",
     "text": [
      "P(E1 | E2) = 0.55667\n"
     ]
    }
   ],
   "source": [
    "num_sims = 100_000\n",
    "die1 = np.random.randint(1, 7, size=num_sims)\n",
    "die2 = np.random.randint(1, 7, size=num_sims)\n",
    "\n",
    "E1 = die1 < 3\n",
    "E2 = die2 < 3\n",
    "\n",
    "Eocurred = E1 | E2\n",
    "print(f'P(E1 | E2) = {np.count_nonzero(Eocurred) / num_sims}')"
   ]
  },
  {
   "cell_type": "markdown",
   "id": "dc3035fb-18bb-4076-8a8c-b2f7c8b4cf18",
   "metadata": {},
   "source": [
    "## Combinatorics"
   ]
  },
  {
   "cell_type": "markdown",
   "id": "10748fa4-ea30-4f92-94bb-7fae5e953857",
   "metadata": {},
   "source": [
    "### Counting by iterating"
   ]
  },
  {
   "cell_type": "code",
   "execution_count": 19,
   "id": "90ca85d5-3557-4ef6-87e5-906d3914583d",
   "metadata": {},
   "outputs": [],
   "source": [
    "import itertools as it"
   ]
  },
  {
   "cell_type": "code",
   "execution_count": 21,
   "id": "a79187d6-7b35-4bb8-a2f5-afcb39166599",
   "metadata": {},
   "outputs": [
    {
     "name": "stdout",
     "output_type": "stream",
     "text": [
      "(1, 1)  (1, 2)  (1, 3)  (1, 4)  (1, 5)  (1, 6)  (2, 1)  (2, 2)  (2, 3)  (2, 4)  (2, 5)  (2, 6)  (3, 1)  (3, 2)  (3, 3)  (3, 4)  (3, 5)  (3, 6)  (4, 1)  (4, 2)  (4, 3)  (4, 4)  (4, 5)  (4, 6)  (5, 1)  (5, 2)  (5, 3)  (5, 4)  (5, 5)  (5, 6)  (6, 1)  (6, 2)  (6, 3)  (6, 4)  (6, 5)  (6, 6)  "
     ]
    }
   ],
   "source": [
    "S0 = range(1, 7)\n",
    "S1 = range(1, 7)\n",
    "\n",
    "S = it.product(S0, S1)\n",
    "for s in S:\n",
    "    print(s, ' ', end='')"
   ]
  },
  {
   "cell_type": "code",
   "execution_count": 23,
   "id": "ea5606aa-618f-4ea8-9dbf-6cc137dc513b",
   "metadata": {},
   "outputs": [
    {
     "data": {
      "text/plain": [
       "36"
      ]
     },
     "execution_count": 23,
     "metadata": {},
     "output_type": "execute_result"
    }
   ],
   "source": [
    "Slist = list(it.product(S0, S1))\n",
    "len(Slist)"
   ]
  },
  {
   "cell_type": "code",
   "execution_count": 51,
   "id": "8fb74520-60cd-4dad-9efe-9a116458c9fb",
   "metadata": {},
   "outputs": [],
   "source": [
    "counts = [0] * 13\n",
    "for s in Slist:\n",
    "    counts[sum(s)] += 1"
   ]
  },
  {
   "cell_type": "code",
   "execution_count": 57,
   "id": "91ce6578-914f-4fa3-a060-22fd09213f0f",
   "metadata": {},
   "outputs": [
    {
     "name": "stdout",
     "output_type": "stream",
     "text": [
      "P(E2) =  0.0278\n",
      "P(E3) =  0.0556\n",
      "P(E4) =  0.0833\n",
      "P(E5) =  0.1111\n",
      "P(E6) =  0.1389\n",
      "P(E7) =  0.1667\n",
      "P(E8) =  0.1389\n",
      "P(E9) =  0.1111\n",
      "P(E10) =  0.0833\n",
      "P(E11) =  0.0556\n",
      "P(E12) =  0.0278\n"
     ]
    }
   ],
   "source": [
    "probabilities = [0] * 13\n",
    "for i in range(2, 13):\n",
    "    probabilities[i] = counts[i] / len(Slist)\n",
    "    print(f'P(E{i}) = {probabilities[i] : .4f}')"
   ]
  },
  {
   "cell_type": "code",
   "execution_count": 61,
   "id": "9f772ea2-1006-4049-aaf1-bd67a18fa86f",
   "metadata": {},
   "outputs": [
    {
     "data": {
      "image/png": "[encoded data removed]",
      "text/plain": [
       "<Figure size 640x480 with 1 Axes>"
      ]
     },
     "metadata": {},
     "output_type": "display_data"
    }
   ],
   "source": [
    "plt.stem(range(2, 13), probabilities[2:])\n",
    "plt.xlabel('Sum of dice')\n",
    "plt.ylabel('Probability')\n",
    "plt.show()"
   ]
  },
  {
   "cell_type": "markdown",
   "id": "4783fae3-2c94-49e2-b414-1c6708e71dab",
   "metadata": {},
   "source": [
    "### Counting by analysis"
   ]
  },
  {
   "cell_type": "code",
   "execution_count": 85,
   "id": "2fb0b442-fa51-4b57-831b-d0bb0e424de4",
   "metadata": {},
   "outputs": [
    {
     "data": {
      "text/plain": [
       "1048576"
      ]
     },
     "execution_count": 85,
     "metadata": {},
     "output_type": "execute_result"
    }
   ],
   "source": [
    "2**20"
   ]
  }
 ],
 "metadata": {
  "kernelspec": {
   "display_name": "Python [conda env:ambiente]",
   "language": "python",
   "name": "conda-env-ambiente-py"
  },
  "language_info": {
   "codemirror_mode": {
    "name": "ipython",
    "version": 3
   },
   "file_extension": ".py",
   "mimetype": "text/x-python",
   "name": "python",
   "nbconvert_exporter": "python",
   "pygments_lexer": "ipython3",
   "version": "3.12.3"
  }
 },
 "nbformat": 4,
 "nbformat_minor": 5
}
