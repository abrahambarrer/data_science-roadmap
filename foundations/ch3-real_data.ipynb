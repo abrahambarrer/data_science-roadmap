{
 "cells": [
  {
   "cell_type": "markdown",
   "id": "c08f27f3-f0a4-478d-adcf-fe3fe24006f1",
   "metadata": {},
   "source": [
    "# Pandas"
   ]
  },
  {
   "cell_type": "code",
   "execution_count": 2,
   "id": "85827785-1d0e-4bf9-b63a-da6e349c253e",
   "metadata": {},
   "outputs": [],
   "source": [
    "import pandas as pd"
   ]
  },
  {
   "cell_type": "code",
   "execution_count": 3,
   "id": "90261596-b31d-4c9a-8aab-09ddcd50960a",
   "metadata": {},
   "outputs": [],
   "source": [
    "df  =  pd.read_csv(  'https://www.fdsp.net/data/covid-merged.csv'  )"
   ]
  },
  {
   "cell_type": "code",
   "execution_count": 4,
   "id": "3c14f818-5c2c-4e3f-8549-5192ac2919d8",
   "metadata": {},
   "outputs": [
    {
     "data": {
      "text/html": [
       "<div>\n",
       "<style scoped>\n",
       "    .dataframe tbody tr th:only-of-type {\n",
       "        vertical-align: middle;\n",
       "    }\n",
       "\n",
       "    .dataframe tbody tr th {\n",
       "        vertical-align: top;\n",
       "    }\n",
       "\n",
       "    .dataframe thead th {\n",
       "        text-align: right;\n",
       "    }\n",
       "</style>\n",
       "<table border=\"1\" class=\"dataframe\">\n",
       "  <thead>\n",
       "    <tr style=\"text-align: right;\">\n",
       "      <th></th>\n",
       "      <th>state</th>\n",
       "      <th>cases</th>\n",
       "      <th>population</th>\n",
       "      <th>gdp</th>\n",
       "      <th>urban</th>\n",
       "    </tr>\n",
       "  </thead>\n",
       "  <tbody>\n",
       "    <tr>\n",
       "      <th>0</th>\n",
       "      <td>Alabama</td>\n",
       "      <td>7068</td>\n",
       "      <td>4903185</td>\n",
       "      <td>230750.1</td>\n",
       "      <td>59.04</td>\n",
       "    </tr>\n",
       "    <tr>\n",
       "      <th>1</th>\n",
       "      <td>Alaska</td>\n",
       "      <td>353</td>\n",
       "      <td>731545</td>\n",
       "      <td>54674.7</td>\n",
       "      <td>66.02</td>\n",
       "    </tr>\n",
       "    <tr>\n",
       "      <th>2</th>\n",
       "      <td>Arizona</td>\n",
       "      <td>7648</td>\n",
       "      <td>7278717</td>\n",
       "      <td>379018.8</td>\n",
       "      <td>89.81</td>\n",
       "    </tr>\n",
       "    <tr>\n",
       "      <th>3</th>\n",
       "      <td>Arkansas</td>\n",
       "      <td>3281</td>\n",
       "      <td>3017804</td>\n",
       "      <td>132596.4</td>\n",
       "      <td>56.16</td>\n",
       "    </tr>\n",
       "    <tr>\n",
       "      <th>4</th>\n",
       "      <td>California</td>\n",
       "      <td>50470</td>\n",
       "      <td>39512223</td>\n",
       "      <td>3205000.1</td>\n",
       "      <td>94.95</td>\n",
       "    </tr>\n",
       "  </tbody>\n",
       "</table>\n",
       "</div>"
      ],
      "text/plain": [
       "        state  cases  population        gdp  urban\n",
       "0     Alabama   7068     4903185   230750.1  59.04\n",
       "1      Alaska    353      731545    54674.7  66.02\n",
       "2     Arizona   7648     7278717   379018.8  89.81\n",
       "3    Arkansas   3281     3017804   132596.4  56.16\n",
       "4  California  50470    39512223  3205000.1  94.95"
      ]
     },
     "execution_count": 4,
     "metadata": {},
     "output_type": "execute_result"
    }
   ],
   "source": [
    "df.head()"
   ]
  },
  {
   "cell_type": "code",
   "execution_count": 5,
   "id": "d3304565-d095-4ce8-9ca0-f989e0ab21ca",
   "metadata": {},
   "outputs": [
    {
     "data": {
      "text/html": [
       "<div>\n",
       "<style scoped>\n",
       "    .dataframe tbody tr th:only-of-type {\n",
       "        vertical-align: middle;\n",
       "    }\n",
       "\n",
       "    .dataframe tbody tr th {\n",
       "        vertical-align: top;\n",
       "    }\n",
       "\n",
       "    .dataframe thead th {\n",
       "        text-align: right;\n",
       "    }\n",
       "</style>\n",
       "<table border=\"1\" class=\"dataframe\">\n",
       "  <thead>\n",
       "    <tr style=\"text-align: right;\">\n",
       "      <th></th>\n",
       "      <th>cases</th>\n",
       "      <th>population</th>\n",
       "      <th>gdp</th>\n",
       "      <th>urban</th>\n",
       "    </tr>\n",
       "    <tr>\n",
       "      <th>state</th>\n",
       "      <th></th>\n",
       "      <th></th>\n",
       "      <th></th>\n",
       "      <th></th>\n",
       "    </tr>\n",
       "  </thead>\n",
       "  <tbody>\n",
       "    <tr>\n",
       "      <th>Alabama</th>\n",
       "      <td>7068</td>\n",
       "      <td>4903185</td>\n",
       "      <td>230750.1</td>\n",
       "      <td>59.04</td>\n",
       "    </tr>\n",
       "    <tr>\n",
       "      <th>Alaska</th>\n",
       "      <td>353</td>\n",
       "      <td>731545</td>\n",
       "      <td>54674.7</td>\n",
       "      <td>66.02</td>\n",
       "    </tr>\n",
       "    <tr>\n",
       "      <th>Arizona</th>\n",
       "      <td>7648</td>\n",
       "      <td>7278717</td>\n",
       "      <td>379018.8</td>\n",
       "      <td>89.81</td>\n",
       "    </tr>\n",
       "    <tr>\n",
       "      <th>Arkansas</th>\n",
       "      <td>3281</td>\n",
       "      <td>3017804</td>\n",
       "      <td>132596.4</td>\n",
       "      <td>56.16</td>\n",
       "    </tr>\n",
       "    <tr>\n",
       "      <th>California</th>\n",
       "      <td>50470</td>\n",
       "      <td>39512223</td>\n",
       "      <td>3205000.1</td>\n",
       "      <td>94.95</td>\n",
       "    </tr>\n",
       "  </tbody>\n",
       "</table>\n",
       "</div>"
      ],
      "text/plain": [
       "            cases  population        gdp  urban\n",
       "state                                          \n",
       "Alabama      7068     4903185   230750.1  59.04\n",
       "Alaska        353      731545    54674.7  66.02\n",
       "Arizona      7648     7278717   379018.8  89.81\n",
       "Arkansas     3281     3017804   132596.4  56.16\n",
       "California  50470    39512223  3205000.1  94.95"
      ]
     },
     "execution_count": 5,
     "metadata": {},
     "output_type": "execute_result"
    }
   ],
   "source": [
    "df.set_index('state', inplace=True)\n",
    "df.head()"
   ]
  },
  {
   "cell_type": "markdown",
   "id": "fbaf0334-3e5a-4b53-b4d8-501f2fe2555d",
   "metadata": {
    "jp-MarkdownHeadingCollapsed": true
   },
   "source": [
    "## Scatter plots"
   ]
  },
  {
   "cell_type": "code",
   "execution_count": 7,
   "id": "f31656f1-f13d-4fd6-b1f4-4d6f32bd8d89",
   "metadata": {},
   "outputs": [],
   "source": [
    "import matplotlib.pyplot as plt\n",
    "%matplotlib inline"
   ]
  },
  {
   "cell_type": "code",
   "execution_count": 8,
   "id": "30948c72-f1a2-412b-8719-9d4b03485592",
   "metadata": {},
   "outputs": [],
   "source": [
    "df.sort_values('population', inplace=True)"
   ]
  },
  {
   "cell_type": "code",
   "execution_count": 9,
   "id": "27423ec9-c1d4-416e-af22-abcf39a1ea53",
   "metadata": {},
   "outputs": [],
   "source": [
    "cases = df['cases'].to_numpy()\n",
    "population = df['population'].to_numpy()\n",
    "gdp = df['gdp'].to_numpy()\n",
    "urban = df['urban'].to_numpy()"
   ]
  },
  {
   "cell_type": "code",
   "execution_count": 10,
   "id": "539132e0-5096-41d5-b864-3ef5a67bfb2e",
   "metadata": {},
   "outputs": [
    {
     "data": {
      "image/png": "[encoded data removed]",
      "text/plain": [
       "<Figure size 640x480 with 1 Axes>"
      ]
     },
     "metadata": {},
     "output_type": "display_data"
    }
   ],
   "source": [
    "num_cases = len(cases)\n",
    "plt.scatter(range(num_cases), cases)\n",
    "plt.xlabel('No. of state')\n",
    "plt.ylabel('No. of cases')\n",
    "plt.title('COVID-19 cases through April 30, 2020')\n",
    "plt.show()"
   ]
  },
  {
   "cell_type": "code",
   "execution_count": 11,
   "id": "2a2a7d64-1965-4816-86f9-3b755c9559b5",
   "metadata": {},
   "outputs": [
    {
     "data": {
      "image/png": "[encoded data removed]",
      "text/plain": [
       "<Figure size 640x480 with 1 Axes>"
      ]
     },
     "metadata": {},
     "output_type": "display_data"
    }
   ],
   "source": [
    "plt.scatter(range(num_cases), cases, label='COVID-19 Cases')\n",
    "plt.scatter(range(num_cases), population, marker='+', label='Total Population')\n",
    "plt.legend()\n",
    "plt.show()"
   ]
  },
  {
   "cell_type": "code",
   "execution_count": 12,
   "id": "77ce9f5d-7c2c-4acc-ba73-f422100eb402",
   "metadata": {},
   "outputs": [
    {
     "data": {
      "image/png": "[encoded data removed]",
      "text/plain": [
       "<Figure size 640x480 with 2 Axes>"
      ]
     },
     "metadata": {},
     "output_type": "display_data"
    }
   ],
   "source": [
    "fig, ax = plt.subplots()\n",
    "ax.scatter(range(num_cases), cases / 1000, label='No. of Cases')\n",
    "ax.set_ylabel('No. of Cases (thousands)')\n",
    "ax.set_xlabel('State')\n",
    "\n",
    "ax2 = ax.twinx()\n",
    "ax2.scatter(range(num_cases), population / 1e6, color='C1',marker='+', label='Population')\n",
    "ax2.set_ylabel('Population (millions)')\n",
    "\n",
    "ax.legend(loc=2)\n",
    "ax2.legend()\n",
    "\n",
    "ax.set_ylim(0, 4e2)\n",
    "ax2.set_ylim(0, 48)\n",
    "plt.show()"
   ]
  },
  {
   "cell_type": "markdown",
   "id": "9dcd58b8-2bd0-47e2-ad4b-366fbb9e9cf1",
   "metadata": {},
   "source": [
    "Para obentener nuevas variables podemos normalizar de acuerdo a valores per cápita:\n",
    "* Casos per cápita\n",
    "* Producto interno bruto per cápita"
   ]
  },
  {
   "cell_type": "code",
   "execution_count": 14,
   "id": "1552b231-bfda-46f4-a034-9d451ca71e04",
   "metadata": {},
   "outputs": [
    {
     "data": {
      "text/html": [
       "<div>\n",
       "<style scoped>\n",
       "    .dataframe tbody tr th:only-of-type {\n",
       "        vertical-align: middle;\n",
       "    }\n",
       "\n",
       "    .dataframe tbody tr th {\n",
       "        vertical-align: top;\n",
       "    }\n",
       "\n",
       "    .dataframe thead th {\n",
       "        text-align: right;\n",
       "    }\n",
       "</style>\n",
       "<table border=\"1\" class=\"dataframe\">\n",
       "  <thead>\n",
       "    <tr style=\"text-align: right;\">\n",
       "      <th></th>\n",
       "      <th>cases</th>\n",
       "      <th>population</th>\n",
       "      <th>gdp</th>\n",
       "      <th>urban</th>\n",
       "      <th>cases_pp</th>\n",
       "      <th>gdp_pp</th>\n",
       "    </tr>\n",
       "    <tr>\n",
       "      <th>state</th>\n",
       "      <th></th>\n",
       "      <th></th>\n",
       "      <th></th>\n",
       "      <th></th>\n",
       "      <th></th>\n",
       "      <th></th>\n",
       "    </tr>\n",
       "  </thead>\n",
       "  <tbody>\n",
       "    <tr>\n",
       "      <th>Wyoming</th>\n",
       "      <td>559</td>\n",
       "      <td>578759</td>\n",
       "      <td>40764.3</td>\n",
       "      <td>64.76</td>\n",
       "      <td>0.000966</td>\n",
       "      <td>0.070434</td>\n",
       "    </tr>\n",
       "    <tr>\n",
       "      <th>Vermont</th>\n",
       "      <td>866</td>\n",
       "      <td>623989</td>\n",
       "      <td>34320.2</td>\n",
       "      <td>38.90</td>\n",
       "      <td>0.001388</td>\n",
       "      <td>0.055001</td>\n",
       "    </tr>\n",
       "    <tr>\n",
       "      <th>Alaska</th>\n",
       "      <td>353</td>\n",
       "      <td>731545</td>\n",
       "      <td>54674.7</td>\n",
       "      <td>66.02</td>\n",
       "      <td>0.000483</td>\n",
       "      <td>0.074739</td>\n",
       "    </tr>\n",
       "    <tr>\n",
       "      <th>North Dakota</th>\n",
       "      <td>1067</td>\n",
       "      <td>762062</td>\n",
       "      <td>57471.9</td>\n",
       "      <td>59.90</td>\n",
       "      <td>0.001400</td>\n",
       "      <td>0.075416</td>\n",
       "    </tr>\n",
       "    <tr>\n",
       "      <th>South Dakota</th>\n",
       "      <td>2450</td>\n",
       "      <td>884659</td>\n",
       "      <td>56051.9</td>\n",
       "      <td>56.65</td>\n",
       "      <td>0.002769</td>\n",
       "      <td>0.063360</td>\n",
       "    </tr>\n",
       "  </tbody>\n",
       "</table>\n",
       "</div>"
      ],
      "text/plain": [
       "              cases  population      gdp  urban  cases_pp    gdp_pp\n",
       "state                                                              \n",
       "Wyoming         559      578759  40764.3  64.76  0.000966  0.070434\n",
       "Vermont         866      623989  34320.2  38.90  0.001388  0.055001\n",
       "Alaska          353      731545  54674.7  66.02  0.000483  0.074739\n",
       "North Dakota   1067      762062  57471.9  59.90  0.001400  0.075416\n",
       "South Dakota   2450      884659  56051.9  56.65  0.002769  0.063360"
      ]
     },
     "execution_count": 14,
     "metadata": {},
     "output_type": "execute_result"
    }
   ],
   "source": [
    "df['cases_pp'] = df['cases'] / df['population']\n",
    "df['gdp_pp'] = df['gdp'] / df['population']\n",
    "df.head()"
   ]
  },
  {
   "cell_type": "code",
   "execution_count": 15,
   "id": "eb3dc138-7929-4722-bb08-744c5d814435",
   "metadata": {},
   "outputs": [],
   "source": [
    "cases_pp = df['cases_pp'].to_numpy()\n",
    "gdp_pp = df['gdp_pp'].to_numpy()"
   ]
  },
  {
   "cell_type": "code",
   "execution_count": 16,
   "id": "31e25143-31cb-40b6-a7dd-a1d78f5b4eb1",
   "metadata": {},
   "outputs": [
    {
     "data": {
      "image/png": "[encoded data removed]",
      "text/plain": [
       "<Figure size 640x480 with 1 Axes>"
      ]
     },
     "metadata": {},
     "output_type": "display_data"
    }
   ],
   "source": [
    "plt.scatter(range(num_cases), cases_pp)\n",
    "plt.show()"
   ]
  },
  {
   "cell_type": "code",
   "execution_count": 17,
   "id": "432e2246-1811-42e4-9779-02f2643d6b4d",
   "metadata": {},
   "outputs": [
    {
     "data": {
      "text/html": [
       "<div>\n",
       "<style scoped>\n",
       "    .dataframe tbody tr th:only-of-type {\n",
       "        vertical-align: middle;\n",
       "    }\n",
       "\n",
       "    .dataframe tbody tr th {\n",
       "        vertical-align: top;\n",
       "    }\n",
       "\n",
       "    .dataframe thead th {\n",
       "        text-align: right;\n",
       "    }\n",
       "</style>\n",
       "<table border=\"1\" class=\"dataframe\">\n",
       "  <thead>\n",
       "    <tr style=\"text-align: right;\">\n",
       "      <th></th>\n",
       "      <th>cases</th>\n",
       "      <th>population</th>\n",
       "      <th>gdp</th>\n",
       "      <th>urban</th>\n",
       "      <th>cases_pp</th>\n",
       "      <th>gdp_pp</th>\n",
       "    </tr>\n",
       "    <tr>\n",
       "      <th>state</th>\n",
       "      <th></th>\n",
       "      <th></th>\n",
       "      <th></th>\n",
       "      <th></th>\n",
       "      <th></th>\n",
       "      <th></th>\n",
       "    </tr>\n",
       "  </thead>\n",
       "  <tbody>\n",
       "    <tr>\n",
       "      <th>New York</th>\n",
       "      <td>309696</td>\n",
       "      <td>19453561</td>\n",
       "      <td>1791566.8</td>\n",
       "      <td>87.87</td>\n",
       "      <td>0.015920</td>\n",
       "      <td>0.092095</td>\n",
       "    </tr>\n",
       "    <tr>\n",
       "      <th>New Jersey</th>\n",
       "      <td>118652</td>\n",
       "      <td>8882190</td>\n",
       "      <td>642967.7</td>\n",
       "      <td>94.68</td>\n",
       "      <td>0.013358</td>\n",
       "      <td>0.072388</td>\n",
       "    </tr>\n",
       "    <tr>\n",
       "      <th>Massachusetts</th>\n",
       "      <td>62205</td>\n",
       "      <td>6892503</td>\n",
       "      <td>603209.6</td>\n",
       "      <td>91.97</td>\n",
       "      <td>0.009025</td>\n",
       "      <td>0.087517</td>\n",
       "    </tr>\n",
       "    <tr>\n",
       "      <th>Rhode Island</th>\n",
       "      <td>8621</td>\n",
       "      <td>1059361</td>\n",
       "      <td>62335.4</td>\n",
       "      <td>90.73</td>\n",
       "      <td>0.008138</td>\n",
       "      <td>0.058842</td>\n",
       "    </tr>\n",
       "    <tr>\n",
       "      <th>Connecticut</th>\n",
       "      <td>27700</td>\n",
       "      <td>3565287</td>\n",
       "      <td>290703.0</td>\n",
       "      <td>87.99</td>\n",
       "      <td>0.007769</td>\n",
       "      <td>0.081537</td>\n",
       "    </tr>\n",
       "  </tbody>\n",
       "</table>\n",
       "</div>"
      ],
      "text/plain": [
       "                cases  population        gdp  urban  cases_pp    gdp_pp\n",
       "state                                                                  \n",
       "New York       309696    19453561  1791566.8  87.87  0.015920  0.092095\n",
       "New Jersey     118652     8882190   642967.7  94.68  0.013358  0.072388\n",
       "Massachusetts   62205     6892503   603209.6  91.97  0.009025  0.087517\n",
       "Rhode Island     8621     1059361    62335.4  90.73  0.008138  0.058842\n",
       "Connecticut     27700     3565287   290703.0  87.99  0.007769  0.081537"
      ]
     },
     "execution_count": 17,
     "metadata": {},
     "output_type": "execute_result"
    }
   ],
   "source": [
    "df.sort_values('cases_pp', inplace=True, ascending=False)\n",
    "df.head()"
   ]
  },
  {
   "cell_type": "markdown",
   "id": "8a0e2f63-d22d-4077-b6ab-dd542dfe348d",
   "metadata": {},
   "source": [
    "# Summary statistics"
   ]
  },
  {
   "cell_type": "code",
   "execution_count": 19,
   "id": "d5ded0ae-4894-4ebe-a314-30710c0bfdf9",
   "metadata": {},
   "outputs": [],
   "source": [
    "import numpy as np"
   ]
  },
  {
   "cell_type": "code",
   "execution_count": 20,
   "id": "fce53f07-84bc-4ffe-97d6-0fa707a9f14a",
   "metadata": {},
   "outputs": [],
   "source": [
    "#  The  data:\n",
    "D  =  [-1,  -1,  0,  2,  5]\n",
    "#  Sweep  the  value  of  nu  from  -2  to  6\n",
    "nus  =  np.arange(-2,  6.01,  0.01)\n",
    "#  For  clarity,  store  the  different  error  metrics  in  different  variables. #  Initialize  them  here\n",
    "sum_errors  =  0\n",
    "num_nonzero_errors  =  0\n",
    "sum_abs_errors  =  0\n",
    "sum_square_errors  =  0\n",
    "#  Calculate  the  error  metrics\n",
    "for  d  in  D:\n",
    "    sum_errors  +=  d  -  nus\n",
    "    num_nonzero_errors  +=  (d  -  nus)  !=  0 \n",
    "    sum_abs_errors  +=  np.abs(d  -  nus) \n",
    "    sum_square_errors  +=  (d  -  nus)  **  2"
   ]
  },
  {
   "cell_type": "markdown",
   "id": "1e0a7bce-9e4b-4ad7-a0a0-f2bd3a5aeeee",
   "metadata": {},
   "source": [
    "Entendiendo a las estadísticas de resumen, como un error $e_i=d_i-v$, con $v$ una medida, podemos definir las funciones:\n",
    "$$\\begin{align*}\n",
    "E_s(v)&=\\sum_{o}^{N-1}{e_i}\\\\\n",
    "E_0(v)&=\\sum_{0}^{N-1}{{1}_{\\mathbb{R}-\\left\\{0\\right\\}} (e_i) }\\\\\n",
    "E_1(v)&=\\sum_{0}^{N-1}{|e_i|}\\\\\n",
    "E_2(v)&=\\sum_{0}^{N-1}{(e_i)^2}\n",
    "\\end{align*}$$"
   ]
  },
  {
   "cell_type": "code",
   "execution_count": 22,
   "id": "33b77003-069e-4c10-a614-251df77436e8",
   "metadata": {},
   "outputs": [
    {
     "data": {
      "image/png": "[encoded data removed]",
      "text/plain": [
       "<Figure size 640x480 with 1 Axes>"
      ]
     },
     "metadata": {},
     "output_type": "display_data"
    }
   ],
   "source": [
    "ymin, ymax = plt.ylim()\n",
    "\n",
    "plt.plot(nus, sum_errors, label='Sum of errors')\n",
    "plt.plot(nus, num_nonzero_errors, label='Non zero errors')\n",
    "plt.plot(nus, sum_abs_errors, label='Sum abs errors')\n",
    "plt.plot(nus, sum_square_errors, label='Square errors')\n",
    "plt.scatter(D, ymin * np.ones(5), marker='*', color='k', label='Data')\n",
    "plt.scatter(D[0], ymin + 7, marker='*', color='k')\n",
    "plt.legend()\n",
    "plt.show()"
   ]
  },
  {
   "cell_type": "markdown",
   "id": "47e29586-e218-4d4f-a1d1-808bb55085b5",
   "metadata": {},
   "source": [
    "### Mode"
   ]
  },
  {
   "cell_type": "markdown",
   "id": "bc089521-b2b8-422d-92f4-d0f91b429f2a",
   "metadata": {},
   "source": [
    "La métrica non_zero define la moda."
   ]
  },
  {
   "cell_type": "code",
   "execution_count": 25,
   "id": "9d9c0a99-435a-4288-b8af-c3babb6a913f",
   "metadata": {},
   "outputs": [
    {
     "data": {
      "image/png": "[encoded data removed]",
      "text/plain": [
       "<Figure size 640x480 with 1 Axes>"
      ]
     },
     "metadata": {},
     "output_type": "display_data"
    }
   ],
   "source": [
    "nus = np.arange(-2, 3.01, 0.01) \n",
    "D = [-1, -1, 2, 2]\n",
    "# For clarity, store the different error metrics in different variables.\n",
    "# Initialize them here\n",
    "num_nonzero_errors = 0\n",
    "sum_abs_errors = 0\n",
    "\n",
    "# Calculate the error metrics\n",
    "for d in D:\n",
    "    num_nonzero_errors += np.round((d - nus),10) != 0\n",
    "    sum_abs_errors += np.abs(d - nus)\n",
    "\n",
    "plt.plot(nus, num_nonzero_errors, label=\"No. of nonzero errors\", color= 'C2')\n",
    "plt.plot(nus, sum_abs_errors, label=\"Sum of absolute errors\", color='C1')\n",
    "\n",
    "# Plot the data as markers\n",
    "plt.ylim(0, 25)\n",
    "ymin = 1\n",
    "plt.scatter(D, ymin * np.ones(4), marker=\"*\", label=\"Data\", color=\"k\")\n",
    "# Plot the repeated value at -1 as a second marker:\n",
    "plt.scatter(D[0], ymin + 0.8, marker=\"*\", color=\"k\")\n",
    "\n",
    "\n",
    "plt.xlabel(r\"Summary statistic, ν\")\n",
    "plt.ylabel(\"Error function value\")\n",
    "plt.legend();"
   ]
  },
  {
   "cell_type": "code",
   "execution_count": 26,
   "id": "733896a6-1ef1-4be2-af4b-70c2eb8eb10a",
   "metadata": {},
   "outputs": [
    {
     "data": {
      "text/html": [
       "<div>\n",
       "<style scoped>\n",
       "    .dataframe tbody tr th:only-of-type {\n",
       "        vertical-align: middle;\n",
       "    }\n",
       "\n",
       "    .dataframe tbody tr th {\n",
       "        vertical-align: top;\n",
       "    }\n",
       "\n",
       "    .dataframe thead th {\n",
       "        text-align: right;\n",
       "    }\n",
       "</style>\n",
       "<table border=\"1\" class=\"dataframe\">\n",
       "  <thead>\n",
       "    <tr style=\"text-align: right;\">\n",
       "      <th></th>\n",
       "      <th>0</th>\n",
       "    </tr>\n",
       "  </thead>\n",
       "  <tbody>\n",
       "    <tr>\n",
       "      <th>0</th>\n",
       "      <td>-1</td>\n",
       "    </tr>\n",
       "    <tr>\n",
       "      <th>1</th>\n",
       "      <td>-1</td>\n",
       "    </tr>\n",
       "    <tr>\n",
       "      <th>2</th>\n",
       "      <td>2</td>\n",
       "    </tr>\n",
       "    <tr>\n",
       "      <th>3</th>\n",
       "      <td>2</td>\n",
       "    </tr>\n",
       "  </tbody>\n",
       "</table>\n",
       "</div>"
      ],
      "text/plain": [
       "   0\n",
       "0 -1\n",
       "1 -1\n",
       "2  2\n",
       "3  2"
      ]
     },
     "execution_count": 26,
     "metadata": {},
     "output_type": "execute_result"
    }
   ],
   "source": [
    "df = pd.DataFrame(D)\n",
    "df"
   ]
  },
  {
   "cell_type": "code",
   "execution_count": 27,
   "id": "53fd925f-cc06-427b-9d1a-b7eaaf5e3e37",
   "metadata": {},
   "outputs": [
    {
     "data": {
      "text/html": [
       "<div>\n",
       "<style scoped>\n",
       "    .dataframe tbody tr th:only-of-type {\n",
       "        vertical-align: middle;\n",
       "    }\n",
       "\n",
       "    .dataframe tbody tr th {\n",
       "        vertical-align: top;\n",
       "    }\n",
       "\n",
       "    .dataframe thead th {\n",
       "        text-align: right;\n",
       "    }\n",
       "</style>\n",
       "<table border=\"1\" class=\"dataframe\">\n",
       "  <thead>\n",
       "    <tr style=\"text-align: right;\">\n",
       "      <th></th>\n",
       "      <th>0</th>\n",
       "    </tr>\n",
       "  </thead>\n",
       "  <tbody>\n",
       "    <tr>\n",
       "      <th>0</th>\n",
       "      <td>-1</td>\n",
       "    </tr>\n",
       "    <tr>\n",
       "      <th>1</th>\n",
       "      <td>2</td>\n",
       "    </tr>\n",
       "  </tbody>\n",
       "</table>\n",
       "</div>"
      ],
      "text/plain": [
       "   0\n",
       "0 -1\n",
       "1  2"
      ]
     },
     "execution_count": 27,
     "metadata": {},
     "output_type": "execute_result"
    }
   ],
   "source": [
    "df.mode()"
   ]
  },
  {
   "cell_type": "code",
   "execution_count": 28,
   "id": "6fd5444d-0e6b-4fec-8d54-e31b3147b663",
   "metadata": {},
   "outputs": [
    {
     "data": {
      "text/plain": [
       "ModeResult(mode=-1, count=2)"
      ]
     },
     "execution_count": 28,
     "metadata": {},
     "output_type": "execute_result"
    }
   ],
   "source": [
    "import scipy.stats as stats\n",
    "stats.mode(D, keepdims=False)"
   ]
  },
  {
   "cell_type": "markdown",
   "id": "07a3cca9-051f-4230-a3fd-636533f69c8d",
   "metadata": {},
   "source": [
    "## Median"
   ]
  },
  {
   "cell_type": "markdown",
   "id": "cdb46415-cbdf-47c9-abd6-831d78283fa9",
   "metadata": {},
   "source": [
    "La mediana se obtiene con la función de valores absolutos, la cuál cambia de pendiente cuando los valores de $v$ y $d_i$ coinciden."
   ]
  },
  {
   "cell_type": "code",
   "execution_count": 31,
   "id": "aaa35431-05dd-4e90-8e65-d5b92ab78319",
   "metadata": {},
   "outputs": [
    {
     "data": {
      "text/plain": [
       "0.5"
      ]
     },
     "execution_count": 31,
     "metadata": {},
     "output_type": "execute_result"
    }
   ],
   "source": [
    "np.median(D)"
   ]
  },
  {
   "cell_type": "code",
   "execution_count": 32,
   "id": "192a24e9-d91d-4969-8053-39adfc1a0c3d",
   "metadata": {},
   "outputs": [
    {
     "data": {
      "text/plain": [
       "0    0.5\n",
       "dtype: float64"
      ]
     },
     "execution_count": 32,
     "metadata": {},
     "output_type": "execute_result"
    }
   ],
   "source": [
    "df.median()"
   ]
  },
  {
   "cell_type": "markdown",
   "id": "541bc946-e546-4b8b-bfdd-bdab1e62d15b",
   "metadata": {},
   "source": [
    "## Mean"
   ]
  },
  {
   "cell_type": "markdown",
   "id": "71c1cab1-2595-4d80-9195-e9101631def6",
   "metadata": {},
   "source": [
    "La media de se obtiene de la derivada de la función de suma de errores cuadrados."
   ]
  },
  {
   "cell_type": "code",
   "execution_count": 35,
   "id": "8a8ca9f2-8822-4cb5-a2ad-029e860dcd07",
   "metadata": {},
   "outputs": [
    {
     "data": {
      "text/plain": [
       "0.5"
      ]
     },
     "execution_count": 35,
     "metadata": {},
     "output_type": "execute_result"
    }
   ],
   "source": [
    "np.mean(D)"
   ]
  },
  {
   "cell_type": "code",
   "execution_count": 36,
   "id": "1134f169-d9e8-49f5-90b6-b94f04594f01",
   "metadata": {},
   "outputs": [
    {
     "data": {
      "text/plain": [
       "0    0.5\n",
       "dtype: float64"
      ]
     },
     "execution_count": 36,
     "metadata": {},
     "output_type": "execute_result"
    }
   ],
   "source": [
    "df.mean()"
   ]
  },
  {
   "cell_type": "markdown",
   "id": "53b10ee4-ba81-4c89-b4ec-fe8389684ec7",
   "metadata": {},
   "source": [
    "# Case study"
   ]
  },
  {
   "cell_type": "markdown",
   "id": "c3a90fee-8ac4-415e-8deb-05d4923dfd8c",
   "metadata": {},
   "source": [
    "## Partitions"
   ]
  },
  {
   "cell_type": "code",
   "execution_count": 39,
   "id": "899dfe6d-2644-4ae6-89e8-33a57abdf5bc",
   "metadata": {},
   "outputs": [],
   "source": [
    "df  =  pd.read_csv(  'https://www.fdsp.net/data/covid-merged.csv'  )\n",
    "df.set_index('state', inplace=True)\n",
    "df['cases_norm'] = df['cases'] / df['population'] * 1000"
   ]
  },
  {
   "cell_type": "code",
   "execution_count": 40,
   "id": "b1749c4f-402e-48e5-8095-cd21c946bcdb",
   "metadata": {},
   "outputs": [
    {
     "data": {
      "text/html": [
       "<div>\n",
       "<style scoped>\n",
       "    .dataframe tbody tr th:only-of-type {\n",
       "        vertical-align: middle;\n",
       "    }\n",
       "\n",
       "    .dataframe tbody tr th {\n",
       "        vertical-align: top;\n",
       "    }\n",
       "\n",
       "    .dataframe thead th {\n",
       "        text-align: right;\n",
       "    }\n",
       "</style>\n",
       "<table border=\"1\" class=\"dataframe\">\n",
       "  <thead>\n",
       "    <tr style=\"text-align: right;\">\n",
       "      <th></th>\n",
       "      <th>cases</th>\n",
       "      <th>population</th>\n",
       "      <th>gdp</th>\n",
       "      <th>urban</th>\n",
       "      <th>cases_norm</th>\n",
       "    </tr>\n",
       "    <tr>\n",
       "      <th>state</th>\n",
       "      <th></th>\n",
       "      <th></th>\n",
       "      <th></th>\n",
       "      <th></th>\n",
       "      <th></th>\n",
       "    </tr>\n",
       "  </thead>\n",
       "  <tbody>\n",
       "    <tr>\n",
       "      <th>Alabama</th>\n",
       "      <td>7068</td>\n",
       "      <td>4903185</td>\n",
       "      <td>230750.1</td>\n",
       "      <td>59.04</td>\n",
       "      <td>1.441512</td>\n",
       "    </tr>\n",
       "    <tr>\n",
       "      <th>Alaska</th>\n",
       "      <td>353</td>\n",
       "      <td>731545</td>\n",
       "      <td>54674.7</td>\n",
       "      <td>66.02</td>\n",
       "      <td>0.482540</td>\n",
       "    </tr>\n",
       "    <tr>\n",
       "      <th>Arizona</th>\n",
       "      <td>7648</td>\n",
       "      <td>7278717</td>\n",
       "      <td>379018.8</td>\n",
       "      <td>89.81</td>\n",
       "      <td>1.050735</td>\n",
       "    </tr>\n",
       "    <tr>\n",
       "      <th>Arkansas</th>\n",
       "      <td>3281</td>\n",
       "      <td>3017804</td>\n",
       "      <td>132596.4</td>\n",
       "      <td>56.16</td>\n",
       "      <td>1.087214</td>\n",
       "    </tr>\n",
       "    <tr>\n",
       "      <th>California</th>\n",
       "      <td>50470</td>\n",
       "      <td>39512223</td>\n",
       "      <td>3205000.1</td>\n",
       "      <td>94.95</td>\n",
       "      <td>1.277326</td>\n",
       "    </tr>\n",
       "  </tbody>\n",
       "</table>\n",
       "</div>"
      ],
      "text/plain": [
       "            cases  population        gdp  urban  cases_norm\n",
       "state                                                      \n",
       "Alabama      7068     4903185   230750.1  59.04    1.441512\n",
       "Alaska        353      731545    54674.7  66.02    0.482540\n",
       "Arizona      7648     7278717   379018.8  89.81    1.050735\n",
       "Arkansas     3281     3017804   132596.4  56.16    1.087214\n",
       "California  50470    39512223  3205000.1  94.95    1.277326"
      ]
     },
     "execution_count": 40,
     "metadata": {},
     "output_type": "execute_result"
    }
   ],
   "source": [
    "df.head()"
   ]
  },
  {
   "cell_type": "markdown",
   "id": "e203d7b7-3c25-494e-8b91-100056daaa9c",
   "metadata": {},
   "source": [
    "También normalizamos el producto interno bruto (DGP) en millones de dálares a miles de dólares por persona. "
   ]
  },
  {
   "cell_type": "code",
   "execution_count": 42,
   "id": "e93fd692-2e9a-4dbf-8285-54c9f6ea43d5",
   "metadata": {},
   "outputs": [
    {
     "data": {
      "text/html": [
       "<div>\n",
       "<style scoped>\n",
       "    .dataframe tbody tr th:only-of-type {\n",
       "        vertical-align: middle;\n",
       "    }\n",
       "\n",
       "    .dataframe tbody tr th {\n",
       "        vertical-align: top;\n",
       "    }\n",
       "\n",
       "    .dataframe thead th {\n",
       "        text-align: right;\n",
       "    }\n",
       "</style>\n",
       "<table border=\"1\" class=\"dataframe\">\n",
       "  <thead>\n",
       "    <tr style=\"text-align: right;\">\n",
       "      <th></th>\n",
       "      <th>cases</th>\n",
       "      <th>population</th>\n",
       "      <th>gdp</th>\n",
       "      <th>urban</th>\n",
       "      <th>cases_norm</th>\n",
       "      <th>gdp_norm</th>\n",
       "    </tr>\n",
       "    <tr>\n",
       "      <th>state</th>\n",
       "      <th></th>\n",
       "      <th></th>\n",
       "      <th></th>\n",
       "      <th></th>\n",
       "      <th></th>\n",
       "      <th></th>\n",
       "    </tr>\n",
       "  </thead>\n",
       "  <tbody>\n",
       "    <tr>\n",
       "      <th>Alabama</th>\n",
       "      <td>7068</td>\n",
       "      <td>4903185</td>\n",
       "      <td>230750.1</td>\n",
       "      <td>59.04</td>\n",
       "      <td>1.441512</td>\n",
       "      <td>47.061267</td>\n",
       "    </tr>\n",
       "    <tr>\n",
       "      <th>Alaska</th>\n",
       "      <td>353</td>\n",
       "      <td>731545</td>\n",
       "      <td>54674.7</td>\n",
       "      <td>66.02</td>\n",
       "      <td>0.482540</td>\n",
       "      <td>74.738670</td>\n",
       "    </tr>\n",
       "    <tr>\n",
       "      <th>Arizona</th>\n",
       "      <td>7648</td>\n",
       "      <td>7278717</td>\n",
       "      <td>379018.8</td>\n",
       "      <td>89.81</td>\n",
       "      <td>1.050735</td>\n",
       "      <td>52.072199</td>\n",
       "    </tr>\n",
       "    <tr>\n",
       "      <th>Arkansas</th>\n",
       "      <td>3281</td>\n",
       "      <td>3017804</td>\n",
       "      <td>132596.4</td>\n",
       "      <td>56.16</td>\n",
       "      <td>1.087214</td>\n",
       "      <td>43.938042</td>\n",
       "    </tr>\n",
       "    <tr>\n",
       "      <th>California</th>\n",
       "      <td>50470</td>\n",
       "      <td>39512223</td>\n",
       "      <td>3205000.1</td>\n",
       "      <td>94.95</td>\n",
       "      <td>1.277326</td>\n",
       "      <td>81.114143</td>\n",
       "    </tr>\n",
       "  </tbody>\n",
       "</table>\n",
       "</div>"
      ],
      "text/plain": [
       "            cases  population        gdp  urban  cases_norm   gdp_norm\n",
       "state                                                                 \n",
       "Alabama      7068     4903185   230750.1  59.04    1.441512  47.061267\n",
       "Alaska        353      731545    54674.7  66.02    0.482540  74.738670\n",
       "Arizona      7648     7278717   379018.8  89.81    1.050735  52.072199\n",
       "Arkansas     3281     3017804   132596.4  56.16    1.087214  43.938042\n",
       "California  50470    39512223  3205000.1  94.95    1.277326  81.114143"
      ]
     },
     "execution_count": 42,
     "metadata": {},
     "output_type": "execute_result"
    }
   ],
   "source": [
    "df['gdp_norm'] = df['gdp'] / df['population'] * 1000\n",
    "df.head()"
   ]
  },
  {
   "cell_type": "markdown",
   "id": "f7d15b57-ce2d-430a-a3f7-9e42e7ae8058",
   "metadata": {},
   "source": [
    "## Partitioning using median"
   ]
  },
  {
   "cell_type": "markdown",
   "id": "475aeec1-c441-4246-b8b3-f4e7de95c194",
   "metadata": {},
   "source": [
    "Dividimos el dataframe según la mediana de gdp_norm:"
   ]
  },
  {
   "cell_type": "code",
   "execution_count": 45,
   "id": "62c1e61d-36dd-4be5-a038-16e1f81132a0",
   "metadata": {},
   "outputs": [
    {
     "data": {
      "text/html": [
       "<div>\n",
       "<style scoped>\n",
       "    .dataframe tbody tr th:only-of-type {\n",
       "        vertical-align: middle;\n",
       "    }\n",
       "\n",
       "    .dataframe tbody tr th {\n",
       "        vertical-align: top;\n",
       "    }\n",
       "\n",
       "    .dataframe thead th {\n",
       "        text-align: right;\n",
       "    }\n",
       "</style>\n",
       "<table border=\"1\" class=\"dataframe\">\n",
       "  <thead>\n",
       "    <tr style=\"text-align: right;\">\n",
       "      <th></th>\n",
       "      <th>cases</th>\n",
       "      <th>population</th>\n",
       "      <th>gdp</th>\n",
       "      <th>urban</th>\n",
       "      <th>cases_norm</th>\n",
       "      <th>gdp_norm</th>\n",
       "    </tr>\n",
       "    <tr>\n",
       "      <th>state</th>\n",
       "      <th></th>\n",
       "      <th></th>\n",
       "      <th></th>\n",
       "      <th></th>\n",
       "      <th></th>\n",
       "      <th></th>\n",
       "    </tr>\n",
       "  </thead>\n",
       "  <tbody>\n",
       "    <tr>\n",
       "      <th>Alaska</th>\n",
       "      <td>353</td>\n",
       "      <td>731545</td>\n",
       "      <td>54674.7</td>\n",
       "      <td>66.02</td>\n",
       "      <td>0.482540</td>\n",
       "      <td>74.738670</td>\n",
       "    </tr>\n",
       "    <tr>\n",
       "      <th>California</th>\n",
       "      <td>50470</td>\n",
       "      <td>39512223</td>\n",
       "      <td>3205000.1</td>\n",
       "      <td>94.95</td>\n",
       "      <td>1.277326</td>\n",
       "      <td>81.114143</td>\n",
       "    </tr>\n",
       "    <tr>\n",
       "      <th>Colorado</th>\n",
       "      <td>15207</td>\n",
       "      <td>5758736</td>\n",
       "      <td>400863.4</td>\n",
       "      <td>86.15</td>\n",
       "      <td>2.640684</td>\n",
       "      <td>69.609616</td>\n",
       "    </tr>\n",
       "    <tr>\n",
       "      <th>Connecticut</th>\n",
       "      <td>27700</td>\n",
       "      <td>3565287</td>\n",
       "      <td>290703.0</td>\n",
       "      <td>87.99</td>\n",
       "      <td>7.769361</td>\n",
       "      <td>81.537054</td>\n",
       "    </tr>\n",
       "    <tr>\n",
       "      <th>Delaware</th>\n",
       "      <td>4734</td>\n",
       "      <td>973764</td>\n",
       "      <td>77879.4</td>\n",
       "      <td>83.30</td>\n",
       "      <td>4.861548</td>\n",
       "      <td>79.977695</td>\n",
       "    </tr>\n",
       "  </tbody>\n",
       "</table>\n",
       "</div>"
      ],
      "text/plain": [
       "             cases  population        gdp  urban  cases_norm   gdp_norm\n",
       "state                                                                  \n",
       "Alaska         353      731545    54674.7  66.02    0.482540  74.738670\n",
       "California   50470    39512223  3205000.1  94.95    1.277326  81.114143\n",
       "Colorado     15207     5758736   400863.4  86.15    2.640684  69.609616\n",
       "Connecticut  27700     3565287   290703.0  87.99    7.769361  81.537054\n",
       "Delaware      4734      973764    77879.4  83.30    4.861548  79.977695"
      ]
     },
     "execution_count": 45,
     "metadata": {},
     "output_type": "execute_result"
    }
   ],
   "source": [
    "median_gdp_norm = df['gdp_norm'].median()\n",
    "lower_gdp = df.query('gdp_norm > @median_gdp_norm')\n",
    "lower_gdp.head()"
   ]
  },
  {
   "cell_type": "code",
   "execution_count": 46,
   "id": "22f7964d-938c-413e-b370-fbc6ff5c3c6d",
   "metadata": {},
   "outputs": [
    {
     "data": {
      "text/html": [
       "<div>\n",
       "<style scoped>\n",
       "    .dataframe tbody tr th:only-of-type {\n",
       "        vertical-align: middle;\n",
       "    }\n",
       "\n",
       "    .dataframe tbody tr th {\n",
       "        vertical-align: top;\n",
       "    }\n",
       "\n",
       "    .dataframe thead th {\n",
       "        text-align: right;\n",
       "    }\n",
       "</style>\n",
       "<table border=\"1\" class=\"dataframe\">\n",
       "  <thead>\n",
       "    <tr style=\"text-align: right;\">\n",
       "      <th></th>\n",
       "      <th>cases</th>\n",
       "      <th>population</th>\n",
       "      <th>gdp</th>\n",
       "      <th>urban</th>\n",
       "      <th>cases_norm</th>\n",
       "      <th>gdp_norm</th>\n",
       "    </tr>\n",
       "    <tr>\n",
       "      <th>state</th>\n",
       "      <th></th>\n",
       "      <th></th>\n",
       "      <th></th>\n",
       "      <th></th>\n",
       "      <th></th>\n",
       "      <th></th>\n",
       "    </tr>\n",
       "  </thead>\n",
       "  <tbody>\n",
       "    <tr>\n",
       "      <th>Alabama</th>\n",
       "      <td>7068</td>\n",
       "      <td>4903185</td>\n",
       "      <td>230750.1</td>\n",
       "      <td>59.04</td>\n",
       "      <td>1.441512</td>\n",
       "      <td>47.061267</td>\n",
       "    </tr>\n",
       "    <tr>\n",
       "      <th>Arizona</th>\n",
       "      <td>7648</td>\n",
       "      <td>7278717</td>\n",
       "      <td>379018.8</td>\n",
       "      <td>89.81</td>\n",
       "      <td>1.050735</td>\n",
       "      <td>52.072199</td>\n",
       "    </tr>\n",
       "    <tr>\n",
       "      <th>Arkansas</th>\n",
       "      <td>3281</td>\n",
       "      <td>3017804</td>\n",
       "      <td>132596.4</td>\n",
       "      <td>56.16</td>\n",
       "      <td>1.087214</td>\n",
       "      <td>43.938042</td>\n",
       "    </tr>\n",
       "    <tr>\n",
       "      <th>Florida</th>\n",
       "      <td>33683</td>\n",
       "      <td>21477737</td>\n",
       "      <td>1126510.3</td>\n",
       "      <td>91.16</td>\n",
       "      <td>1.568275</td>\n",
       "      <td>52.450139</td>\n",
       "    </tr>\n",
       "    <tr>\n",
       "      <th>Georgia</th>\n",
       "      <td>25431</td>\n",
       "      <td>10617423</td>\n",
       "      <td>634137.5</td>\n",
       "      <td>75.07</td>\n",
       "      <td>2.395214</td>\n",
       "      <td>59.726122</td>\n",
       "    </tr>\n",
       "  </tbody>\n",
       "</table>\n",
       "</div>"
      ],
      "text/plain": [
       "          cases  population        gdp  urban  cases_norm   gdp_norm\n",
       "state                                                               \n",
       "Alabama    7068     4903185   230750.1  59.04    1.441512  47.061267\n",
       "Arizona    7648     7278717   379018.8  89.81    1.050735  52.072199\n",
       "Arkansas   3281     3017804   132596.4  56.16    1.087214  43.938042\n",
       "Florida   33683    21477737  1126510.3  91.16    1.568275  52.450139\n",
       "Georgia   25431    10617423   634137.5  75.07    2.395214  59.726122"
      ]
     },
     "execution_count": 46,
     "metadata": {},
     "output_type": "execute_result"
    }
   ],
   "source": [
    "higher_gdp = df.query('gdp_norm <= @median_gdp_norm')\n",
    "higher_gdp.head()"
   ]
  },
  {
   "cell_type": "code",
   "execution_count": 47,
   "id": "d7c09c28-28d1-4ee1-947a-d47c3cf6cf86",
   "metadata": {},
   "outputs": [
    {
     "data": {
      "image/png": "[encoded data removed]",
      "text/plain": [
       "<Figure size 640x480 with 1 Axes>"
      ]
     },
     "metadata": {},
     "output_type": "display_data"
    }
   ],
   "source": [
    "mybins = np.arange(0, 18, 2)\n",
    "plt.hist(higher_gdp['cases_norm'], bins=mybins, label='GDP_norm > median_gdp_norm', alpha=0.7)\n",
    "plt.hist(lower_gdp['cases_norm'], bins=mybins, label='GDP_norm <= median_gdp_norm', alpha=0.7)\n",
    "plt.legend()\n",
    "plt.xlabel('Cases per thousands')\n",
    "plt.ylabel('Count')\n",
    "plt.show()"
   ]
  },
  {
   "cell_type": "code",
   "execution_count": 48,
   "id": "2920f860-fd56-4a74-9064-f5f9e9835bd0",
   "metadata": {},
   "outputs": [
    {
     "data": {
      "text/plain": [
       "(1.3878449780364717, 1.9453983135416348)"
      ]
     },
     "execution_count": 48,
     "metadata": {},
     "output_type": "execute_result"
    }
   ],
   "source": [
    "hgdp = higher_gdp['cases_norm'].median()\n",
    "lgdp = lower_gdp['cases_norm'].median()\n",
    "hgdp, lgdp"
   ]
  },
  {
   "cell_type": "markdown",
   "id": "4df241a6-2cd1-4209-a2fc-b63918ede8c4",
   "metadata": {},
   "source": [
    "### Exercise: drop New York and New Jersey"
   ]
  },
  {
   "cell_type": "markdown",
   "id": "56b32378-e740-4eaf-bc10-1802161acd95",
   "metadata": {},
   "source": [
    "Los valores de los estados de New York y New Jersey sesgan los valores del dataset. Los quitamos y analizamos de nuevo."
   ]
  },
  {
   "cell_type": "code",
   "execution_count": 51,
   "id": "2a3bb3d5-62db-4e8f-a692-1e7f03694c32",
   "metadata": {},
   "outputs": [
    {
     "data": {
      "text/html": [
       "<div>\n",
       "<style scoped>\n",
       "    .dataframe tbody tr th:only-of-type {\n",
       "        vertical-align: middle;\n",
       "    }\n",
       "\n",
       "    .dataframe tbody tr th {\n",
       "        vertical-align: top;\n",
       "    }\n",
       "\n",
       "    .dataframe thead th {\n",
       "        text-align: right;\n",
       "    }\n",
       "</style>\n",
       "<table border=\"1\" class=\"dataframe\">\n",
       "  <thead>\n",
       "    <tr style=\"text-align: right;\">\n",
       "      <th></th>\n",
       "      <th>cases</th>\n",
       "      <th>population</th>\n",
       "      <th>gdp</th>\n",
       "      <th>urban</th>\n",
       "      <th>cases_norm</th>\n",
       "      <th>gdp_norm</th>\n",
       "    </tr>\n",
       "    <tr>\n",
       "      <th>state</th>\n",
       "      <th></th>\n",
       "      <th></th>\n",
       "      <th></th>\n",
       "      <th></th>\n",
       "      <th></th>\n",
       "      <th></th>\n",
       "    </tr>\n",
       "  </thead>\n",
       "  <tbody>\n",
       "    <tr>\n",
       "      <th>Alabama</th>\n",
       "      <td>7068</td>\n",
       "      <td>4903185</td>\n",
       "      <td>230750.1</td>\n",
       "      <td>59.04</td>\n",
       "      <td>1.441512</td>\n",
       "      <td>47.061267</td>\n",
       "    </tr>\n",
       "    <tr>\n",
       "      <th>Alaska</th>\n",
       "      <td>353</td>\n",
       "      <td>731545</td>\n",
       "      <td>54674.7</td>\n",
       "      <td>66.02</td>\n",
       "      <td>0.482540</td>\n",
       "      <td>74.738670</td>\n",
       "    </tr>\n",
       "    <tr>\n",
       "      <th>Arizona</th>\n",
       "      <td>7648</td>\n",
       "      <td>7278717</td>\n",
       "      <td>379018.8</td>\n",
       "      <td>89.81</td>\n",
       "      <td>1.050735</td>\n",
       "      <td>52.072199</td>\n",
       "    </tr>\n",
       "    <tr>\n",
       "      <th>Arkansas</th>\n",
       "      <td>3281</td>\n",
       "      <td>3017804</td>\n",
       "      <td>132596.4</td>\n",
       "      <td>56.16</td>\n",
       "      <td>1.087214</td>\n",
       "      <td>43.938042</td>\n",
       "    </tr>\n",
       "    <tr>\n",
       "      <th>California</th>\n",
       "      <td>50470</td>\n",
       "      <td>39512223</td>\n",
       "      <td>3205000.1</td>\n",
       "      <td>94.95</td>\n",
       "      <td>1.277326</td>\n",
       "      <td>81.114143</td>\n",
       "    </tr>\n",
       "  </tbody>\n",
       "</table>\n",
       "</div>"
      ],
      "text/plain": [
       "            cases  population        gdp  urban  cases_norm   gdp_norm\n",
       "state                                                                 \n",
       "Alabama      7068     4903185   230750.1  59.04    1.441512  47.061267\n",
       "Alaska        353      731545    54674.7  66.02    0.482540  74.738670\n",
       "Arizona      7648     7278717   379018.8  89.81    1.050735  52.072199\n",
       "Arkansas     3281     3017804   132596.4  56.16    1.087214  43.938042\n",
       "California  50470    39512223  3205000.1  94.95    1.277326  81.114143"
      ]
     },
     "execution_count": 51,
     "metadata": {},
     "output_type": "execute_result"
    }
   ],
   "source": [
    "df2 = df.drop(['New York', 'New Jersey'])\n",
    "df2.head()"
   ]
  },
  {
   "cell_type": "code",
   "execution_count": 52,
   "id": "0b4bcf4e-e8d0-4a75-a8ff-eeac875eb08d",
   "metadata": {},
   "outputs": [
    {
     "data": {
      "text/html": [
       "<div>\n",
       "<style scoped>\n",
       "    .dataframe tbody tr th:only-of-type {\n",
       "        vertical-align: middle;\n",
       "    }\n",
       "\n",
       "    .dataframe tbody tr th {\n",
       "        vertical-align: top;\n",
       "    }\n",
       "\n",
       "    .dataframe thead th {\n",
       "        text-align: right;\n",
       "    }\n",
       "</style>\n",
       "<table border=\"1\" class=\"dataframe\">\n",
       "  <thead>\n",
       "    <tr style=\"text-align: right;\">\n",
       "      <th></th>\n",
       "      <th>cases</th>\n",
       "      <th>population</th>\n",
       "      <th>gdp</th>\n",
       "      <th>urban</th>\n",
       "      <th>cases_norm</th>\n",
       "      <th>gdp_norm</th>\n",
       "    </tr>\n",
       "    <tr>\n",
       "      <th>state</th>\n",
       "      <th></th>\n",
       "      <th></th>\n",
       "      <th></th>\n",
       "      <th></th>\n",
       "      <th></th>\n",
       "      <th></th>\n",
       "    </tr>\n",
       "  </thead>\n",
       "  <tbody>\n",
       "    <tr>\n",
       "      <th>Alaska</th>\n",
       "      <td>353</td>\n",
       "      <td>731545</td>\n",
       "      <td>54674.7</td>\n",
       "      <td>66.02</td>\n",
       "      <td>0.482540</td>\n",
       "      <td>74.738670</td>\n",
       "    </tr>\n",
       "    <tr>\n",
       "      <th>California</th>\n",
       "      <td>50470</td>\n",
       "      <td>39512223</td>\n",
       "      <td>3205000.1</td>\n",
       "      <td>94.95</td>\n",
       "      <td>1.277326</td>\n",
       "      <td>81.114143</td>\n",
       "    </tr>\n",
       "    <tr>\n",
       "      <th>Colorado</th>\n",
       "      <td>15207</td>\n",
       "      <td>5758736</td>\n",
       "      <td>400863.4</td>\n",
       "      <td>86.15</td>\n",
       "      <td>2.640684</td>\n",
       "      <td>69.609616</td>\n",
       "    </tr>\n",
       "    <tr>\n",
       "      <th>Connecticut</th>\n",
       "      <td>27700</td>\n",
       "      <td>3565287</td>\n",
       "      <td>290703.0</td>\n",
       "      <td>87.99</td>\n",
       "      <td>7.769361</td>\n",
       "      <td>81.537054</td>\n",
       "    </tr>\n",
       "    <tr>\n",
       "      <th>Delaware</th>\n",
       "      <td>4734</td>\n",
       "      <td>973764</td>\n",
       "      <td>77879.4</td>\n",
       "      <td>83.30</td>\n",
       "      <td>4.861548</td>\n",
       "      <td>79.977695</td>\n",
       "    </tr>\n",
       "  </tbody>\n",
       "</table>\n",
       "</div>"
      ],
      "text/plain": [
       "             cases  population        gdp  urban  cases_norm   gdp_norm\n",
       "state                                                                  \n",
       "Alaska         353      731545    54674.7  66.02    0.482540  74.738670\n",
       "California   50470    39512223  3205000.1  94.95    1.277326  81.114143\n",
       "Colorado     15207     5758736   400863.4  86.15    2.640684  69.609616\n",
       "Connecticut  27700     3565287   290703.0  87.99    7.769361  81.537054\n",
       "Delaware      4734      973764    77879.4  83.30    4.861548  79.977695"
      ]
     },
     "execution_count": 52,
     "metadata": {},
     "output_type": "execute_result"
    }
   ],
   "source": [
    "median_gdp_norm = df2['gdp_norm'].median()\n",
    "lower_gdp = df2.query('gdp_norm > @median_gdp_norm')\n",
    "lower_gdp.head()"
   ]
  },
  {
   "cell_type": "code",
   "execution_count": 53,
   "id": "1b4d7f22-d5f3-4369-b49e-b4a61f7300b9",
   "metadata": {},
   "outputs": [
    {
     "data": {
      "text/html": [
       "<div>\n",
       "<style scoped>\n",
       "    .dataframe tbody tr th:only-of-type {\n",
       "        vertical-align: middle;\n",
       "    }\n",
       "\n",
       "    .dataframe tbody tr th {\n",
       "        vertical-align: top;\n",
       "    }\n",
       "\n",
       "    .dataframe thead th {\n",
       "        text-align: right;\n",
       "    }\n",
       "</style>\n",
       "<table border=\"1\" class=\"dataframe\">\n",
       "  <thead>\n",
       "    <tr style=\"text-align: right;\">\n",
       "      <th></th>\n",
       "      <th>cases</th>\n",
       "      <th>population</th>\n",
       "      <th>gdp</th>\n",
       "      <th>urban</th>\n",
       "      <th>cases_norm</th>\n",
       "      <th>gdp_norm</th>\n",
       "    </tr>\n",
       "    <tr>\n",
       "      <th>state</th>\n",
       "      <th></th>\n",
       "      <th></th>\n",
       "      <th></th>\n",
       "      <th></th>\n",
       "      <th></th>\n",
       "      <th></th>\n",
       "    </tr>\n",
       "  </thead>\n",
       "  <tbody>\n",
       "    <tr>\n",
       "      <th>Alabama</th>\n",
       "      <td>7068</td>\n",
       "      <td>4903185</td>\n",
       "      <td>230750.1</td>\n",
       "      <td>59.04</td>\n",
       "      <td>1.441512</td>\n",
       "      <td>47.061267</td>\n",
       "    </tr>\n",
       "    <tr>\n",
       "      <th>Arizona</th>\n",
       "      <td>7648</td>\n",
       "      <td>7278717</td>\n",
       "      <td>379018.8</td>\n",
       "      <td>89.81</td>\n",
       "      <td>1.050735</td>\n",
       "      <td>52.072199</td>\n",
       "    </tr>\n",
       "    <tr>\n",
       "      <th>Arkansas</th>\n",
       "      <td>3281</td>\n",
       "      <td>3017804</td>\n",
       "      <td>132596.4</td>\n",
       "      <td>56.16</td>\n",
       "      <td>1.087214</td>\n",
       "      <td>43.938042</td>\n",
       "    </tr>\n",
       "    <tr>\n",
       "      <th>Florida</th>\n",
       "      <td>33683</td>\n",
       "      <td>21477737</td>\n",
       "      <td>1126510.3</td>\n",
       "      <td>91.16</td>\n",
       "      <td>1.568275</td>\n",
       "      <td>52.450139</td>\n",
       "    </tr>\n",
       "    <tr>\n",
       "      <th>Georgia</th>\n",
       "      <td>25431</td>\n",
       "      <td>10617423</td>\n",
       "      <td>634137.5</td>\n",
       "      <td>75.07</td>\n",
       "      <td>2.395214</td>\n",
       "      <td>59.726122</td>\n",
       "    </tr>\n",
       "  </tbody>\n",
       "</table>\n",
       "</div>"
      ],
      "text/plain": [
       "          cases  population        gdp  urban  cases_norm   gdp_norm\n",
       "state                                                               \n",
       "Alabama    7068     4903185   230750.1  59.04    1.441512  47.061267\n",
       "Arizona    7648     7278717   379018.8  89.81    1.050735  52.072199\n",
       "Arkansas   3281     3017804   132596.4  56.16    1.087214  43.938042\n",
       "Florida   33683    21477737  1126510.3  91.16    1.568275  52.450139\n",
       "Georgia   25431    10617423   634137.5  75.07    2.395214  59.726122"
      ]
     },
     "execution_count": 53,
     "metadata": {},
     "output_type": "execute_result"
    }
   ],
   "source": [
    "higher_gdp = df2.query('gdp_norm <= @median_gdp_norm')\n",
    "higher_gdp.head()"
   ]
  },
  {
   "cell_type": "code",
   "execution_count": 54,
   "id": "4a477cb7-085f-44a4-a6bc-cb3f8dc42fb2",
   "metadata": {},
   "outputs": [
    {
     "data": {
      "image/png": "[encoded data removed]",
      "text/plain": [
       "<Figure size 640x480 with 1 Axes>"
      ]
     },
     "metadata": {},
     "output_type": "display_data"
    }
   ],
   "source": [
    "plt.hist(higher_gdp['cases_norm'], bins=mybins, label='GDP_norm > median_gdp_norm', alpha=0.7)\n",
    "plt.hist(lower_gdp['cases_norm'], bins=mybins, label='GDP_norm <= median_gdp_norm', alpha=0.7)\n",
    "plt.legend()\n",
    "plt.xlabel('Cases per thousands')\n",
    "plt.ylabel('Count')\n",
    "plt.show()"
   ]
  },
  {
   "cell_type": "code",
   "execution_count": 55,
   "id": "1d715065-873f-465e-843f-b06462ed7e02",
   "metadata": {
    "scrolled": true
   },
   "outputs": [
    {
     "data": {
      "text/plain": [
       "(1.956147811504551, 2.4875197474167936)"
      ]
     },
     "execution_count": 55,
     "metadata": {},
     "output_type": "execute_result"
    }
   ],
   "source": [
    "higher_gdp['cases_norm'].mean(), lower_gdp['cases_norm'].mean()"
   ]
  },
  {
   "cell_type": "markdown",
   "id": "7b9a58f8-7da0-473a-8def-8a118adff65c",
   "metadata": {},
   "source": [
    "## Exercises"
   ]
  },
  {
   "cell_type": "markdown",
   "id": "904e5fd1-151c-4e47-8245-021b6bafff73",
   "metadata": {},
   "source": [
    "### Exercise: partitioning using the mean"
   ]
  },
  {
   "cell_type": "markdown",
   "id": "7c242650-01cc-4cd1-abae-e5dcea110e4b",
   "metadata": {},
   "source": [
    "Partition the data around the mean GDP. Plot the histograms and find the averages for this new grouping."
   ]
  },
  {
   "cell_type": "code",
   "execution_count": 59,
   "id": "b1469ed7-cd49-4e5f-997c-8492d3c9f031",
   "metadata": {},
   "outputs": [
    {
     "data": {
      "text/html": [
       "<div>\n",
       "<style scoped>\n",
       "    .dataframe tbody tr th:only-of-type {\n",
       "        vertical-align: middle;\n",
       "    }\n",
       "\n",
       "    .dataframe tbody tr th {\n",
       "        vertical-align: top;\n",
       "    }\n",
       "\n",
       "    .dataframe thead th {\n",
       "        text-align: right;\n",
       "    }\n",
       "</style>\n",
       "<table border=\"1\" class=\"dataframe\">\n",
       "  <thead>\n",
       "    <tr style=\"text-align: right;\">\n",
       "      <th></th>\n",
       "      <th>cases</th>\n",
       "      <th>population</th>\n",
       "      <th>gdp</th>\n",
       "      <th>urban</th>\n",
       "      <th>cases_norm</th>\n",
       "      <th>gdp_norm</th>\n",
       "    </tr>\n",
       "    <tr>\n",
       "      <th>state</th>\n",
       "      <th></th>\n",
       "      <th></th>\n",
       "      <th></th>\n",
       "      <th></th>\n",
       "      <th></th>\n",
       "      <th></th>\n",
       "    </tr>\n",
       "  </thead>\n",
       "  <tbody>\n",
       "    <tr>\n",
       "      <th>Alaska</th>\n",
       "      <td>353</td>\n",
       "      <td>731545</td>\n",
       "      <td>54674.7</td>\n",
       "      <td>66.02</td>\n",
       "      <td>0.482540</td>\n",
       "      <td>74.738670</td>\n",
       "    </tr>\n",
       "    <tr>\n",
       "      <th>California</th>\n",
       "      <td>50470</td>\n",
       "      <td>39512223</td>\n",
       "      <td>3205000.1</td>\n",
       "      <td>94.95</td>\n",
       "      <td>1.277326</td>\n",
       "      <td>81.114143</td>\n",
       "    </tr>\n",
       "    <tr>\n",
       "      <th>Colorado</th>\n",
       "      <td>15207</td>\n",
       "      <td>5758736</td>\n",
       "      <td>400863.4</td>\n",
       "      <td>86.15</td>\n",
       "      <td>2.640684</td>\n",
       "      <td>69.609616</td>\n",
       "    </tr>\n",
       "    <tr>\n",
       "      <th>Connecticut</th>\n",
       "      <td>27700</td>\n",
       "      <td>3565287</td>\n",
       "      <td>290703.0</td>\n",
       "      <td>87.99</td>\n",
       "      <td>7.769361</td>\n",
       "      <td>81.537054</td>\n",
       "    </tr>\n",
       "    <tr>\n",
       "      <th>Delaware</th>\n",
       "      <td>4734</td>\n",
       "      <td>973764</td>\n",
       "      <td>77879.4</td>\n",
       "      <td>83.30</td>\n",
       "      <td>4.861548</td>\n",
       "      <td>79.977695</td>\n",
       "    </tr>\n",
       "  </tbody>\n",
       "</table>\n",
       "</div>"
      ],
      "text/plain": [
       "             cases  population        gdp  urban  cases_norm   gdp_norm\n",
       "state                                                                  \n",
       "Alaska         353      731545    54674.7  66.02    0.482540  74.738670\n",
       "California   50470    39512223  3205000.1  94.95    1.277326  81.114143\n",
       "Colorado     15207     5758736   400863.4  86.15    2.640684  69.609616\n",
       "Connecticut  27700     3565287   290703.0  87.99    7.769361  81.537054\n",
       "Delaware      4734      973764    77879.4  83.30    4.861548  79.977695"
      ]
     },
     "execution_count": 59,
     "metadata": {},
     "output_type": "execute_result"
    }
   ],
   "source": [
    "mean_gdp_norm = df2['gdp_norm'].mean()\n",
    "lower_gdp = df2.query('gdp_norm > @mean_gdp_norm')\n",
    "lower_gdp.head()"
   ]
  },
  {
   "cell_type": "code",
   "execution_count": 60,
   "id": "e6e61cca-ce7e-4fec-a1be-24e8cf36b152",
   "metadata": {},
   "outputs": [
    {
     "data": {
      "text/html": [
       "<div>\n",
       "<style scoped>\n",
       "    .dataframe tbody tr th:only-of-type {\n",
       "        vertical-align: middle;\n",
       "    }\n",
       "\n",
       "    .dataframe tbody tr th {\n",
       "        vertical-align: top;\n",
       "    }\n",
       "\n",
       "    .dataframe thead th {\n",
       "        text-align: right;\n",
       "    }\n",
       "</style>\n",
       "<table border=\"1\" class=\"dataframe\">\n",
       "  <thead>\n",
       "    <tr style=\"text-align: right;\">\n",
       "      <th></th>\n",
       "      <th>cases</th>\n",
       "      <th>population</th>\n",
       "      <th>gdp</th>\n",
       "      <th>urban</th>\n",
       "      <th>cases_norm</th>\n",
       "      <th>gdp_norm</th>\n",
       "    </tr>\n",
       "    <tr>\n",
       "      <th>state</th>\n",
       "      <th></th>\n",
       "      <th></th>\n",
       "      <th></th>\n",
       "      <th></th>\n",
       "      <th></th>\n",
       "      <th></th>\n",
       "    </tr>\n",
       "  </thead>\n",
       "  <tbody>\n",
       "    <tr>\n",
       "      <th>Alabama</th>\n",
       "      <td>7068</td>\n",
       "      <td>4903185</td>\n",
       "      <td>230750.1</td>\n",
       "      <td>59.04</td>\n",
       "      <td>1.441512</td>\n",
       "      <td>47.061267</td>\n",
       "    </tr>\n",
       "    <tr>\n",
       "      <th>Arizona</th>\n",
       "      <td>7648</td>\n",
       "      <td>7278717</td>\n",
       "      <td>379018.8</td>\n",
       "      <td>89.81</td>\n",
       "      <td>1.050735</td>\n",
       "      <td>52.072199</td>\n",
       "    </tr>\n",
       "    <tr>\n",
       "      <th>Arkansas</th>\n",
       "      <td>3281</td>\n",
       "      <td>3017804</td>\n",
       "      <td>132596.4</td>\n",
       "      <td>56.16</td>\n",
       "      <td>1.087214</td>\n",
       "      <td>43.938042</td>\n",
       "    </tr>\n",
       "    <tr>\n",
       "      <th>Florida</th>\n",
       "      <td>33683</td>\n",
       "      <td>21477737</td>\n",
       "      <td>1126510.3</td>\n",
       "      <td>91.16</td>\n",
       "      <td>1.568275</td>\n",
       "      <td>52.450139</td>\n",
       "    </tr>\n",
       "    <tr>\n",
       "      <th>Georgia</th>\n",
       "      <td>25431</td>\n",
       "      <td>10617423</td>\n",
       "      <td>634137.5</td>\n",
       "      <td>75.07</td>\n",
       "      <td>2.395214</td>\n",
       "      <td>59.726122</td>\n",
       "    </tr>\n",
       "  </tbody>\n",
       "</table>\n",
       "</div>"
      ],
      "text/plain": [
       "          cases  population        gdp  urban  cases_norm   gdp_norm\n",
       "state                                                               \n",
       "Alabama    7068     4903185   230750.1  59.04    1.441512  47.061267\n",
       "Arizona    7648     7278717   379018.8  89.81    1.050735  52.072199\n",
       "Arkansas   3281     3017804   132596.4  56.16    1.087214  43.938042\n",
       "Florida   33683    21477737  1126510.3  91.16    1.568275  52.450139\n",
       "Georgia   25431    10617423   634137.5  75.07    2.395214  59.726122"
      ]
     },
     "execution_count": 60,
     "metadata": {},
     "output_type": "execute_result"
    }
   ],
   "source": [
    "higher_gdp = df2.query('gdp_norm <= @mean_gdp_norm')\n",
    "higher_gdp.head()"
   ]
  },
  {
   "cell_type": "code",
   "execution_count": 61,
   "id": "64562bf7-e426-4592-975a-f8fe1a26a370",
   "metadata": {},
   "outputs": [
    {
     "data": {
      "image/png": "[encoded data removed]",
      "text/plain": [
       "<Figure size 640x480 with 1 Axes>"
      ]
     },
     "metadata": {},
     "output_type": "display_data"
    }
   ],
   "source": [
    "plt.hist(higher_gdp['cases_norm'], bins=mybins, label='GDP_norm > mean_gdp_norm', alpha=0.7)\n",
    "plt.hist(lower_gdp['cases_norm'], bins=mybins, label='GDP_norm <= mean_gdp_norm', alpha=0.7)\n",
    "plt.legend()\n",
    "plt.xlabel('Cases per thousands')\n",
    "plt.ylabel('Count')\n",
    "plt.show()"
   ]
  },
  {
   "cell_type": "code",
   "execution_count": 62,
   "id": "6cce7c0f-c13e-46c9-bb56-0cd85eedf7d2",
   "metadata": {},
   "outputs": [
    {
     "data": {
      "text/plain": [
       "(61.17427192500435, 60.4806480103203)"
      ]
     },
     "execution_count": 62,
     "metadata": {},
     "output_type": "execute_result"
    }
   ],
   "source": [
    "mean_gdp_norm, median_gdp_norm"
   ]
  },
  {
   "cell_type": "markdown",
   "id": "bf0567f6-4c97-401b-96e2-c7edc2626d9a",
   "metadata": {},
   "source": [
    "### Partitioning based on urban index"
   ]
  },
  {
   "cell_type": "code",
   "execution_count": 64,
   "id": "52956fe0-7b93-4f09-86e4-63f6f5042e19",
   "metadata": {},
   "outputs": [
    {
     "data": {
      "text/plain": [
       "73.735"
      ]
     },
     "execution_count": 64,
     "metadata": {},
     "output_type": "execute_result"
    }
   ],
   "source": [
    "median_urban = df['urban'].median()\n",
    "median_urban"
   ]
  },
  {
   "cell_type": "code",
   "execution_count": 65,
   "id": "273cadd6-f652-428f-97ac-b38268c122f5",
   "metadata": {},
   "outputs": [
    {
     "data": {
      "text/html": [
       "<div>\n",
       "<style scoped>\n",
       "    .dataframe tbody tr th:only-of-type {\n",
       "        vertical-align: middle;\n",
       "    }\n",
       "\n",
       "    .dataframe tbody tr th {\n",
       "        vertical-align: top;\n",
       "    }\n",
       "\n",
       "    .dataframe thead th {\n",
       "        text-align: right;\n",
       "    }\n",
       "</style>\n",
       "<table border=\"1\" class=\"dataframe\">\n",
       "  <thead>\n",
       "    <tr style=\"text-align: right;\">\n",
       "      <th></th>\n",
       "      <th>cases</th>\n",
       "      <th>population</th>\n",
       "      <th>gdp</th>\n",
       "      <th>urban</th>\n",
       "      <th>cases_norm</th>\n",
       "      <th>gdp_norm</th>\n",
       "    </tr>\n",
       "    <tr>\n",
       "      <th>state</th>\n",
       "      <th></th>\n",
       "      <th></th>\n",
       "      <th></th>\n",
       "      <th></th>\n",
       "      <th></th>\n",
       "      <th></th>\n",
       "    </tr>\n",
       "  </thead>\n",
       "  <tbody>\n",
       "    <tr>\n",
       "      <th>Arizona</th>\n",
       "      <td>7648</td>\n",
       "      <td>7278717</td>\n",
       "      <td>379018.8</td>\n",
       "      <td>89.81</td>\n",
       "      <td>1.050735</td>\n",
       "      <td>52.072199</td>\n",
       "    </tr>\n",
       "    <tr>\n",
       "      <th>California</th>\n",
       "      <td>50470</td>\n",
       "      <td>39512223</td>\n",
       "      <td>3205000.1</td>\n",
       "      <td>94.95</td>\n",
       "      <td>1.277326</td>\n",
       "      <td>81.114143</td>\n",
       "    </tr>\n",
       "    <tr>\n",
       "      <th>Colorado</th>\n",
       "      <td>15207</td>\n",
       "      <td>5758736</td>\n",
       "      <td>400863.4</td>\n",
       "      <td>86.15</td>\n",
       "      <td>2.640684</td>\n",
       "      <td>69.609616</td>\n",
       "    </tr>\n",
       "    <tr>\n",
       "      <th>Connecticut</th>\n",
       "      <td>27700</td>\n",
       "      <td>3565287</td>\n",
       "      <td>290703.0</td>\n",
       "      <td>87.99</td>\n",
       "      <td>7.769361</td>\n",
       "      <td>81.537054</td>\n",
       "    </tr>\n",
       "    <tr>\n",
       "      <th>Delaware</th>\n",
       "      <td>4734</td>\n",
       "      <td>973764</td>\n",
       "      <td>77879.4</td>\n",
       "      <td>83.30</td>\n",
       "      <td>4.861548</td>\n",
       "      <td>79.977695</td>\n",
       "    </tr>\n",
       "  </tbody>\n",
       "</table>\n",
       "</div>"
      ],
      "text/plain": [
       "             cases  population        gdp  urban  cases_norm   gdp_norm\n",
       "state                                                                  \n",
       "Arizona       7648     7278717   379018.8  89.81    1.050735  52.072199\n",
       "California   50470    39512223  3205000.1  94.95    1.277326  81.114143\n",
       "Colorado     15207     5758736   400863.4  86.15    2.640684  69.609616\n",
       "Connecticut  27700     3565287   290703.0  87.99    7.769361  81.537054\n",
       "Delaware      4734      973764    77879.4  83.30    4.861548  79.977695"
      ]
     },
     "execution_count": 65,
     "metadata": {},
     "output_type": "execute_result"
    }
   ],
   "source": [
    "higher_urban = df.query('urban > @median_urban')\n",
    "higher_urban.head()"
   ]
  },
  {
   "cell_type": "code",
   "execution_count": 66,
   "id": "bdf1ba82-9682-4be3-bd6b-35ba6dfbce47",
   "metadata": {},
   "outputs": [
    {
     "data": {
      "text/html": [
       "<div>\n",
       "<style scoped>\n",
       "    .dataframe tbody tr th:only-of-type {\n",
       "        vertical-align: middle;\n",
       "    }\n",
       "\n",
       "    .dataframe tbody tr th {\n",
       "        vertical-align: top;\n",
       "    }\n",
       "\n",
       "    .dataframe thead th {\n",
       "        text-align: right;\n",
       "    }\n",
       "</style>\n",
       "<table border=\"1\" class=\"dataframe\">\n",
       "  <thead>\n",
       "    <tr style=\"text-align: right;\">\n",
       "      <th></th>\n",
       "      <th>cases</th>\n",
       "      <th>population</th>\n",
       "      <th>gdp</th>\n",
       "      <th>urban</th>\n",
       "      <th>cases_norm</th>\n",
       "      <th>gdp_norm</th>\n",
       "    </tr>\n",
       "    <tr>\n",
       "      <th>state</th>\n",
       "      <th></th>\n",
       "      <th></th>\n",
       "      <th></th>\n",
       "      <th></th>\n",
       "      <th></th>\n",
       "      <th></th>\n",
       "    </tr>\n",
       "  </thead>\n",
       "  <tbody>\n",
       "    <tr>\n",
       "      <th>Alabama</th>\n",
       "      <td>7068</td>\n",
       "      <td>4903185</td>\n",
       "      <td>230750.1</td>\n",
       "      <td>59.04</td>\n",
       "      <td>1.441512</td>\n",
       "      <td>47.061267</td>\n",
       "    </tr>\n",
       "    <tr>\n",
       "      <th>Alaska</th>\n",
       "      <td>353</td>\n",
       "      <td>731545</td>\n",
       "      <td>54674.7</td>\n",
       "      <td>66.02</td>\n",
       "      <td>0.482540</td>\n",
       "      <td>74.738670</td>\n",
       "    </tr>\n",
       "    <tr>\n",
       "      <th>Arkansas</th>\n",
       "      <td>3281</td>\n",
       "      <td>3017804</td>\n",
       "      <td>132596.4</td>\n",
       "      <td>56.16</td>\n",
       "      <td>1.087214</td>\n",
       "      <td>43.938042</td>\n",
       "    </tr>\n",
       "    <tr>\n",
       "      <th>Idaho</th>\n",
       "      <td>2016</td>\n",
       "      <td>1787065</td>\n",
       "      <td>85791.1</td>\n",
       "      <td>70.58</td>\n",
       "      <td>1.128107</td>\n",
       "      <td>48.006704</td>\n",
       "    </tr>\n",
       "    <tr>\n",
       "      <th>Indiana</th>\n",
       "      <td>18099</td>\n",
       "      <td>6732219</td>\n",
       "      <td>384871.7</td>\n",
       "      <td>72.44</td>\n",
       "      <td>2.688415</td>\n",
       "      <td>57.168624</td>\n",
       "    </tr>\n",
       "  </tbody>\n",
       "</table>\n",
       "</div>"
      ],
      "text/plain": [
       "          cases  population       gdp  urban  cases_norm   gdp_norm\n",
       "state                                                              \n",
       "Alabama    7068     4903185  230750.1  59.04    1.441512  47.061267\n",
       "Alaska      353      731545   54674.7  66.02    0.482540  74.738670\n",
       "Arkansas   3281     3017804  132596.4  56.16    1.087214  43.938042\n",
       "Idaho      2016     1787065   85791.1  70.58    1.128107  48.006704\n",
       "Indiana   18099     6732219  384871.7  72.44    2.688415  57.168624"
      ]
     },
     "execution_count": 66,
     "metadata": {},
     "output_type": "execute_result"
    }
   ],
   "source": [
    "lower_urban = df.query('urban <= @median_urban')\n",
    "lower_urban.head()"
   ]
  },
  {
   "cell_type": "code",
   "execution_count": 67,
   "id": "a3464ba3-97eb-4593-bc31-c63203cdb9d9",
   "metadata": {},
   "outputs": [
    {
     "data": {
      "image/png": "[encoded data removed]",
      "text/plain": [
       "<Figure size 640x480 with 1 Axes>"
      ]
     },
     "metadata": {},
     "output_type": "display_data"
    }
   ],
   "source": [
    "plt.hist(lower_urban['cases_norm'], alpha=0.7, label='urban <= median urban', bins=mybins)\n",
    "plt.hist(higher_urban['cases_norm'], alpha=0.7, label='urban > median urban', bins=mybins)\n",
    "plt.legend()\n",
    "plt.xlabel('Cases per thousand')\n",
    "plt.ylabel('Count')\n",
    "plt.show()"
   ]
  },
  {
   "cell_type": "code",
   "execution_count": 68,
   "id": "a0149211-a909-448b-94d2-83f01ff7cf43",
   "metadata": {},
   "outputs": [
    {
     "data": {
      "text/plain": [
       "(3.8908749904320756, 1.5461729098384682)"
      ]
     },
     "execution_count": 68,
     "metadata": {},
     "output_type": "execute_result"
    }
   ],
   "source": [
    "higher_urban['cases_norm'].mean(), lower_urban['cases_norm'].mean()"
   ]
  },
  {
   "cell_type": "code",
   "execution_count": 69,
   "id": "15682c12-1af8-4c70-9cfb-9cc5555ea2c6",
   "metadata": {},
   "outputs": [
    {
     "data": {
      "text/plain": [
       "(1.9453983135416348, 1.1976091098671104)"
      ]
     },
     "execution_count": 69,
     "metadata": {},
     "output_type": "execute_result"
    }
   ],
   "source": [
    "higher_urban['cases_norm'].median(), lower_urban['cases_norm'].median()"
   ]
  },
  {
   "cell_type": "markdown",
   "id": "b91ec4b7-e7a5-401f-9b2a-6d6c7747ef46",
   "metadata": {},
   "source": [
    "Dropping New York and New Jersey:"
   ]
  },
  {
   "cell_type": "code",
   "execution_count": 71,
   "id": "593b9b1d-2402-4350-9eac-5d7af194ee28",
   "metadata": {},
   "outputs": [
    {
     "data": {
      "text/html": [
       "<div>\n",
       "<style scoped>\n",
       "    .dataframe tbody tr th:only-of-type {\n",
       "        vertical-align: middle;\n",
       "    }\n",
       "\n",
       "    .dataframe tbody tr th {\n",
       "        vertical-align: top;\n",
       "    }\n",
       "\n",
       "    .dataframe thead th {\n",
       "        text-align: right;\n",
       "    }\n",
       "</style>\n",
       "<table border=\"1\" class=\"dataframe\">\n",
       "  <thead>\n",
       "    <tr style=\"text-align: right;\">\n",
       "      <th></th>\n",
       "      <th>cases</th>\n",
       "      <th>population</th>\n",
       "      <th>gdp</th>\n",
       "      <th>urban</th>\n",
       "      <th>cases_norm</th>\n",
       "      <th>gdp_norm</th>\n",
       "    </tr>\n",
       "    <tr>\n",
       "      <th>state</th>\n",
       "      <th></th>\n",
       "      <th></th>\n",
       "      <th></th>\n",
       "      <th></th>\n",
       "      <th></th>\n",
       "      <th></th>\n",
       "    </tr>\n",
       "  </thead>\n",
       "  <tbody>\n",
       "    <tr>\n",
       "      <th>Alabama</th>\n",
       "      <td>7068</td>\n",
       "      <td>4903185</td>\n",
       "      <td>230750.1</td>\n",
       "      <td>59.04</td>\n",
       "      <td>1.441512</td>\n",
       "      <td>47.061267</td>\n",
       "    </tr>\n",
       "    <tr>\n",
       "      <th>Alaska</th>\n",
       "      <td>353</td>\n",
       "      <td>731545</td>\n",
       "      <td>54674.7</td>\n",
       "      <td>66.02</td>\n",
       "      <td>0.482540</td>\n",
       "      <td>74.738670</td>\n",
       "    </tr>\n",
       "    <tr>\n",
       "      <th>Arizona</th>\n",
       "      <td>7648</td>\n",
       "      <td>7278717</td>\n",
       "      <td>379018.8</td>\n",
       "      <td>89.81</td>\n",
       "      <td>1.050735</td>\n",
       "      <td>52.072199</td>\n",
       "    </tr>\n",
       "    <tr>\n",
       "      <th>Arkansas</th>\n",
       "      <td>3281</td>\n",
       "      <td>3017804</td>\n",
       "      <td>132596.4</td>\n",
       "      <td>56.16</td>\n",
       "      <td>1.087214</td>\n",
       "      <td>43.938042</td>\n",
       "    </tr>\n",
       "    <tr>\n",
       "      <th>California</th>\n",
       "      <td>50470</td>\n",
       "      <td>39512223</td>\n",
       "      <td>3205000.1</td>\n",
       "      <td>94.95</td>\n",
       "      <td>1.277326</td>\n",
       "      <td>81.114143</td>\n",
       "    </tr>\n",
       "  </tbody>\n",
       "</table>\n",
       "</div>"
      ],
      "text/plain": [
       "            cases  population        gdp  urban  cases_norm   gdp_norm\n",
       "state                                                                 \n",
       "Alabama      7068     4903185   230750.1  59.04    1.441512  47.061267\n",
       "Alaska        353      731545    54674.7  66.02    0.482540  74.738670\n",
       "Arizona      7648     7278717   379018.8  89.81    1.050735  52.072199\n",
       "Arkansas     3281     3017804   132596.4  56.16    1.087214  43.938042\n",
       "California  50470    39512223  3205000.1  94.95    1.277326  81.114143"
      ]
     },
     "execution_count": 71,
     "metadata": {},
     "output_type": "execute_result"
    }
   ],
   "source": [
    "df2 = df.drop(['New York', 'New Jersey'])\n",
    "df2.head()"
   ]
  },
  {
   "cell_type": "code",
   "execution_count": 72,
   "id": "3611acec-29db-4aec-9508-dad42028f49a",
   "metadata": {},
   "outputs": [
    {
     "data": {
      "text/plain": [
       "73.22999999999999"
      ]
     },
     "execution_count": 72,
     "metadata": {},
     "output_type": "execute_result"
    }
   ],
   "source": [
    "median_urban = df2['urban'].median()\n",
    "median_urban"
   ]
  },
  {
   "cell_type": "code",
   "execution_count": 73,
   "id": "ab7a49a9-d667-47b0-a4c1-24cb7f70e5bc",
   "metadata": {},
   "outputs": [
    {
     "data": {
      "text/html": [
       "<div>\n",
       "<style scoped>\n",
       "    .dataframe tbody tr th:only-of-type {\n",
       "        vertical-align: middle;\n",
       "    }\n",
       "\n",
       "    .dataframe tbody tr th {\n",
       "        vertical-align: top;\n",
       "    }\n",
       "\n",
       "    .dataframe thead th {\n",
       "        text-align: right;\n",
       "    }\n",
       "</style>\n",
       "<table border=\"1\" class=\"dataframe\">\n",
       "  <thead>\n",
       "    <tr style=\"text-align: right;\">\n",
       "      <th></th>\n",
       "      <th>cases</th>\n",
       "      <th>population</th>\n",
       "      <th>gdp</th>\n",
       "      <th>urban</th>\n",
       "      <th>cases_norm</th>\n",
       "      <th>gdp_norm</th>\n",
       "    </tr>\n",
       "    <tr>\n",
       "      <th>state</th>\n",
       "      <th></th>\n",
       "      <th></th>\n",
       "      <th></th>\n",
       "      <th></th>\n",
       "      <th></th>\n",
       "      <th></th>\n",
       "    </tr>\n",
       "  </thead>\n",
       "  <tbody>\n",
       "    <tr>\n",
       "      <th>Arizona</th>\n",
       "      <td>7648</td>\n",
       "      <td>7278717</td>\n",
       "      <td>379018.8</td>\n",
       "      <td>89.81</td>\n",
       "      <td>1.050735</td>\n",
       "      <td>52.072199</td>\n",
       "    </tr>\n",
       "    <tr>\n",
       "      <th>California</th>\n",
       "      <td>50470</td>\n",
       "      <td>39512223</td>\n",
       "      <td>3205000.1</td>\n",
       "      <td>94.95</td>\n",
       "      <td>1.277326</td>\n",
       "      <td>81.114143</td>\n",
       "    </tr>\n",
       "    <tr>\n",
       "      <th>Colorado</th>\n",
       "      <td>15207</td>\n",
       "      <td>5758736</td>\n",
       "      <td>400863.4</td>\n",
       "      <td>86.15</td>\n",
       "      <td>2.640684</td>\n",
       "      <td>69.609616</td>\n",
       "    </tr>\n",
       "    <tr>\n",
       "      <th>Connecticut</th>\n",
       "      <td>27700</td>\n",
       "      <td>3565287</td>\n",
       "      <td>290703.0</td>\n",
       "      <td>87.99</td>\n",
       "      <td>7.769361</td>\n",
       "      <td>81.537054</td>\n",
       "    </tr>\n",
       "    <tr>\n",
       "      <th>Delaware</th>\n",
       "      <td>4734</td>\n",
       "      <td>973764</td>\n",
       "      <td>77879.4</td>\n",
       "      <td>83.30</td>\n",
       "      <td>4.861548</td>\n",
       "      <td>79.977695</td>\n",
       "    </tr>\n",
       "  </tbody>\n",
       "</table>\n",
       "</div>"
      ],
      "text/plain": [
       "             cases  population        gdp  urban  cases_norm   gdp_norm\n",
       "state                                                                  \n",
       "Arizona       7648     7278717   379018.8  89.81    1.050735  52.072199\n",
       "California   50470    39512223  3205000.1  94.95    1.277326  81.114143\n",
       "Colorado     15207     5758736   400863.4  86.15    2.640684  69.609616\n",
       "Connecticut  27700     3565287   290703.0  87.99    7.769361  81.537054\n",
       "Delaware      4734      973764    77879.4  83.30    4.861548  79.977695"
      ]
     },
     "execution_count": 73,
     "metadata": {},
     "output_type": "execute_result"
    }
   ],
   "source": [
    "higher_urban = df2.query('urban > @median_urban')\n",
    "higher_urban.head()"
   ]
  },
  {
   "cell_type": "code",
   "execution_count": 74,
   "id": "29057d65-7a49-432d-bd09-b8d84c20723e",
   "metadata": {},
   "outputs": [
    {
     "data": {
      "text/html": [
       "<div>\n",
       "<style scoped>\n",
       "    .dataframe tbody tr th:only-of-type {\n",
       "        vertical-align: middle;\n",
       "    }\n",
       "\n",
       "    .dataframe tbody tr th {\n",
       "        vertical-align: top;\n",
       "    }\n",
       "\n",
       "    .dataframe thead th {\n",
       "        text-align: right;\n",
       "    }\n",
       "</style>\n",
       "<table border=\"1\" class=\"dataframe\">\n",
       "  <thead>\n",
       "    <tr style=\"text-align: right;\">\n",
       "      <th></th>\n",
       "      <th>cases</th>\n",
       "      <th>population</th>\n",
       "      <th>gdp</th>\n",
       "      <th>urban</th>\n",
       "      <th>cases_norm</th>\n",
       "      <th>gdp_norm</th>\n",
       "    </tr>\n",
       "    <tr>\n",
       "      <th>state</th>\n",
       "      <th></th>\n",
       "      <th></th>\n",
       "      <th></th>\n",
       "      <th></th>\n",
       "      <th></th>\n",
       "      <th></th>\n",
       "    </tr>\n",
       "  </thead>\n",
       "  <tbody>\n",
       "    <tr>\n",
       "      <th>Alabama</th>\n",
       "      <td>7068</td>\n",
       "      <td>4903185</td>\n",
       "      <td>230750.1</td>\n",
       "      <td>59.04</td>\n",
       "      <td>1.441512</td>\n",
       "      <td>47.061267</td>\n",
       "    </tr>\n",
       "    <tr>\n",
       "      <th>Alaska</th>\n",
       "      <td>353</td>\n",
       "      <td>731545</td>\n",
       "      <td>54674.7</td>\n",
       "      <td>66.02</td>\n",
       "      <td>0.482540</td>\n",
       "      <td>74.738670</td>\n",
       "    </tr>\n",
       "    <tr>\n",
       "      <th>Arkansas</th>\n",
       "      <td>3281</td>\n",
       "      <td>3017804</td>\n",
       "      <td>132596.4</td>\n",
       "      <td>56.16</td>\n",
       "      <td>1.087214</td>\n",
       "      <td>43.938042</td>\n",
       "    </tr>\n",
       "    <tr>\n",
       "      <th>Idaho</th>\n",
       "      <td>2016</td>\n",
       "      <td>1787065</td>\n",
       "      <td>85791.1</td>\n",
       "      <td>70.58</td>\n",
       "      <td>1.128107</td>\n",
       "      <td>48.006704</td>\n",
       "    </tr>\n",
       "    <tr>\n",
       "      <th>Indiana</th>\n",
       "      <td>18099</td>\n",
       "      <td>6732219</td>\n",
       "      <td>384871.7</td>\n",
       "      <td>72.44</td>\n",
       "      <td>2.688415</td>\n",
       "      <td>57.168624</td>\n",
       "    </tr>\n",
       "  </tbody>\n",
       "</table>\n",
       "</div>"
      ],
      "text/plain": [
       "          cases  population       gdp  urban  cases_norm   gdp_norm\n",
       "state                                                              \n",
       "Alabama    7068     4903185  230750.1  59.04    1.441512  47.061267\n",
       "Alaska      353      731545   54674.7  66.02    0.482540  74.738670\n",
       "Arkansas   3281     3017804  132596.4  56.16    1.087214  43.938042\n",
       "Idaho      2016     1787065   85791.1  70.58    1.128107  48.006704\n",
       "Indiana   18099     6732219  384871.7  72.44    2.688415  57.168624"
      ]
     },
     "execution_count": 74,
     "metadata": {},
     "output_type": "execute_result"
    }
   ],
   "source": [
    "lower_urban = df2.query('urban <= @median_urban')\n",
    "lower_urban.head()"
   ]
  },
  {
   "cell_type": "code",
   "execution_count": 75,
   "id": "c61d1492-a596-4cb1-b163-20c065fc1795",
   "metadata": {},
   "outputs": [
    {
     "data": {
      "image/png": "[encoded data removed]",
      "text/plain": [
       "<Figure size 640x480 with 1 Axes>"
      ]
     },
     "metadata": {},
     "output_type": "display_data"
    }
   ],
   "source": [
    "plt.hist(lower_urban['cases_norm'], alpha=0.7, label='urban <= median urban', bins=mybins)\n",
    "plt.hist(higher_urban['cases_norm'], alpha=0.7, label='urban > median urban', bins=mybins)\n",
    "plt.legend()\n",
    "plt.xlabel('Cases per thousand')\n",
    "plt.ylabel('Count')\n",
    "plt.show()"
   ]
  },
  {
   "cell_type": "code",
   "execution_count": 76,
   "id": "d8756224-2c47-4fa1-be8e-58358925f086",
   "metadata": {},
   "outputs": [
    {
     "data": {
      "text/plain": [
       "(2.8710165161430985, 1.5726510427782454)"
      ]
     },
     "execution_count": 76,
     "metadata": {},
     "output_type": "execute_result"
    }
   ],
   "source": [
    "higher_urban['cases_norm'].mean(), lower_urban['cases_norm'].mean()"
   ]
  },
  {
   "cell_type": "code",
   "execution_count": 77,
   "id": "383fa529-2948-4f60-87a4-db5c59985609",
   "metadata": {},
   "outputs": [
    {
     "data": {
      "text/plain": [
       "(1.7486066302038, 1.214942129174752)"
      ]
     },
     "execution_count": 77,
     "metadata": {},
     "output_type": "execute_result"
    }
   ],
   "source": [
    "higher_urban['cases_norm'].median(), lower_urban['cases_norm'].median()"
   ]
  },
  {
   "cell_type": "markdown",
   "id": "e82d43b1-0ba4-464a-afb1-742095ac3ae8",
   "metadata": {},
   "source": [
    "## Null hypothesis"
   ]
  },
  {
   "cell_type": "code",
   "execution_count": 79,
   "id": "392b009b-a64c-4055-8004-1480a6b208d5",
   "metadata": {},
   "outputs": [],
   "source": [
    "df  =  pd.read_csv(  'https://www.fdsp.net/data/covid-merged.csv'  )\n",
    "df.set_index('state', inplace=True)\n",
    "df['cases_norm'] = df['cases'] / df['population'] * 1000\n",
    "df['gdp_norm'] = df['gdp'] / df['population'] * 1000"
   ]
  },
  {
   "cell_type": "code",
   "execution_count": 80,
   "id": "62181679-92f7-459d-b904-19a0b153286a",
   "metadata": {},
   "outputs": [
    {
     "data": {
      "text/html": [
       "<div>\n",
       "<style scoped>\n",
       "    .dataframe tbody tr th:only-of-type {\n",
       "        vertical-align: middle;\n",
       "    }\n",
       "\n",
       "    .dataframe tbody tr th {\n",
       "        vertical-align: top;\n",
       "    }\n",
       "\n",
       "    .dataframe thead th {\n",
       "        text-align: right;\n",
       "    }\n",
       "</style>\n",
       "<table border=\"1\" class=\"dataframe\">\n",
       "  <thead>\n",
       "    <tr style=\"text-align: right;\">\n",
       "      <th></th>\n",
       "      <th>cases</th>\n",
       "      <th>population</th>\n",
       "      <th>gdp</th>\n",
       "      <th>urban</th>\n",
       "      <th>cases_norm</th>\n",
       "      <th>gdp_norm</th>\n",
       "    </tr>\n",
       "    <tr>\n",
       "      <th>state</th>\n",
       "      <th></th>\n",
       "      <th></th>\n",
       "      <th></th>\n",
       "      <th></th>\n",
       "      <th></th>\n",
       "      <th></th>\n",
       "    </tr>\n",
       "  </thead>\n",
       "  <tbody>\n",
       "    <tr>\n",
       "      <th>Alabama</th>\n",
       "      <td>7068</td>\n",
       "      <td>4903185</td>\n",
       "      <td>230750.1</td>\n",
       "      <td>59.04</td>\n",
       "      <td>1.441512</td>\n",
       "      <td>47.061267</td>\n",
       "    </tr>\n",
       "    <tr>\n",
       "      <th>Alaska</th>\n",
       "      <td>353</td>\n",
       "      <td>731545</td>\n",
       "      <td>54674.7</td>\n",
       "      <td>66.02</td>\n",
       "      <td>0.482540</td>\n",
       "      <td>74.738670</td>\n",
       "    </tr>\n",
       "    <tr>\n",
       "      <th>Arizona</th>\n",
       "      <td>7648</td>\n",
       "      <td>7278717</td>\n",
       "      <td>379018.8</td>\n",
       "      <td>89.81</td>\n",
       "      <td>1.050735</td>\n",
       "      <td>52.072199</td>\n",
       "    </tr>\n",
       "  </tbody>\n",
       "</table>\n",
       "</div>"
      ],
      "text/plain": [
       "         cases  population       gdp  urban  cases_norm   gdp_norm\n",
       "state                                                             \n",
       "Alabama   7068     4903185  230750.1  59.04    1.441512  47.061267\n",
       "Alaska     353      731545   54674.7  66.02    0.482540  74.738670\n",
       "Arizona   7648     7278717  379018.8  89.81    1.050735  52.072199"
      ]
     },
     "execution_count": 80,
     "metadata": {},
     "output_type": "execute_result"
    }
   ],
   "source": [
    "first3 = df.loc[:'Arizona']\n",
    "first3.head()"
   ]
  },
  {
   "cell_type": "code",
   "execution_count": 81,
   "id": "9e50efb6-1acb-42c3-bc3b-cbb0233cd857",
   "metadata": {},
   "outputs": [
    {
     "data": {
      "text/html": [
       "<div>\n",
       "<style scoped>\n",
       "    .dataframe tbody tr th:only-of-type {\n",
       "        vertical-align: middle;\n",
       "    }\n",
       "\n",
       "    .dataframe tbody tr th {\n",
       "        vertical-align: top;\n",
       "    }\n",
       "\n",
       "    .dataframe thead th {\n",
       "        text-align: right;\n",
       "    }\n",
       "</style>\n",
       "<table border=\"1\" class=\"dataframe\">\n",
       "  <thead>\n",
       "    <tr style=\"text-align: right;\">\n",
       "      <th></th>\n",
       "      <th>cases</th>\n",
       "      <th>population</th>\n",
       "      <th>gdp</th>\n",
       "      <th>urban</th>\n",
       "      <th>cases_norm</th>\n",
       "      <th>gdp_norm</th>\n",
       "    </tr>\n",
       "    <tr>\n",
       "      <th>state</th>\n",
       "      <th></th>\n",
       "      <th></th>\n",
       "      <th></th>\n",
       "      <th></th>\n",
       "      <th></th>\n",
       "      <th></th>\n",
       "    </tr>\n",
       "  </thead>\n",
       "  <tbody>\n",
       "    <tr>\n",
       "      <th>Arkansas</th>\n",
       "      <td>3281</td>\n",
       "      <td>3017804</td>\n",
       "      <td>132596.4</td>\n",
       "      <td>56.16</td>\n",
       "      <td>1.087214</td>\n",
       "      <td>43.938042</td>\n",
       "    </tr>\n",
       "    <tr>\n",
       "      <th>California</th>\n",
       "      <td>50470</td>\n",
       "      <td>39512223</td>\n",
       "      <td>3205000.1</td>\n",
       "      <td>94.95</td>\n",
       "      <td>1.277326</td>\n",
       "      <td>81.114143</td>\n",
       "    </tr>\n",
       "    <tr>\n",
       "      <th>Colorado</th>\n",
       "      <td>15207</td>\n",
       "      <td>5758736</td>\n",
       "      <td>400863.4</td>\n",
       "      <td>86.15</td>\n",
       "      <td>2.640684</td>\n",
       "      <td>69.609616</td>\n",
       "    </tr>\n",
       "  </tbody>\n",
       "</table>\n",
       "</div>"
      ],
      "text/plain": [
       "            cases  population        gdp  urban  cases_norm   gdp_norm\n",
       "state                                                                 \n",
       "Arkansas     3281     3017804   132596.4  56.16    1.087214  43.938042\n",
       "California  50470    39512223  3205000.1  94.95    1.277326  81.114143\n",
       "Colorado    15207     5758736   400863.4  86.15    2.640684  69.609616"
      ]
     },
     "execution_count": 81,
     "metadata": {},
     "output_type": "execute_result"
    }
   ],
   "source": [
    "second3 = df.loc['Arkansas':'Colorado']\n",
    "second3"
   ]
  },
  {
   "cell_type": "code",
   "execution_count": 82,
   "id": "e4adf3c1-e055-4e0e-ae6b-d3ace98a1b8f",
   "metadata": {},
   "outputs": [
    {
     "data": {
      "text/plain": [
       "(0.9915956672540028, 1.6684081069437913)"
      ]
     },
     "execution_count": 82,
     "metadata": {},
     "output_type": "execute_result"
    }
   ],
   "source": [
    "first3.cases_norm.mean(), second3.cases_norm.mean()"
   ]
  },
  {
   "cell_type": "code",
   "execution_count": 83,
   "id": "decd6f74-3df7-425b-9e6f-ec5fee86e491",
   "metadata": {},
   "outputs": [
    {
     "data": {
      "text/plain": [
       "0.6768124396897884"
      ]
     },
     "execution_count": 83,
     "metadata": {},
     "output_type": "execute_result"
    }
   ],
   "source": [
    "second3.cases_norm.mean() - first3.cases_norm.mean()"
   ]
  },
  {
   "cell_type": "markdown",
   "id": "ccc60a46-e695-46c3-bfd0-721ecbd2dceb",
   "metadata": {},
   "source": [
    "## Null Hipothesys Significance Test throguh Resampling"
   ]
  },
  {
   "cell_type": "code",
   "execution_count": 85,
   "id": "1a54ae31-11a9-494d-aac9-3623d34dab2f",
   "metadata": {},
   "outputs": [],
   "source": [
    "np.random.seed(21341)"
   ]
  },
  {
   "cell_type": "code",
   "execution_count": 86,
   "id": "7dfd6660-ea18-4993-a69c-a3e72aae717f",
   "metadata": {},
   "outputs": [],
   "source": [
    "pooled = np.hstack((first3['cases_norm'], second3['cases_norm']))"
   ]
  },
  {
   "cell_type": "code",
   "execution_count": 87,
   "id": "85f9623d-278b-4376-86d1-15da09e30793",
   "metadata": {},
   "outputs": [
    {
     "name": "stdout",
     "output_type": "stream",
     "text": [
      "first3_sample: [1.05073463 1.05073463 2.64068365]\n",
      "second3_sample: [2.64068365 1.27732626 1.08721441]\n",
      "Original test value: 0.6768124396897884\n",
      "Resampling value: -0.08769047153973597\n"
     ]
    }
   ],
   "source": [
    "first3_sample = np.random.choice(pooled, len(first3))\n",
    "second3_sample = np.random.choice(pooled, len(second3))\n",
    "print(f'first3_sample: {first3_sample}')\n",
    "print(f'second3_sample: {second3_sample}')\n",
    "\n",
    "print(f'Original test value: {second3.cases_norm.mean()-first3.cases_norm.mean()}')\n",
    "print(f'Resampling value:',\n",
    "     f'{first3_sample.mean()-second3_sample.mean()}')"
   ]
  },
  {
   "cell_type": "code",
   "execution_count": 88,
   "id": "d82ff169-d2a0-41e6-be1d-aed1e10b91d9",
   "metadata": {},
   "outputs": [
    {
     "name": "stdout",
     "output_type": "stream",
     "text": [
      "p-value: 0.2072\n"
     ]
    }
   ],
   "source": [
    "num_sims = 10_000\n",
    "count = 0\n",
    "first3_len = len(first3)\n",
    "second3_len = len(second3)\n",
    "diff  = second3.cases_norm.mean() - first3.cases_norm.mean()\n",
    "\n",
    "alldifferences = []\n",
    "\n",
    "for i in range(num_sims):\n",
    "    first3_sample = np.random.choice(pooled, first3_len)\n",
    "    second3_sample = np.random.choice(pooled, second3_len)\n",
    "    newdiff = abs( second3_sample.mean() - first3_sample.mean() )\n",
    "    alldifferences.append(newdiff)\n",
    "    if newdiff >= diff:\n",
    "        count +=1\n",
    "print(f'p-value: {count / num_sims}')"
   ]
  },
  {
   "cell_type": "code",
   "execution_count": 89,
   "id": "8a292b72-45ba-40a1-b07c-2d50f995c857",
   "metadata": {},
   "outputs": [
    {
     "data": {
      "image/png": "[encoded data removed]",
      "text/plain": [
       "<Figure size 640x480 with 1 Axes>"
      ]
     },
     "metadata": {},
     "output_type": "display_data"
    }
   ],
   "source": [
    "plt.hist(alldifferences, density=True, edgecolor='black')\n",
    "plt.grid(axis='y')\n",
    "plt.title('Frequencies in differences means')\n",
    "plt.show()"
   ]
  },
  {
   "cell_type": "markdown",
   "id": "7f8831ba-a430-4c35-8ee1-31f727e7356c",
   "metadata": {},
   "source": [
    "## Testing with the full dataset"
   ]
  },
  {
   "cell_type": "code",
   "execution_count": 91,
   "id": "44332902-55a8-410a-9ce3-a1b0b80d794c",
   "metadata": {},
   "outputs": [],
   "source": [
    "# Find median gdp_norm\n",
    "median_gdp = df['gdp_norm'].median()\n",
    "# Filtering partition\n",
    "higher_gdp = df[df['gdp_norm'] > median_gdp]\n",
    "lower_gdp = df[df['gdp_norm'] <= median_gdp]\n",
    "# Calculate mean of cases_norm in partition\n",
    "mean_higher_gdp = higher_gdp['cases_norm'].mean()\n",
    "mean_lower_gdp = lower_gdp['cases_norm'].mean()\n",
    "# Calculate difference\n",
    "diff_gdp = mean_higher_gdp - mean_lower_gdp"
   ]
  },
  {
   "cell_type": "code",
   "execution_count": 92,
   "id": "bbfe0622-2988-429b-a6a6-9ebcd9a024ce",
   "metadata": {},
   "outputs": [
    {
     "name": "stdout",
     "output_type": "stream",
     "text": [
      "Probability of seeing a value under statistic test H_0: 0.0751\n"
     ]
    }
   ],
   "source": [
    "num_sims = 10_000\n",
    "\n",
    "higher_gdp_len = len(higher_gdp)\n",
    "lower_gdp_len = len(lower_gdp)\n",
    "\n",
    "pooled_covid = df['cases_norm']\n",
    "\n",
    "count = 0\n",
    "for sim in range(num_sims):\n",
    "    higher_gdp_sample = np.random.choice(pooled_covid, higher_gdp_len)\n",
    "    lower_gdp_sample = np.random.choice(pooled_covid, lower_gdp_len)\n",
    "    \n",
    "    new_diff = abs( higher_gdp_sample.mean() - lower_gdp_sample.mean() )\n",
    "    if new_diff >= diff_gdp:\n",
    "        count += 1\n",
    "\n",
    "print(f'Probability of seeing a value under statistic test H_0: {count / num_sims}')"
   ]
  },
  {
   "cell_type": "code",
   "execution_count": 93,
   "id": "af334563-fcd4-4659-994a-eba5d0fb9a43",
   "metadata": {},
   "outputs": [],
   "source": [
    "def resample_mean(pooled_data, diff, len1, len2, num_sims=10_000):\n",
    "    '''\n",
    "    Resample  from  pooled  data  and  conduct  a  two-tailed  NHST \n",
    "    on  the  mean-difference\n",
    "    Inputs\n",
    "    ------\n",
    "    pooled_data:  NumPy  array  of  all  data  in  the  original  2  \n",
    "    groups diff:  observed  difference  in  sample  means  in  the original  groups \n",
    "    len1,  len2:  the  lengths  of  the  original  groups \n",
    "    num_sims:  the  number  of  simulation  iterations\n",
    "    \n",
    "    Output \n",
    "    ------\n",
    "    prints resulting  p-value\n",
    "    '''\n",
    "    count = 0\n",
    "    \n",
    "    for sim in range(num_sims):\n",
    "        group1 = np.random.choice(pooled_data, len1)\n",
    "        group2 = np.random.choice(pooled_data, len2)\n",
    "        \n",
    "        new_diff = abs( group1.mean() - group2.mean() )\n",
    "        \n",
    "        if new_diff >= diff:\n",
    "            count += 1\n",
    "            \n",
    "    print(f'p-value of seeing a statistic test value by randomness: {count / num_sims}')"
   ]
  },
  {
   "cell_type": "code",
   "execution_count": 94,
   "id": "44c71770-9c38-4f2d-912a-347314e4936d",
   "metadata": {},
   "outputs": [
    {
     "name": "stdout",
     "output_type": "stream",
     "text": [
      "p-value of seeing a statistic test value by randomness: 0.0735\n"
     ]
    }
   ],
   "source": [
    "resample_mean(pooled_covid, diff_gdp, len1=higher_gdp_len, len2=lower_gdp_len)"
   ]
  },
  {
   "cell_type": "markdown",
   "id": "e7b2c040-78be-4511-be30-7180709df0f7",
   "metadata": {},
   "source": [
    "Al hacer el test tomando en cuenta un statistic-test de la urbanización:"
   ]
  },
  {
   "cell_type": "code",
   "execution_count": 96,
   "id": "c14ced53-4b96-4ccc-9e00-54a4f1721b71",
   "metadata": {},
   "outputs": [],
   "source": [
    "# Calculate median\n",
    "median_urban = df['urban'].median()\n",
    "# Filtering\n",
    "higher_urban = df[df['urban'] > median_urban]\n",
    "len_higher_urban = len(higher_urban)\n",
    "\n",
    "lower_urban = df[df['urban'] <= median_urban]\n",
    "len_lower_urban = len(lower_urban)\n",
    "# Calculate mean in partitions\n",
    "mean_higher_urban = higher_urban['cases_norm'].mean()\n",
    "mean_lower_urban = lower_urban['cases_norm'].mean()\n",
    "# Difference\n",
    "diff_urban = mean_higher_urban - mean_lower_urban"
   ]
  },
  {
   "cell_type": "code",
   "execution_count": 97,
   "id": "28e9db9a-2e96-4f67-acad-7ef4b964d31e",
   "metadata": {},
   "outputs": [
    {
     "data": {
      "text/plain": [
       "(3.8908749904320756, 1.5461729098384682)"
      ]
     },
     "execution_count": 97,
     "metadata": {},
     "output_type": "execute_result"
    }
   ],
   "source": [
    "mean_higher_urban, mean_lower_urban"
   ]
  },
  {
   "cell_type": "code",
   "execution_count": 98,
   "id": "90dea255-31ec-4f16-b1d6-ac056fcf63c6",
   "metadata": {},
   "outputs": [
    {
     "data": {
      "text/plain": [
       "2.344702080593607"
      ]
     },
     "execution_count": 98,
     "metadata": {},
     "output_type": "execute_result"
    }
   ],
   "source": [
    "diff_urban"
   ]
  },
  {
   "cell_type": "code",
   "execution_count": 99,
   "id": "63f839df-1098-405b-afb5-32b1bf3bcca3",
   "metadata": {},
   "outputs": [
    {
     "name": "stdout",
     "output_type": "stream",
     "text": [
      "p-value of seeing a statistic test value by randomness: 0.0079\n"
     ]
    }
   ],
   "source": [
    "resample_mean(pooled_covid, diff_urban, len1=len_higher_urban, len2=len_lower_urban)"
   ]
  },
  {
   "cell_type": "markdown",
   "id": "29e6ea29-d567-43e6-8094-39db4d12e7c7",
   "metadata": {},
   "source": [
    "## Distribution"
   ]
  },
  {
   "cell_type": "code",
   "execution_count": 101,
   "id": "1b37cff4-7476-4fdb-b5e5-07af774e9bf9",
   "metadata": {},
   "outputs": [],
   "source": [
    "def resample_mean_hist(pooled_data, diff, len1, len2, num_sims=10_000):\n",
    "    '''\n",
    "    Resample  from  pooled  data  and  conduct  a  two-tailed  NHST \n",
    "    on  the  mean-difference\n",
    "    Inputs\n",
    "    ------\n",
    "    pooled_data:  NumPy  array  of  all  data  in  the  original  2  \n",
    "    groups diff:  observed  difference  in  sample  means  in  the original  groups \n",
    "    len1,  len2:  the  lengths  of  the  original  groups \n",
    "    num_sims:  the  number  of  simulation  iterations\n",
    "    \n",
    "    Output \n",
    "    ------\n",
    "    prints resulting  p-value\n",
    "    '''\n",
    "    count = 0\n",
    "    sample_means = []\n",
    "    \n",
    "    for sim in range(num_sims):\n",
    "        group1 = np.random.choice(pooled_data, len1)\n",
    "        group2 = np.random.choice(pooled_data, len2)\n",
    "        \n",
    "        new_diff = abs( group1.mean() - group2.mean() )\n",
    "\n",
    "        sample_means.append( group1.mean() - group2.mean() )\n",
    "        \n",
    "        if new_diff >= diff:\n",
    "            count += 1\n",
    "            \n",
    "    print(f'p-value of seeing a statistic test value by randomness: {count / num_sims}')\n",
    "    plt.hist(sample_means, bins=40, edgecolor='black')\n",
    "    plt.show()"
   ]
  },
  {
   "cell_type": "code",
   "execution_count": 102,
   "id": "8958be22-bb58-4d6b-87e7-49744459bda7",
   "metadata": {},
   "outputs": [
    {
     "name": "stdout",
     "output_type": "stream",
     "text": [
      "p-value of seeing a statistic test value by randomness: 0.0089\n"
     ]
    },
    {
     "data": {
      "image/png": "[encoded data removed]",
      "text/plain": [
       "<Figure size 640x480 with 1 Axes>"
      ]
     },
     "metadata": {},
     "output_type": "display_data"
    }
   ],
   "source": [
    "resample_mean_hist(pooled_covid, diff_urban, len1=len_higher_urban, len2=len_lower_urban)"
   ]
  },
  {
   "cell_type": "markdown",
   "id": "38173b3f-f926-4e4c-b053-342ce8048e88",
   "metadata": {},
   "source": [
    "## Two dimensional methods"
   ]
  },
  {
   "cell_type": "code",
   "execution_count": 180,
   "id": "5961685f-ab77-4e85-83dd-2e2f8481f56a",
   "metadata": {},
   "outputs": [],
   "source": [
    "from scipy.stats import linregress"
   ]
  },
  {
   "cell_type": "code",
   "execution_count": 182,
   "id": "8727fc2e-b356-4252-bcc9-715ef01d668a",
   "metadata": {},
   "outputs": [
    {
     "data": {
      "text/plain": [
       "LinregressResult(slope=0.0917027723921469, intercept=-4.029131107469203, rvalue=0.42451161644162405, pvalue=0.002122156503677001, stderr=0.02823082347614785, intercept_stderr=2.116778144832277)"
      ]
     },
     "execution_count": 182,
     "metadata": {},
     "output_type": "execute_result"
    }
   ],
   "source": [
    "regression_covid_urban = linregress(df['urban'], df['cases_norm'])\n",
    "regression_covid_urban"
   ]
  },
  {
   "cell_type": "code",
   "execution_count": 184,
   "id": "3d81ffe9-e8d5-462a-a5dd-f403faaddfde",
   "metadata": {},
   "outputs": [],
   "source": [
    "x = df['urban']\n",
    "y_regression_values = regression_covid_urban.slope * x + regression_covid_urban.intercept"
   ]
  },
  {
   "cell_type": "code",
   "execution_count": 202,
   "id": "59b664a5-5e3e-4eee-a2d0-5290d44fac1c",
   "metadata": {},
   "outputs": [
    {
     "data": {
      "text/plain": [
       "397.62981896613957"
      ]
     },
     "execution_count": 202,
     "metadata": {},
     "output_type": "execute_result"
    }
   ],
   "source": [
    "y_real_values = df['cases_norm']\n",
    "np.sum( (y_real_values - y_regression_values)**2 )"
   ]
  },
  {
   "cell_type": "code",
   "execution_count": 204,
   "id": "fb71abfb-f553-4af3-9cec-b180852c93a3",
   "metadata": {},
   "outputs": [
    {
     "data": {
      "image/png": "[encoded data removed]",
      "text/plain": [
       "<Figure size 1000x700 with 1 Axes>"
      ]
     },
     "metadata": {},
     "output_type": "display_data"
    }
   ],
   "source": [
    "plt.figure(figsize=(10,7))\n",
    "plt.scatter(df['urban'], df['cases_norm'])\n",
    "plt.plot(x, y_regression_values, label='y =~ 0.092x - 4.03', color = 'red')\n",
    "plt.xlabel('Proportion of people living in urban areas')\n",
    "plt.ylabel('COVID-19 cases')\n",
    "plt.legend()\n",
    "plt.show()"
   ]
  }
 ],
 "metadata": {
  "kernelspec": {
   "display_name": "Python [conda env:ambiente]",
   "language": "python",
   "name": "conda-env-ambiente-py"
  },
  "language_info": {
   "codemirror_mode": {
    "name": "ipython",
    "version": 3
   },
   "file_extension": ".py",
   "mimetype": "text/x-python",
   "name": "python",
   "nbconvert_exporter": "python",
   "pygments_lexer": "ipython3",
   "version": "3.12.3"
  }
 },
 "nbformat": 4,
 "nbformat_minor": 5
}
