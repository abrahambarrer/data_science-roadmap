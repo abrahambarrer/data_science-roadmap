{
 "cells": [
  {
   "cell_type": "markdown",
   "id": "85486a3e",
   "metadata": {},
   "source": [
    "# Algorithms in history"
   ]
  },
  {
   "cell_type": "markdown",
   "id": "f36ba0f0",
   "metadata": {},
   "source": [
    "## Russian Peasant Multiplication"
   ]
  },
  {
   "cell_type": "code",
   "execution_count": 17,
   "id": "9638731d",
   "metadata": {},
   "outputs": [],
   "source": [
    "n1 = 18\n",
    "n2 = 89"
   ]
  },
  {
   "cell_type": "code",
   "execution_count": 18,
   "id": "3037bf65",
   "metadata": {},
   "outputs": [],
   "source": [
    "halving = [n1]"
   ]
  },
  {
   "cell_type": "code",
   "execution_count": 19,
   "id": "bd10d585",
   "metadata": {},
   "outputs": [],
   "source": [
    "import math\n",
    "while (min(halving) > 1):\n",
    "    halving.append(math.floor(min(halving) / 2))"
   ]
  },
  {
   "cell_type": "code",
   "execution_count": 20,
   "id": "edb3b19f",
   "metadata": {},
   "outputs": [],
   "source": [
    "doubling = [n2]\n",
    "while (len(doubling) < len(halving)):\n",
    "    doubling.append(max(doubling) * 2)"
   ]
  },
  {
   "cell_type": "code",
   "execution_count": 21,
   "id": "02035953",
   "metadata": {},
   "outputs": [],
   "source": [
    "import pandas as pd\n",
    "half_double = pd.DataFrame(zip(halving, doubling))"
   ]
  },
  {
   "cell_type": "code",
   "execution_count": 22,
   "id": "f54eed42",
   "metadata": {},
   "outputs": [
    {
     "data": {
      "text/html": [
       "<div>\n",
       "<style scoped>\n",
       "    .dataframe tbody tr th:only-of-type {\n",
       "        vertical-align: middle;\n",
       "    }\n",
       "\n",
       "    .dataframe tbody tr th {\n",
       "        vertical-align: top;\n",
       "    }\n",
       "\n",
       "    .dataframe thead th {\n",
       "        text-align: right;\n",
       "    }\n",
       "</style>\n",
       "<table border=\"1\" class=\"dataframe\">\n",
       "  <thead>\n",
       "    <tr style=\"text-align: right;\">\n",
       "      <th></th>\n",
       "      <th>0</th>\n",
       "      <th>1</th>\n",
       "    </tr>\n",
       "  </thead>\n",
       "  <tbody>\n",
       "    <tr>\n",
       "      <th>0</th>\n",
       "      <td>18</td>\n",
       "      <td>89</td>\n",
       "    </tr>\n",
       "    <tr>\n",
       "      <th>1</th>\n",
       "      <td>9</td>\n",
       "      <td>178</td>\n",
       "    </tr>\n",
       "    <tr>\n",
       "      <th>2</th>\n",
       "      <td>4</td>\n",
       "      <td>356</td>\n",
       "    </tr>\n",
       "    <tr>\n",
       "      <th>3</th>\n",
       "      <td>2</td>\n",
       "      <td>712</td>\n",
       "    </tr>\n",
       "    <tr>\n",
       "      <th>4</th>\n",
       "      <td>1</td>\n",
       "      <td>1424</td>\n",
       "    </tr>\n",
       "  </tbody>\n",
       "</table>\n",
       "</div>"
      ],
      "text/plain": [
       "    0     1\n",
       "0  18    89\n",
       "1   9   178\n",
       "2   4   356\n",
       "3   2   712\n",
       "4   1  1424"
      ]
     },
     "execution_count": 22,
     "metadata": {},
     "output_type": "execute_result"
    }
   ],
   "source": [
    "half_double"
   ]
  },
  {
   "cell_type": "code",
   "execution_count": 23,
   "id": "5f28ddff",
   "metadata": {},
   "outputs": [
    {
     "data": {
      "text/html": [
       "<div>\n",
       "<style scoped>\n",
       "    .dataframe tbody tr th:only-of-type {\n",
       "        vertical-align: middle;\n",
       "    }\n",
       "\n",
       "    .dataframe tbody tr th {\n",
       "        vertical-align: top;\n",
       "    }\n",
       "\n",
       "    .dataframe thead th {\n",
       "        text-align: right;\n",
       "    }\n",
       "</style>\n",
       "<table border=\"1\" class=\"dataframe\">\n",
       "  <thead>\n",
       "    <tr style=\"text-align: right;\">\n",
       "      <th></th>\n",
       "      <th>0</th>\n",
       "      <th>1</th>\n",
       "    </tr>\n",
       "  </thead>\n",
       "  <tbody>\n",
       "    <tr>\n",
       "      <th>1</th>\n",
       "      <td>9</td>\n",
       "      <td>178</td>\n",
       "    </tr>\n",
       "    <tr>\n",
       "      <th>4</th>\n",
       "      <td>1</td>\n",
       "      <td>1424</td>\n",
       "    </tr>\n",
       "  </tbody>\n",
       "</table>\n",
       "</div>"
      ],
      "text/plain": [
       "   0     1\n",
       "1  9   178\n",
       "4  1  1424"
      ]
     },
     "execution_count": 23,
     "metadata": {},
     "output_type": "execute_result"
    }
   ],
   "source": [
    "half_double = half_double.loc[half_double[0] % 2 == 1]\n",
    "half_double"
   ]
  },
  {
   "cell_type": "code",
   "execution_count": 16,
   "id": "c78d5023",
   "metadata": {},
   "outputs": [
    {
     "data": {
      "text/plain": [
       "1602"
      ]
     },
     "execution_count": 16,
     "metadata": {},
     "output_type": "execute_result"
    }
   ],
   "source": [
    "answer = sum(half_double.loc[:, 1])\n",
    "answer"
   ]
  },
  {
   "cell_type": "markdown",
   "id": "e531ba38",
   "metadata": {},
   "source": [
    "## Euclid's Algorithm"
   ]
  },
  {
   "cell_type": "code",
   "execution_count": 26,
   "id": "f4492e66",
   "metadata": {},
   "outputs": [],
   "source": [
    "def gcd(x, y):\n",
    "    larger, smaller = max(x,y), min(x,y)\n",
    "    remainder = larger % smaller\n",
    "    return smaller if remainder == 0 else gcd(smaller, remainder)"
   ]
  },
  {
   "cell_type": "code",
   "execution_count": 36,
   "id": "9dffad73",
   "metadata": {},
   "outputs": [
    {
     "data": {
      "text/plain": [
       "3"
      ]
     },
     "execution_count": 36,
     "metadata": {},
     "output_type": "execute_result"
    }
   ],
   "source": [
    "gcd(9, 21)"
   ]
  }
 ],
 "metadata": {
  "kernelspec": {
   "display_name": "Python [conda env:ambiente]",
   "language": "python",
   "name": "conda-env-ambiente-py"
  },
  "language_info": {
   "codemirror_mode": {
    "name": "ipython",
    "version": 3
   },
   "file_extension": ".py",
   "mimetype": "text/x-python",
   "name": "python",
   "nbconvert_exporter": "python",
   "pygments_lexer": "ipython3",
   "version": "3.12.3"
  }
 },
 "nbformat": 4,
 "nbformat_minor": 5
}
