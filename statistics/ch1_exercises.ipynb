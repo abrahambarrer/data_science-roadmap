{
 "cells": [
  {
   "cell_type": "markdown",
   "id": "40ae6d19-ca6d-44b8-8a21-8d8054d58de3",
   "metadata": {},
   "source": [
    "# Exercises (ch1)\n",
    "## Data analyisis and applications"
   ]
  },
  {
   "cell_type": "markdown",
   "id": "301b8734-75c1-4da5-bae1-0c1fa2627da7",
   "metadata": {},
   "source": [
    "**1.1** In the 2018 election for Senate in California, a CNN exit poll of 1882 voters stated that 52.5% voted for the Democratic candidate, Diane Feinstein. Of all 11.1 million voters, 54.2% voted for Feinstein.\n",
    "* What was the (i) subject, (ii) sample, (iii) population?\n",
    "* Identify a relevant statistic and corresponding parameter."
   ]
  },
  {
   "cell_type": "markdown",
   "id": "d635fde6-89d9-4077-b4b7-71bfbe327269",
   "metadata": {},
   "source": [
    "    Subject: voter\n",
    "    Sample: 1882 surveyed persons\n",
    "    Population: 11.1 million voters in election for Senate in California\n",
    "\n",
    "    Statistic: 0.525 frecuency vote in sample\n",
    "    Parameter: 0.542 frecuency votes for Feinstein"
   ]
  },
  {
   "cell_type": "markdown",
   "id": "b9a4bdeb-ecf8-4ce3-8947-da118c7e5c9b",
   "metadata": {},
   "source": [
    "**1.2** students data\n",
    "\n",
    "(a) Practice accessing a data file for statistical analysis with your software by going to the book's website and copying and then displaying this data file.."
   ]
  },
  {
   "cell_type": "code",
   "execution_count": 4,
   "id": "a5919acc-0444-4905-8e91-34c4ce4f3c9e",
   "metadata": {},
   "outputs": [],
   "source": [
    "import pandas as pd\n",
    "students = pd.read_csv('https://stat4ds.rwth-aachen.de/data/Students.dat', sep=r'\\s+')"
   ]
  },
  {
   "cell_type": "code",
   "execution_count": 5,
   "id": "992f4f95-e4e1-4bb0-b8f2-f35970a80136",
   "metadata": {},
   "outputs": [
    {
     "data": {
      "text/html": [
       "<div>\n",
       "<style scoped>\n",
       "    .dataframe tbody tr th:only-of-type {\n",
       "        vertical-align: middle;\n",
       "    }\n",
       "\n",
       "    .dataframe tbody tr th {\n",
       "        vertical-align: top;\n",
       "    }\n",
       "\n",
       "    .dataframe thead th {\n",
       "        text-align: right;\n",
       "    }\n",
       "</style>\n",
       "<table border=\"1\" class=\"dataframe\">\n",
       "  <thead>\n",
       "    <tr style=\"text-align: right;\">\n",
       "      <th></th>\n",
       "      <th>subject</th>\n",
       "      <th>gender</th>\n",
       "      <th>age</th>\n",
       "      <th>hsgpa</th>\n",
       "      <th>cogpa</th>\n",
       "      <th>dhome</th>\n",
       "      <th>dres</th>\n",
       "      <th>tv</th>\n",
       "      <th>sport</th>\n",
       "      <th>news</th>\n",
       "      <th>aids</th>\n",
       "      <th>veg</th>\n",
       "      <th>affil</th>\n",
       "      <th>ideol</th>\n",
       "      <th>relig</th>\n",
       "      <th>abor</th>\n",
       "      <th>affirm</th>\n",
       "      <th>life</th>\n",
       "    </tr>\n",
       "  </thead>\n",
       "  <tbody>\n",
       "    <tr>\n",
       "      <th>0</th>\n",
       "      <td>1</td>\n",
       "      <td>0</td>\n",
       "      <td>32</td>\n",
       "      <td>2.2</td>\n",
       "      <td>3.5</td>\n",
       "      <td>0</td>\n",
       "      <td>5.0</td>\n",
       "      <td>3.0</td>\n",
       "      <td>5</td>\n",
       "      <td>0</td>\n",
       "      <td>0</td>\n",
       "      <td>0</td>\n",
       "      <td>2</td>\n",
       "      <td>6</td>\n",
       "      <td>2</td>\n",
       "      <td>0</td>\n",
       "      <td>0</td>\n",
       "      <td>1</td>\n",
       "    </tr>\n",
       "    <tr>\n",
       "      <th>1</th>\n",
       "      <td>2</td>\n",
       "      <td>1</td>\n",
       "      <td>23</td>\n",
       "      <td>2.1</td>\n",
       "      <td>3.5</td>\n",
       "      <td>1200</td>\n",
       "      <td>0.3</td>\n",
       "      <td>15.0</td>\n",
       "      <td>7</td>\n",
       "      <td>5</td>\n",
       "      <td>6</td>\n",
       "      <td>1</td>\n",
       "      <td>1</td>\n",
       "      <td>2</td>\n",
       "      <td>1</td>\n",
       "      <td>1</td>\n",
       "      <td>1</td>\n",
       "      <td>3</td>\n",
       "    </tr>\n",
       "    <tr>\n",
       "      <th>2</th>\n",
       "      <td>3</td>\n",
       "      <td>1</td>\n",
       "      <td>27</td>\n",
       "      <td>3.3</td>\n",
       "      <td>3.0</td>\n",
       "      <td>1300</td>\n",
       "      <td>1.5</td>\n",
       "      <td>0.0</td>\n",
       "      <td>4</td>\n",
       "      <td>3</td>\n",
       "      <td>0</td>\n",
       "      <td>1</td>\n",
       "      <td>1</td>\n",
       "      <td>2</td>\n",
       "      <td>2</td>\n",
       "      <td>1</td>\n",
       "      <td>1</td>\n",
       "      <td>3</td>\n",
       "    </tr>\n",
       "    <tr>\n",
       "      <th>3</th>\n",
       "      <td>4</td>\n",
       "      <td>1</td>\n",
       "      <td>35</td>\n",
       "      <td>3.5</td>\n",
       "      <td>3.2</td>\n",
       "      <td>1500</td>\n",
       "      <td>8.0</td>\n",
       "      <td>5.0</td>\n",
       "      <td>5</td>\n",
       "      <td>6</td>\n",
       "      <td>3</td>\n",
       "      <td>0</td>\n",
       "      <td>3</td>\n",
       "      <td>4</td>\n",
       "      <td>1</td>\n",
       "      <td>1</td>\n",
       "      <td>1</td>\n",
       "      <td>2</td>\n",
       "    </tr>\n",
       "    <tr>\n",
       "      <th>4</th>\n",
       "      <td>5</td>\n",
       "      <td>0</td>\n",
       "      <td>23</td>\n",
       "      <td>3.1</td>\n",
       "      <td>3.5</td>\n",
       "      <td>1600</td>\n",
       "      <td>10.0</td>\n",
       "      <td>6.0</td>\n",
       "      <td>6</td>\n",
       "      <td>3</td>\n",
       "      <td>0</td>\n",
       "      <td>0</td>\n",
       "      <td>3</td>\n",
       "      <td>1</td>\n",
       "      <td>0</td>\n",
       "      <td>1</td>\n",
       "      <td>0</td>\n",
       "      <td>2</td>\n",
       "    </tr>\n",
       "  </tbody>\n",
       "</table>\n",
       "</div>"
      ],
      "text/plain": [
       "   subject  gender  age  hsgpa  cogpa  dhome  dres    tv  sport  news  aids  \\\n",
       "0        1       0   32    2.2    3.5      0   5.0   3.0      5     0     0   \n",
       "1        2       1   23    2.1    3.5   1200   0.3  15.0      7     5     6   \n",
       "2        3       1   27    3.3    3.0   1300   1.5   0.0      4     3     0   \n",
       "3        4       1   35    3.5    3.2   1500   8.0   5.0      5     6     3   \n",
       "4        5       0   23    3.1    3.5   1600  10.0   6.0      6     3     0   \n",
       "\n",
       "   veg  affil  ideol  relig  abor  affirm  life  \n",
       "0    0      2      6      2     0       0     1  \n",
       "1    1      1      2      1     1       1     3  \n",
       "2    1      1      2      2     1       1     3  \n",
       "3    0      3      4      1     1       1     2  \n",
       "4    0      3      1      0     1       0     2  "
      ]
     },
     "execution_count": 5,
     "metadata": {},
     "output_type": "execute_result"
    }
   ],
   "source": [
    "students.head()"
   ]
  },
  {
   "cell_type": "code",
   "execution_count": 6,
   "id": "c6b8134f-347f-4c9e-a4e4-e320d69fb0f2",
   "metadata": {},
   "outputs": [
    {
     "data": {
      "image/png": "[encoded data removed]",
      "text/plain": [
       "<Figure size 640x480 with 1 Axes>"
      ]
     },
     "metadata": {},
     "output_type": "display_data"
    }
   ],
   "source": [
    "import matplotlib.pyplot as plt\n",
    "students['abor'].value_counts(normalize=True).plot(kind='bar')\n",
    "plt.xlabel('Opinion for abortion in first three months')\n",
    "plt.show()"
   ]
  },
  {
   "cell_type": "markdown",
   "id": "0056ee67-73ea-4f28-9f0f-755962616567",
   "metadata": {},
   "source": [
    "(b) Using responses on abor, state a question that could be addressed with (i) descriptive statistics, (ii) inferential statistics."
   ]
  },
  {
   "cell_type": "markdown",
   "id": "992c3432-9414-4ba5-994a-d9544e5d3837",
   "metadata": {},
   "source": [
    "    i) What opinion is the more favorable?\n",
    "    \n",
    "    ii) Whaw we could expect for all students in the campus?"
   ]
  },
  {
   "cell_type": "markdown",
   "id": "7a85322c-b4a6-47b4-9ed8-8ac95a606325",
   "metadata": {},
   "source": [
    "**1.3** Identify each of the following variables as categorical or quantitative: \n",
    "\n",
    "(a) Number of smartphones that you own\n",
    "\n",
    "(b) County of residence\n",
    "\n",
    "(c) Choice of diet (vegetarian, nonvegetarian)\n",
    "\n",
    "(d) Distance, in kilometers, commute to work"
   ]
  },
  {
   "cell_type": "markdown",
   "id": "e24f8b2b-b1f5-4e2b-8d62-6d2c310fb483",
   "metadata": {},
   "source": [
    "    a) Quantitative\n",
    "    b) Categorical\n",
    "    c) Categorical\n",
    "    d) Quantitative"
   ]
  },
  {
   "cell_type": "markdown",
   "id": "051c224d-fd71-4a38-94cc-967c2481fe21",
   "metadata": {},
   "source": [
    "**1.4** Give an example of a variable that is \n",
    "\n",
    "(a) categorical\n",
    "\n",
    "(b) quantitative\n",
    "\n",
    "(c) discrete\n",
    "\n",
    "(d) continuous."
   ]
  },
  {
   "cell_type": "markdown",
   "id": "208bfba0-1b14-4b0c-be2e-1694475abb3c",
   "metadata": {},
   "source": [
    "    a) Religion affiliation\n",
    "    b) Weight\n",
    "    c) Eye color\n",
    "    d) Velocity in m/s"
   ]
  },
  {
   "cell_type": "markdown",
   "id": "1ac7f2bf-1719-45cd-99a9-c6d8d41f6208",
   "metadata": {},
   "source": [
    "**1.6** Give an example of a variable that is (a) technically discrete but essentially continuous for purposes of data analysis; (b) potentially continuous but highly discrete in the way it is measured in practice."
   ]
  },
  {
   "cell_type": "markdown",
   "id": "7e2d3bd3",
   "metadata": {},
   "source": [
    "**1.7** The student directory for a large university has 400 pages with 130 names per page, a total of 52,000 names. Using software, show how to select a simple random sample of 10 names."
   ]
  },
  {
   "cell_type": "code",
   "execution_count": 7,
   "id": "67a854f6",
   "metadata": {},
   "outputs": [
    {
     "data": {
      "text/plain": [
       "array([ 1585, 13634, 26192, 25478, 13626,  1556, 18675,  5151, 16217,\n",
       "       24883])"
      ]
     },
     "execution_count": 7,
     "metadata": {},
     "output_type": "execute_result"
    }
   ],
   "source": [
    "import numpy as np\n",
    "total_names = 52000\n",
    "randomsample = np.random.choice(list(np.arange(1, total_names + 1)), 10, replace=False)\n",
    "randomsample"
   ]
  },
  {
   "cell_type": "markdown",
   "id": "9d531491",
   "metadata": {},
   "source": [
    "**1.8** Explain whether an experiment or an observational study would be more appropriate to investigate the following:\n",
    "\n",
    "(a) Whether cities with higher unemployment rates tend to have higher crime rates.\n",
    "\n",
    "(b) Whether a Honda Accord hybrid or a Toyota Prius gets better gas mileage.\n",
    "\n",
    "(c) Whether higher college grade point averages tend to occur for students who had higher scores on college entrance exams.\n",
    "\n",
    "(d) Whether design A or design B for an Internet page makes a person more likely to buy the product advertised."
   ]
  },
  {
   "cell_type": "markdown",
   "id": "5d26d72d",
   "metadata": {},
   "source": [
    "    a) Observational \n",
    "    b) Experimental\n",
    "    c) Observational\n",
    "    d) Experimental"
   ]
  },
  {
   "cell_type": "markdown",
   "id": "fa5e76a4",
   "metadata": {},
   "source": [
    "**1.9** For the GSS data on number of good friends (search at https://sda.berkeley.edu/sdaweb/analysis/?dataset=gss18 for variable NUMFREND), the responses (1, 2, 3, 4, 5, 6, 7, 8, 9, ... , 96+) had percentages of (6.1, 16.2, 15.7. 14.2, 11.3, 8.8, 1.2, 2.4, 0.7, ..., 0.8). Report the median and the mode. Would you expect the mean to be smaller, the same, or larger than the median? Why?"
   ]
  },
  {
   "cell_type": "markdown",
   "id": "03ae0ddf",
   "metadata": {},
   "source": [
    "    Median = 4\n",
    "    Mode = 2\n",
    "    We should expect the mean would be large because of outliers."
   ]
  },
  {
   "cell_type": "markdown",
   "id": "2c50d434",
   "metadata": {},
   "source": [
    "**1.10** Analyze the Carbon_West data file at the book’s website by \n",
    "\n",
    "(a) constructing a frequency distribution and a histogram\n",
    "\n",
    "(b) finding the mean, median, and standard deviation. Interpret each."
   ]
  },
  {
   "cell_type": "code",
   "execution_count": 8,
   "id": "7192376d",
   "metadata": {},
   "outputs": [
    {
     "data": {
      "text/html": [
       "<div>\n",
       "<style scoped>\n",
       "    .dataframe tbody tr th:only-of-type {\n",
       "        vertical-align: middle;\n",
       "    }\n",
       "\n",
       "    .dataframe tbody tr th {\n",
       "        vertical-align: top;\n",
       "    }\n",
       "\n",
       "    .dataframe thead th {\n",
       "        text-align: right;\n",
       "    }\n",
       "</style>\n",
       "<table border=\"1\" class=\"dataframe\">\n",
       "  <thead>\n",
       "    <tr style=\"text-align: right;\">\n",
       "      <th></th>\n",
       "      <th>Nation</th>\n",
       "      <th>CO2</th>\n",
       "    </tr>\n",
       "  </thead>\n",
       "  <tbody>\n",
       "    <tr>\n",
       "      <th>0</th>\n",
       "      <td>Albania</td>\n",
       "      <td>2.0</td>\n",
       "    </tr>\n",
       "    <tr>\n",
       "      <th>1</th>\n",
       "      <td>Australia</td>\n",
       "      <td>15.4</td>\n",
       "    </tr>\n",
       "    <tr>\n",
       "      <th>2</th>\n",
       "      <td>Austria</td>\n",
       "      <td>6.9</td>\n",
       "    </tr>\n",
       "    <tr>\n",
       "      <th>3</th>\n",
       "      <td>Belgium</td>\n",
       "      <td>8.3</td>\n",
       "    </tr>\n",
       "    <tr>\n",
       "      <th>4</th>\n",
       "      <td>Bosnia</td>\n",
       "      <td>6.2</td>\n",
       "    </tr>\n",
       "  </tbody>\n",
       "</table>\n",
       "</div>"
      ],
      "text/plain": [
       "      Nation   CO2\n",
       "0    Albania   2.0\n",
       "1  Australia  15.4\n",
       "2    Austria   6.9\n",
       "3    Belgium   8.3\n",
       "4     Bosnia   6.2"
      ]
     },
     "execution_count": 8,
     "metadata": {},
     "output_type": "execute_result"
    }
   ],
   "source": [
    "carbon = pd.read_csv('https://stat4ds.rwth-aachen.de/data/Carbon_West.dat', sep=r'\\s+')\n",
    "carbon.head()"
   ]
  },
  {
   "cell_type": "code",
   "execution_count": 12,
   "id": "a74eee01",
   "metadata": {
    "scrolled": false
   },
   "outputs": [
    {
     "data": {
      "image/png": "[encoded data removed]",
      "text/plain": [
       "<Figure size 640x480 with 1 Axes>"
      ]
     },
     "metadata": {},
     "output_type": "display_data"
    }
   ],
   "source": [
    "plt.hist(carbon['CO2'], density=True)\n",
    "plt.xlabel('CO2')\n",
    "plt.ylabel('Frecuency')\n",
    "plt.title('Distribution')\n",
    "plt.show()"
   ]
  },
  {
   "cell_type": "code",
   "execution_count": 13,
   "id": "c7e12a2d",
   "metadata": {},
   "outputs": [
    {
     "data": {
      "text/html": [
       "<div>\n",
       "<style scoped>\n",
       "    .dataframe tbody tr th:only-of-type {\n",
       "        vertical-align: middle;\n",
       "    }\n",
       "\n",
       "    .dataframe tbody tr th {\n",
       "        vertical-align: top;\n",
       "    }\n",
       "\n",
       "    .dataframe thead th {\n",
       "        text-align: right;\n",
       "    }\n",
       "</style>\n",
       "<table border=\"1\" class=\"dataframe\">\n",
       "  <thead>\n",
       "    <tr style=\"text-align: right;\">\n",
       "      <th></th>\n",
       "      <th>CO2</th>\n",
       "    </tr>\n",
       "  </thead>\n",
       "  <tbody>\n",
       "    <tr>\n",
       "      <th>count</th>\n",
       "      <td>35.000000</td>\n",
       "    </tr>\n",
       "    <tr>\n",
       "      <th>mean</th>\n",
       "      <td>6.717143</td>\n",
       "    </tr>\n",
       "    <tr>\n",
       "      <th>std</th>\n",
       "      <td>3.356949</td>\n",
       "    </tr>\n",
       "    <tr>\n",
       "      <th>min</th>\n",
       "      <td>2.000000</td>\n",
       "    </tr>\n",
       "    <tr>\n",
       "      <th>25%</th>\n",
       "      <td>4.450000</td>\n",
       "    </tr>\n",
       "    <tr>\n",
       "      <th>50%</th>\n",
       "      <td>5.900000</td>\n",
       "    </tr>\n",
       "    <tr>\n",
       "      <th>75%</th>\n",
       "      <td>8.000000</td>\n",
       "    </tr>\n",
       "    <tr>\n",
       "      <th>max</th>\n",
       "      <td>16.500000</td>\n",
       "    </tr>\n",
       "  </tbody>\n",
       "</table>\n",
       "</div>"
      ],
      "text/plain": [
       "             CO2\n",
       "count  35.000000\n",
       "mean    6.717143\n",
       "std     3.356949\n",
       "min     2.000000\n",
       "25%     4.450000\n",
       "50%     5.900000\n",
       "75%     8.000000\n",
       "max    16.500000"
      ]
     },
     "execution_count": 13,
     "metadata": {},
     "output_type": "execute_result"
    }
   ],
   "source": [
    "carbon.describe()"
   ]
  },
  {
   "cell_type": "code",
   "execution_count": 15,
   "id": "a5c67744",
   "metadata": {},
   "outputs": [
    {
     "data": {
      "text/html": [
       "<div>\n",
       "<style scoped>\n",
       "    .dataframe tbody tr th:only-of-type {\n",
       "        vertical-align: middle;\n",
       "    }\n",
       "\n",
       "    .dataframe tbody tr th {\n",
       "        vertical-align: top;\n",
       "    }\n",
       "\n",
       "    .dataframe thead th {\n",
       "        text-align: right;\n",
       "    }\n",
       "</style>\n",
       "<table border=\"1\" class=\"dataframe\">\n",
       "  <thead>\n",
       "    <tr style=\"text-align: right;\">\n",
       "      <th></th>\n",
       "      <th>Nation</th>\n",
       "      <th>CO2</th>\n",
       "    </tr>\n",
       "  </thead>\n",
       "  <tbody>\n",
       "    <tr>\n",
       "      <th>1</th>\n",
       "      <td>Australia</td>\n",
       "      <td>15.4</td>\n",
       "    </tr>\n",
       "    <tr>\n",
       "      <th>6</th>\n",
       "      <td>Canada</td>\n",
       "      <td>15.1</td>\n",
       "    </tr>\n",
       "    <tr>\n",
       "      <th>34</th>\n",
       "      <td>US</td>\n",
       "      <td>16.5</td>\n",
       "    </tr>\n",
       "  </tbody>\n",
       "</table>\n",
       "</div>"
      ],
      "text/plain": [
       "       Nation   CO2\n",
       "1   Australia  15.4\n",
       "6      Canada  15.1\n",
       "34         US  16.5"
      ]
     },
     "execution_count": 15,
     "metadata": {},
     "output_type": "execute_result"
    }
   ],
   "source": [
    "carbon.loc[carbon['CO2'] > 10]"
   ]
  },
  {
   "cell_type": "markdown",
   "id": "a77e33f3",
   "metadata": {},
   "source": [
    "    Western nations have an average index of 6.7 CO2 emissions; while the median is of 5.9. This bias is caused by some \n",
    "    outliers around 15. The spread of values is aproximmately 3.36."
   ]
  },
  {
   "cell_type": "markdown",
   "id": "d5f8e226",
   "metadata": {},
   "source": [
    "**1.11** According to Statistics Canada, for the Canadian population having income in 2019, annual income had a median of \\$35,000 and mean of 46,700. What would you predict about the shape of the distribution? Why?"
   ]
  },
  {
   "cell_type": "markdown",
   "id": "91fc8b4e",
   "metadata": {},
   "source": [
    "    It would be skewed to the right because the mean is larger than the median."
   ]
  },
  {
   "cell_type": "markdown",
   "id": "6ed1f852",
   "metadata": {},
   "source": [
    "## Methods and concepts"
   ]
  },
  {
   "cell_type": "markdown",
   "id": "fbdb3746",
   "metadata": {},
   "source": [
    "**1.29** A systematic random sample of n subjects from a population of size $N$ selects a subject at random from the first $k = N/n$ in the population list and then selects every kth subject listed after that one. Explain why this is not a simple random sample."
   ]
  },
  {
   "cell_type": "markdown",
   "id": "ab24e742",
   "metadata": {},
   "source": [
    "    The number of possible samples that could be selected is less than all possible samples. Therefore, many samples have no possibility of being selected."
   ]
  },
  {
   "cell_type": "markdown",
   "id": "d432f3fd",
   "metadata": {},
   "source": [
    "**1.36** Construct a set of data for which the mean and median are identical."
   ]
  },
  {
   "cell_type": "markdown",
   "id": "36eaa2cc",
   "metadata": {},
   "source": [
    "    The set [3, 1, 2, 1, 3] have a mean and median of 2."
   ]
  }
 ],
 "metadata": {
  "kernelspec": {
   "display_name": "Python [conda env:ambiente]",
   "language": "python",
   "name": "conda-env-ambiente-py"
  },
  "language_info": {
   "codemirror_mode": {
    "name": "ipython",
    "version": 3
   },
   "file_extension": ".py",
   "mimetype": "text/x-python",
   "name": "python",
   "nbconvert_exporter": "python",
   "pygments_lexer": "ipython3",
   "version": "3.12.3"
  }
 },
 "nbformat": 4,
 "nbformat_minor": 5
}
