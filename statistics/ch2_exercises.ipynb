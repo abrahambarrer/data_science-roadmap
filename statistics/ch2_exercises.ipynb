{
 "cells": [
  {
   "cell_type": "markdown",
   "id": "edade0cd",
   "metadata": {},
   "source": [
    "# Exercises (2)"
   ]
  },
  {
   "cell_type": "markdown",
   "id": "39fd8b92",
   "metadata": {},
   "source": [
    "## Data analysis and applications"
   ]
  },
  {
   "cell_type": "markdown",
   "id": "b966b5d5",
   "metadata": {},
   "source": [
    "**2.1** For the rain simulation example in Section 2.1.1, but with probability of rain 0.30 on any given day, simulate the outcome \n",
    "\n",
    "(a) on the next day"
   ]
  },
  {
   "cell_type": "code",
   "execution_count": 1,
   "id": "356693b5",
   "metadata": {},
   "outputs": [],
   "source": [
    "import numpy as np"
   ]
  },
  {
   "cell_type": "code",
   "execution_count": 7,
   "id": "7ab62816",
   "metadata": {},
   "outputs": [
    {
     "data": {
      "text/plain": [
       "array([1])"
      ]
     },
     "execution_count": 7,
     "metadata": {},
     "output_type": "execute_result"
    }
   ],
   "source": [
    "np.random.binomial(1, 0.3, size=1)"
   ]
  },
  {
   "cell_type": "markdown",
   "id": "2ef43796",
   "metadata": {},
   "source": [
    "(b) the next 10 days. "
   ]
  },
  {
   "cell_type": "code",
   "execution_count": 10,
   "id": "449de319",
   "metadata": {},
   "outputs": [
    {
     "data": {
      "text/plain": [
       "array([3])"
      ]
     },
     "execution_count": 10,
     "metadata": {},
     "output_type": "execute_result"
    }
   ],
   "source": [
    "np.random.binomial(10, 0.3, size=1)"
   ]
  },
  {
   "cell_type": "markdown",
   "id": "ddc93371",
   "metadata": {},
   "source": [
    "(c) Simulate the proportion of days of rain for the next (i) 100 days, (ii) 10,000 days, (iii) 1,000,000 days. Use the simulation to explain the long-run relative frequency definition of probability."
   ]
  },
  {
   "cell_type": "code",
   "execution_count": 12,
   "id": "b7935dc1",
   "metadata": {},
   "outputs": [
    {
     "name": "stdout",
     "output_type": "stream",
     "text": [
      "Rainy days: 32, Proportion: 0.32\n",
      "Rainy days: 3054, Proportion: 0.3054\n",
      "Rainy days: 300434, Proportion: 0.300434\n"
     ]
    }
   ],
   "source": [
    "days = [100, 10000, 1000000]\n",
    "for ndays in days:\n",
    "    outcome = np.random.binomial(ndays, 0.3, size=1).sum()\n",
    "    print(f'Rainy days: {outcome}, Proportion: {outcome / ndays}')"
   ]
  },
  {
   "cell_type": "markdown",
   "id": "51e2b3a4",
   "metadata": {},
   "source": [
    "    We can see that as the number of simulations increases, the proportion tends to be 0.3."
   ]
  },
  {
   "cell_type": "markdown",
   "id": "d20dc1c2",
   "metadata": {},
   "source": [
    "**2.2** Data analysts often implement statistical inference methods by setting the probability of a correct inference equal to 0.95. Let A denote the event that an inference for the population about men is correct. Let B represent the event of a corresponding inference about women being correct. Suppose that these are independent events.\n",
    "\n",
    "(a) Find the probability that (i) both inferences are correct, (ii) neither inference is correct."
   ]
  },
  {
   "cell_type": "markdown",
   "id": "c79e8780",
   "metadata": {},
   "source": [
    "> i) Cause A and B are independent events, we can obtain \n",
    "\n",
    "$$P(A\\cap B)=P(A)P(B)=0.95\\times0.95=0.9025$$\n",
    "\n",
    "> ii) The complement probability of A and B is given by $P(A^c)=P(B^c)=0.05$. Therefore \n",
    "\n",
    "$$P(A^c\\cap B^c)=0.05\\times 0.05=0.0025$$"
   ]
  },
  {
   "cell_type": "markdown",
   "id": "1a227b99",
   "metadata": {},
   "source": [
    "(b) Construct the probability distribution for $Y$ = number of correct inferences.\n",
    "\n",
    "> The probability distribution is given by:\n",
    "\n",
    "|y|P(y)|\n",
    "|-|----|\n",
    "|0|0.0025|\n",
    "|1|0.095|\n",
    "|2|0.9025|"
   ]
  },
  {
   "cell_type": "markdown",
   "id": "8429e16f",
   "metadata": {},
   "source": [
    "(c) With what probability would each inference need to be correct in order for the probability to be 0.95 that both are correct?\n",
    "\n",
    "> If we supposed that $P(A)=P(B)$, then $P(A)=P(B)=\\sqrt{0.95}$."
   ]
  },
  {
   "cell_type": "markdown",
   "id": "e1aeafa7",
   "metadata": {},
   "source": [
    "**2.3** According to recent data at the FBI website, of all Blacks slain in the U.S., 85% are slain by Blacks, and of all Whites slain, 93% are slain by Whites. Let $\\text{Y = victim’s race}$ and $X = \\text{offender’s race}$"
   ]
  },
  {
   "cell_type": "markdown",
   "id": "70c39009",
   "metadata": {},
   "source": [
    "(a) Which conditional distribution do these probabilities refer to, Y given X, or X given Y ?"
   ]
  },
  {
   "cell_type": "markdown",
   "id": "3066f1c9",
   "metadata": {},
   "source": [
    "> X given Y"
   ]
  },
  {
   "cell_type": "markdown",
   "id": "b5552e34",
   "metadata": {},
   "source": [
    "(b) Given that a murderer was White, what other probability do you need to estimate the conditional probability that the victim was White? To illustrate, fix a value of 0.60 for that other probability and find the conditional probability."
   ]
  },
  {
   "cell_type": "markdown",
   "id": "8c4f725b",
   "metadata": {},
   "source": [
    "> Since we have X given Y, we want to calculate a probability of Y given X, so:\n",
    "\n",
    "$$P(Y\\mid X)=\\frac{P(X\\mid Y)P(Y)}{P(X\\mid Y)P(Y)+P(X\\mid Y^c)P(Y^c)}$$\n",
    "\n",
    "> Suponiendo que $P(Y=\\text{White})=0.60$, y teniendo en cuenta que $P(X\\mid Y^c)=P(\\text{Black}\\mid \\text{White})=0.15$ tenemos que \n",
    "\n",
    "$$P(Y=\\text{white}\\mid X\\text{White})=\\frac{(0.93)(0.6)}{()}$$"
   ]
  },
  {
   "cell_type": "code",
   "execution_count": 15,
   "id": "aabb6b34",
   "metadata": {},
   "outputs": [
    {
     "data": {
      "text/plain": [
       "0.9029126213592232"
      ]
     },
     "execution_count": 15,
     "metadata": {},
     "output_type": "execute_result"
    }
   ],
   "source": [
    "0.93*0.6/ (0.558 + 0.15*0.4)"
   ]
  }
 ],
 "metadata": {
  "kernelspec": {
   "display_name": "Python [conda env:ambiente]",
   "language": "python",
   "name": "conda-env-ambiente-py"
  },
  "language_info": {
   "codemirror_mode": {
    "name": "ipython",
    "version": 3
   },
   "file_extension": ".py",
   "mimetype": "text/x-python",
   "name": "python",
   "nbconvert_exporter": "python",
   "pygments_lexer": "ipython3",
   "version": "3.12.3"
  }
 },
 "nbformat": 4,
 "nbformat_minor": 5
}
