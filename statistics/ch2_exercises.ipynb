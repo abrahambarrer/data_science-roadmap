{
 "cells": [
  {
   "cell_type": "markdown",
   "id": "edade0cd",
   "metadata": {},
   "source": [
    "# Exercises (2)"
   ]
  },
  {
   "cell_type": "markdown",
   "id": "39fd8b92",
   "metadata": {},
   "source": [
    "## Data analysis and applications"
   ]
  },
  {
   "cell_type": "markdown",
   "id": "b966b5d5",
   "metadata": {},
   "source": [
    "2.1 For the rain simulation example in Section 2.1.1, but with probability of rain 0.30 on any given day, simulate the outcome \n",
    "\n",
    "(a) on the next day, \n",
    "\n",
    "(b) the next 10 days. \n",
    "\n",
    "(c) Simulate the proportion of days of rain for the next (i) 100 days, (ii) 10,000 days, (iii) 1,000,000 days. Use the simulation to explain the long-run relative frequency definition of probability."
   ]
  },
  {
   "cell_type": "code",
   "execution_count": 1,
   "id": "356693b5",
   "metadata": {},
   "outputs": [],
   "source": [
    "import numpy as np"
   ]
  },
  {
   "cell_type": "code",
   "execution_count": 2,
   "id": "7ab62816",
   "metadata": {},
   "outputs": [
    {
     "data": {
      "text/plain": [
       "array([1])"
      ]
     },
     "execution_count": 2,
     "metadata": {},
     "output_type": "execute_result"
    }
   ],
   "source": [
    "np.random.binomial(1, 0.3, size=1)"
   ]
  },
  {
   "cell_type": "code",
   "execution_count": null,
   "id": "449de319",
   "metadata": {},
   "outputs": [],
   "source": []
  }
 ],
 "metadata": {
  "kernelspec": {
   "display_name": "Python [conda env:ambiente]",
   "language": "python",
   "name": "conda-env-ambiente-py"
  },
  "language_info": {
   "codemirror_mode": {
    "name": "ipython",
    "version": 3
   },
   "file_extension": ".py",
   "mimetype": "text/x-python",
   "name": "python",
   "nbconvert_exporter": "python",
   "pygments_lexer": "ipython3",
   "version": "3.12.3"
  }
 },
 "nbformat": 4,
 "nbformat_minor": 5
}
